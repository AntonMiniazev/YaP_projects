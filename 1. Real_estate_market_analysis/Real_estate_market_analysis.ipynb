{
 "cells": [
  {
   "cell_type": "markdown",
   "id": "8db36db0",
   "metadata": {},
   "source": [
    "## Table of Contents\n",
    "* [Introduction](#chapter1)\n",
    "    * [Description](#section1_1)\n",
    "    * [Main aims](#section1_2)\n",
    "    * [Data description](#section1_3)\n",
    "* [Preparation](#chapter2)\n",
    "    * [Importing libs](#section2_1)\n",
    "    * [Data import, research and preparation](#section2_2) \n",
    "* [Exploratory data analysis](#chapter3)\n",
    "    * [Apartment parameters](#section3_1)\n",
    "    * [Speed of apartment sale](#section3_2)\n",
    "    * [Apartment Parameters Observations](#section3_3)\n",
    "    * [Factors affecting the price of apartment](#section3_4)\n",
    "    * [Average price in the top 10 locations with the most number of ads](#section3_5)\n",
    "        * [Top 10 locations with the largest number of ads and the price of one square meter in each of the locations ](#sub_section3_5_1)\n",
    "        * [Locations with the highest cost per square meter](#sub_section3_5_2)\n",
    "        * [Locations with the lowest cost per square meter](#sub_section3_5_3)\n",
    "    * [The price of apartments in St. Petersburg depending on the distance from the center](#section3_6)    \n",
    "* [Results](#chapter4)        "
   ]
  },
  {
   "cell_type": "markdown",
   "id": "18287eeb",
   "metadata": {},
   "source": [
    "# 1. Introduction <a class=\"anchor\" id=\"chapter1\"></a>"
   ]
  },
  {
   "cell_type": "markdown",
   "id": "d0c8c711",
   "metadata": {},
   "source": [
    "### 1.1 Description <a class=\"anchor\" id=\"section1_1\"></a>"
   ]
  },
  {
   "cell_type": "markdown",
   "id": "a6d77091",
   "metadata": {},
   "source": [
    "At our disposal is the data sample of the Yandex.Realty service - an archive of ads for the sale of apartments in St. Petersburg and neighboring settlements for several years."
   ]
  },
  {
   "cell_type": "markdown",
   "id": "88b3579d",
   "metadata": {},
   "source": [
    "### 1.2 Main aims: <a class=\"anchor\" id=\"section1_2\"></a>\n",
    "We need to learn how to determine the market value of real estate. Our job is to set the parameters. This will allow to build an automated system: it will track anomalies and fraudulent activity."
   ]
  },
  {
   "cell_type": "markdown",
   "id": "67488319",
   "metadata": {},
   "source": [
    "### 1.3 Data description <a class=\"anchor\" id=\"section1_3\"></a>"
   ]
  },
  {
   "cell_type": "markdown",
   "id": "a8a139da",
   "metadata": {},
   "source": [
    "Two types of data are available for each apartment for sale. The first ones are entered by the user, the second ones are obtained automatically on the basis of cartographic data. For example, the distance to the center, airport, nearest park and reservoir.\n",
    "\n",
    "Dataset includes:\n",
    "- `airports_nearest` — distance to the nearest airport in meters (m)\n",
    "- `balcony` — number of balconies\n",
    "- `ceiling_height` — ceiling height (m)\n",
    "- `cityCenters_nearest` — distance to city center (m)\n",
    "- `days_exposition` — number of days the ad was posted (from publication to removal)\n",
    "- `first_day_exposition` — exposition date\n",
    "- `floor` — floor\n",
    "- `floors_total` — floors in the building\n",
    "- `is_apartment` — apartments (boolean)\n",
    "- `kitchen_area` — kitchen area in square meters (m²)\n",
    "- `last_price` — price at the time of removal from publication\n",
    "- `living_area` — living area in square meters (m²)\n",
    "- `locality_name` — locality name\n",
    "- `open_plan` — free layout (boolean type)\n",
    "- `parks_around3000` — number of parks within a 3 km radius\n",
    "- `parks_nearest` — distance to nearest park (m)\n",
    "- `ponds_around3000` — number of water bodies within a radius of 3 km\n",
    "- `ponds_nearest` — distance to the nearest body of water (m)\n",
    "- `rooms` — number of rooms\n",
    "- `studio` — studio type (boolean)\n",
    "- `total_area` — total area of the apartment in square meters (m²)\n",
    "- `total_images` — number of photos of the apartment in the ad"
   ]
  },
  {
   "cell_type": "markdown",
   "id": "6741164f",
   "metadata": {},
   "source": [
    "# 2. Preparation <a class=\"anchor\" id=\"chapter2\"></a>"
   ]
  },
  {
   "cell_type": "markdown",
   "id": "85af99de",
   "metadata": {},
   "source": [
    "### 2.1 Importing libs <a class=\"anchor\" id=\"section2_1\"></a>"
   ]
  },
  {
   "cell_type": "code",
   "execution_count": 1,
   "id": "8229f35a",
   "metadata": {},
   "outputs": [],
   "source": [
    "import pandas as pd\n",
    "import re as re\n",
    "import math\n",
    "import numpy as np\n",
    "import matplotlib.pyplot as plt\n",
    "import seaborn as sns\n",
    "import warnings\n",
    "warnings.filterwarnings(\"ignore\")\n",
    "pd.set_option(\"display.max_columns\", None)\n",
    "nan = np.nan"
   ]
  },
  {
   "cell_type": "markdown",
   "id": "f9cce418",
   "metadata": {},
   "source": [
    "### 2.2 Data import, research and preparation <a class=\"anchor\" id=\"section2_2\"></a>"
   ]
  },
  {
   "cell_type": "code",
   "execution_count": 2,
   "id": "19be5f0c",
   "metadata": {},
   "outputs": [
    {
     "data": {
      "text/html": [
       "<div>\n",
       "<style scoped>\n",
       "    .dataframe tbody tr th:only-of-type {\n",
       "        vertical-align: middle;\n",
       "    }\n",
       "\n",
       "    .dataframe tbody tr th {\n",
       "        vertical-align: top;\n",
       "    }\n",
       "\n",
       "    .dataframe thead th {\n",
       "        text-align: right;\n",
       "    }\n",
       "</style>\n",
       "<table border=\"1\" class=\"dataframe\">\n",
       "  <thead>\n",
       "    <tr style=\"text-align: right;\">\n",
       "      <th></th>\n",
       "      <th>total_images</th>\n",
       "      <th>last_price</th>\n",
       "      <th>total_area</th>\n",
       "      <th>first_day_exposition</th>\n",
       "      <th>rooms</th>\n",
       "      <th>ceiling_height</th>\n",
       "      <th>floors_total</th>\n",
       "      <th>living_area</th>\n",
       "      <th>floor</th>\n",
       "      <th>is_apartment</th>\n",
       "      <th>studio</th>\n",
       "      <th>open_plan</th>\n",
       "      <th>kitchen_area</th>\n",
       "      <th>balcony</th>\n",
       "      <th>locality_name</th>\n",
       "      <th>airports_nearest</th>\n",
       "      <th>cityCenters_nearest</th>\n",
       "      <th>parks_around3000</th>\n",
       "      <th>parks_nearest</th>\n",
       "      <th>ponds_around3000</th>\n",
       "      <th>ponds_nearest</th>\n",
       "      <th>days_exposition</th>\n",
       "    </tr>\n",
       "  </thead>\n",
       "  <tbody>\n",
       "    <tr>\n",
       "      <th>0</th>\n",
       "      <td>20</td>\n",
       "      <td>13000000.0</td>\n",
       "      <td>108.0</td>\n",
       "      <td>2019-03-07T00:00:00</td>\n",
       "      <td>3</td>\n",
       "      <td>2.70</td>\n",
       "      <td>16.0</td>\n",
       "      <td>51.0</td>\n",
       "      <td>8</td>\n",
       "      <td>NaN</td>\n",
       "      <td>False</td>\n",
       "      <td>False</td>\n",
       "      <td>25.0</td>\n",
       "      <td>NaN</td>\n",
       "      <td>Санкт-Петербург</td>\n",
       "      <td>18863.0</td>\n",
       "      <td>16028.0</td>\n",
       "      <td>1.0</td>\n",
       "      <td>482.0</td>\n",
       "      <td>2.0</td>\n",
       "      <td>755.0</td>\n",
       "      <td>NaN</td>\n",
       "    </tr>\n",
       "    <tr>\n",
       "      <th>1</th>\n",
       "      <td>7</td>\n",
       "      <td>3350000.0</td>\n",
       "      <td>40.4</td>\n",
       "      <td>2018-12-04T00:00:00</td>\n",
       "      <td>1</td>\n",
       "      <td>NaN</td>\n",
       "      <td>11.0</td>\n",
       "      <td>18.6</td>\n",
       "      <td>1</td>\n",
       "      <td>NaN</td>\n",
       "      <td>False</td>\n",
       "      <td>False</td>\n",
       "      <td>11.0</td>\n",
       "      <td>2.0</td>\n",
       "      <td>посёлок Шушары</td>\n",
       "      <td>12817.0</td>\n",
       "      <td>18603.0</td>\n",
       "      <td>0.0</td>\n",
       "      <td>NaN</td>\n",
       "      <td>0.0</td>\n",
       "      <td>NaN</td>\n",
       "      <td>81.0</td>\n",
       "    </tr>\n",
       "    <tr>\n",
       "      <th>2</th>\n",
       "      <td>10</td>\n",
       "      <td>5196000.0</td>\n",
       "      <td>56.0</td>\n",
       "      <td>2015-08-20T00:00:00</td>\n",
       "      <td>2</td>\n",
       "      <td>NaN</td>\n",
       "      <td>5.0</td>\n",
       "      <td>34.3</td>\n",
       "      <td>4</td>\n",
       "      <td>NaN</td>\n",
       "      <td>False</td>\n",
       "      <td>False</td>\n",
       "      <td>8.3</td>\n",
       "      <td>0.0</td>\n",
       "      <td>Санкт-Петербург</td>\n",
       "      <td>21741.0</td>\n",
       "      <td>13933.0</td>\n",
       "      <td>1.0</td>\n",
       "      <td>90.0</td>\n",
       "      <td>2.0</td>\n",
       "      <td>574.0</td>\n",
       "      <td>558.0</td>\n",
       "    </tr>\n",
       "    <tr>\n",
       "      <th>3</th>\n",
       "      <td>0</td>\n",
       "      <td>64900000.0</td>\n",
       "      <td>159.0</td>\n",
       "      <td>2015-07-24T00:00:00</td>\n",
       "      <td>3</td>\n",
       "      <td>NaN</td>\n",
       "      <td>14.0</td>\n",
       "      <td>NaN</td>\n",
       "      <td>9</td>\n",
       "      <td>NaN</td>\n",
       "      <td>False</td>\n",
       "      <td>False</td>\n",
       "      <td>NaN</td>\n",
       "      <td>0.0</td>\n",
       "      <td>Санкт-Петербург</td>\n",
       "      <td>28098.0</td>\n",
       "      <td>6800.0</td>\n",
       "      <td>2.0</td>\n",
       "      <td>84.0</td>\n",
       "      <td>3.0</td>\n",
       "      <td>234.0</td>\n",
       "      <td>424.0</td>\n",
       "    </tr>\n",
       "    <tr>\n",
       "      <th>4</th>\n",
       "      <td>2</td>\n",
       "      <td>10000000.0</td>\n",
       "      <td>100.0</td>\n",
       "      <td>2018-06-19T00:00:00</td>\n",
       "      <td>2</td>\n",
       "      <td>3.03</td>\n",
       "      <td>14.0</td>\n",
       "      <td>32.0</td>\n",
       "      <td>13</td>\n",
       "      <td>NaN</td>\n",
       "      <td>False</td>\n",
       "      <td>False</td>\n",
       "      <td>41.0</td>\n",
       "      <td>NaN</td>\n",
       "      <td>Санкт-Петербург</td>\n",
       "      <td>31856.0</td>\n",
       "      <td>8098.0</td>\n",
       "      <td>2.0</td>\n",
       "      <td>112.0</td>\n",
       "      <td>1.0</td>\n",
       "      <td>48.0</td>\n",
       "      <td>121.0</td>\n",
       "    </tr>\n",
       "  </tbody>\n",
       "</table>\n",
       "</div>"
      ],
      "text/plain": [
       "   total_images  last_price  total_area first_day_exposition  rooms  \\\n",
       "0            20  13000000.0       108.0  2019-03-07T00:00:00      3   \n",
       "1             7   3350000.0        40.4  2018-12-04T00:00:00      1   \n",
       "2            10   5196000.0        56.0  2015-08-20T00:00:00      2   \n",
       "3             0  64900000.0       159.0  2015-07-24T00:00:00      3   \n",
       "4             2  10000000.0       100.0  2018-06-19T00:00:00      2   \n",
       "\n",
       "   ceiling_height  floors_total  living_area  floor is_apartment  studio  \\\n",
       "0            2.70          16.0         51.0      8          NaN   False   \n",
       "1             NaN          11.0         18.6      1          NaN   False   \n",
       "2             NaN           5.0         34.3      4          NaN   False   \n",
       "3             NaN          14.0          NaN      9          NaN   False   \n",
       "4            3.03          14.0         32.0     13          NaN   False   \n",
       "\n",
       "   open_plan  kitchen_area  balcony    locality_name  airports_nearest  \\\n",
       "0      False          25.0      NaN  Санкт-Петербург           18863.0   \n",
       "1      False          11.0      2.0   посёлок Шушары           12817.0   \n",
       "2      False           8.3      0.0  Санкт-Петербург           21741.0   \n",
       "3      False           NaN      0.0  Санкт-Петербург           28098.0   \n",
       "4      False          41.0      NaN  Санкт-Петербург           31856.0   \n",
       "\n",
       "   cityCenters_nearest  parks_around3000  parks_nearest  ponds_around3000  \\\n",
       "0              16028.0               1.0          482.0               2.0   \n",
       "1              18603.0               0.0            NaN               0.0   \n",
       "2              13933.0               1.0           90.0               2.0   \n",
       "3               6800.0               2.0           84.0               3.0   \n",
       "4               8098.0               2.0          112.0               1.0   \n",
       "\n",
       "   ponds_nearest  days_exposition  \n",
       "0          755.0              NaN  \n",
       "1            NaN             81.0  \n",
       "2          574.0            558.0  \n",
       "3          234.0            424.0  \n",
       "4           48.0            121.0  "
      ]
     },
     "execution_count": 2,
     "metadata": {},
     "output_type": "execute_result"
    }
   ],
   "source": [
    "# Let's import ouor dataset \n",
    "url = 'https://raw.githubusercontent.com/AntonMiniazev/YaP_projects/main/Real_estate_market_analysis/real_estate_data.csv'\n",
    "df = pd.read_csv(url, sep='\\t', decimal = '.')\n",
    "df.head()"
   ]
  },
  {
   "cell_type": "code",
   "execution_count": 3,
   "id": "35cd03ae",
   "metadata": {},
   "outputs": [
    {
     "name": "stdout",
     "output_type": "stream",
     "text": [
      "<class 'pandas.core.frame.DataFrame'>\n",
      "RangeIndex: 23699 entries, 0 to 23698\n",
      "Data columns (total 22 columns):\n",
      " #   Column                Non-Null Count  Dtype  \n",
      "---  ------                --------------  -----  \n",
      " 0   total_images          23699 non-null  int64  \n",
      " 1   last_price            23699 non-null  float64\n",
      " 2   total_area            23699 non-null  float64\n",
      " 3   first_day_exposition  23699 non-null  object \n",
      " 4   rooms                 23699 non-null  int64  \n",
      " 5   ceiling_height        14504 non-null  float64\n",
      " 6   floors_total          23613 non-null  float64\n",
      " 7   living_area           21796 non-null  float64\n",
      " 8   floor                 23699 non-null  int64  \n",
      " 9   is_apartment          2775 non-null   object \n",
      " 10  studio                23699 non-null  bool   \n",
      " 11  open_plan             23699 non-null  bool   \n",
      " 12  kitchen_area          21421 non-null  float64\n",
      " 13  balcony               12180 non-null  float64\n",
      " 14  locality_name         23650 non-null  object \n",
      " 15  airports_nearest      18157 non-null  float64\n",
      " 16  cityCenters_nearest   18180 non-null  float64\n",
      " 17  parks_around3000      18181 non-null  float64\n",
      " 18  parks_nearest         8079 non-null   float64\n",
      " 19  ponds_around3000      18181 non-null  float64\n",
      " 20  ponds_nearest         9110 non-null   float64\n",
      " 21  days_exposition       20518 non-null  float64\n",
      "dtypes: bool(2), float64(14), int64(3), object(3)\n",
      "memory usage: 3.7+ MB\n"
     ]
    }
   ],
   "source": [
    "# Exploring info \n",
    "df.info()"
   ]
  },
  {
   "cell_type": "markdown",
   "id": "425dcbf1",
   "metadata": {},
   "source": [
    "**There are a few issues with data, which should be corrected:**\n",
    "<ul>\n",
    " <li>first_day_exposition - type object should be changed into date;</li>\n",
    " <li>last_price и total_area - type float64 should be changed into int32;</li>    \n",
    " <li>is_apartment - 20924  apartments doesn't have an attribute, can be set as False. Probably, landowners would have indicated belonging to the apartment.</li>\n",
    " <li>balcony - lack of data may indicate a lack of balconies. Gaps can be replaced with 0;</li>\n",
    " <li>locality_name - the absence of a settlement will be grouped into other;</li>\n",
    " <li>last_price - there are outliers with the price of 12190 RUB (index 8793). It is likely that the price is indicated in thousand rubles and it needs to be fixed;</li>  \n",
    " <li>airports_nearest - there are outliners with a distance of 0 meters (index 21085). It is likely that the data was not found and 0 was entered instead of a gap;</li>     \n",
    " </ul>"
   ]
  },
  {
   "cell_type": "code",
   "execution_count": 4,
   "id": "2215b823",
   "metadata": {},
   "outputs": [],
   "source": [
    "# Applying corrections\n",
    "df['is_apartment'].fillna(False, inplace = True)\n",
    "df['balcony'].fillna(0, inplace = True)\n",
    "df['first_day_exposition'] = pd.to_datetime(df['first_day_exposition'], format='%Y-%m-%d')\n",
    "df['locality_name'].fillna('Прочее', inplace = True)\n",
    "df = df.astype({'last_price': 'int32', 'total_area': 'int32'})\n",
    "df.loc[8793,'last_price'] = 12190000\n",
    "df.loc[21085,'airports_nearest'] = np.nan"
   ]
  },
  {
   "cell_type": "code",
   "execution_count": 5,
   "id": "c5a91466",
   "metadata": {},
   "outputs": [
    {
     "data": {
      "text/plain": [
       "array(['Санкт-Петербург', 'посёлок Шушары', 'городской посёлок Янино-1',\n",
       "       'посёлок Парголово', 'посёлок Мурино', 'Ломоносов', 'Сертолово',\n",
       "       'Петергоф', 'Пушкин', 'деревня Кудрово', 'Коммунар', 'Колпино',\n",
       "       'поселок городского типа Красный Бор', 'Гатчина', 'поселок Мурино',\n",
       "       'деревня Фёдоровское', 'Выборг', 'Кронштадт', 'Кировск',\n",
       "       'деревня Новое Девяткино', 'посёлок Металлострой',\n",
       "       'посёлок городского типа Лебяжье',\n",
       "       'посёлок городского типа Сиверский', 'поселок Молодцово',\n",
       "       'поселок городского типа Кузьмоловский',\n",
       "       'садовое товарищество Новая Ропша', 'Павловск',\n",
       "       'деревня Пикколово', 'Всеволожск', 'Волхов', 'Кингисепп',\n",
       "       'Приозерск', 'Сестрорецк', 'деревня Куттузи', 'посёлок Аннино',\n",
       "       'поселок городского типа Ефимовский', 'посёлок Плодовое',\n",
       "       'деревня Заклинье', 'поселок Торковичи', 'поселок Первомайское',\n",
       "       'Красное Село', 'посёлок Понтонный', 'Сясьстрой', 'деревня Старая',\n",
       "       'деревня Лесколово', 'посёлок Новый Свет', 'Сланцы',\n",
       "       'село Путилово', 'Ивангород', 'Мурино', 'Шлиссельбург',\n",
       "       'Никольское', 'Зеленогорск', 'Сосновый Бор', 'поселок Новый Свет',\n",
       "       'деревня Оржицы', 'деревня Кальтино', 'Кудрово',\n",
       "       'поселок Романовка', 'посёлок Бугры', 'поселок Бугры',\n",
       "       'поселок городского типа Рощино', 'Кириши', 'Луга', 'Волосово',\n",
       "       'Отрадное', 'село Павлово', 'поселок Оредеж', 'село Копорье',\n",
       "       'посёлок городского типа Красный Бор', 'посёлок Молодёжное',\n",
       "       'Тихвин', 'посёлок Победа', 'деревня Нурма',\n",
       "       'поселок городского типа Синявино', 'Тосно',\n",
       "       'посёлок городского типа Кузьмоловский', 'посёлок Стрельна',\n",
       "       'Бокситогорск', 'посёлок Александровская', 'деревня Лопухинка',\n",
       "       'Пикалёво', 'поселок Терволово',\n",
       "       'поселок городского типа Советский', 'Подпорожье',\n",
       "       'посёлок Петровское', 'посёлок городского типа Токсово',\n",
       "       'поселок Сельцо', 'посёлок городского типа Вырица',\n",
       "       'деревня Кипень', 'деревня Келози', 'деревня Вартемяги',\n",
       "       'посёлок Тельмана', 'поселок Севастьяново',\n",
       "       'городской поселок Большая Ижора', 'Прочее',\n",
       "       'городской посёлок Павлово', 'деревня Агалатово',\n",
       "       'посёлок Новогорелово', 'городской посёлок Лесогорский',\n",
       "       'деревня Лаголово', 'поселок Цвелодубово',\n",
       "       'поселок городского типа Рахья', 'поселок городского типа Вырица',\n",
       "       'деревня Белогорка', 'поселок Заводской',\n",
       "       'городской посёлок Новоселье', 'деревня Большие Колпаны',\n",
       "       'деревня Горбунки', 'деревня Батово', 'деревня Заневка',\n",
       "       'деревня Иссад', 'Приморск', 'городской посёлок Фёдоровское',\n",
       "       'деревня Мистолово', 'Новая Ладога', 'поселок Зимитицы',\n",
       "       'поселок Барышево', 'деревня Разметелево',\n",
       "       'поселок городского типа имени Свердлова', 'деревня Пеники',\n",
       "       'поселок Рябово', 'деревня Пудомяги', 'поселок станции Корнево',\n",
       "       'деревня Низино', 'деревня Бегуницы', 'посёлок Поляны',\n",
       "       'городской посёлок Мга', 'поселок Елизаветино',\n",
       "       'посёлок городского типа Кузнечное', 'деревня Колтуши',\n",
       "       'поселок Запорожское', 'посёлок городского типа Рощино',\n",
       "       'деревня Гостилицы', 'деревня Малое Карлино',\n",
       "       'посёлок Мичуринское', 'посёлок городского типа имени Морозова',\n",
       "       'посёлок Песочный', 'посёлок Сосново', 'деревня Аро',\n",
       "       'поселок Ильичёво', 'посёлок городского типа Тайцы',\n",
       "       'деревня Малое Верево', 'деревня Извара', 'поселок станции Вещево',\n",
       "       'село Паша', 'деревня Калитино',\n",
       "       'посёлок городского типа Ульяновка', 'деревня Чудской Бор',\n",
       "       'поселок городского типа Дубровка', 'деревня Мины',\n",
       "       'поселок Войсковицы', 'посёлок городского типа имени Свердлова',\n",
       "       'деревня Коркино', 'посёлок Ропша',\n",
       "       'поселок городского типа Приладожский', 'посёлок Щеглово',\n",
       "       'посёлок Гаврилово', 'Лодейное Поле', 'деревня Рабитицы',\n",
       "       'поселок городского типа Никольский', 'деревня Кузьмолово',\n",
       "       'деревня Малые Колпаны', 'поселок Тельмана',\n",
       "       'посёлок Петро-Славянка', 'городской посёлок Назия',\n",
       "       'посёлок Репино', 'посёлок Ильичёво', 'поселок Углово',\n",
       "       'поселок Старая Малукса', 'садовое товарищество Рахья',\n",
       "       'поселок Аннино', 'поселок Победа', 'деревня Меньково',\n",
       "       'деревня Старые Бегуницы', 'посёлок Сапёрный', 'поселок Семрино',\n",
       "       'поселок Гаврилово', 'поселок Глажево', 'поселок Кобринское',\n",
       "       'деревня Гарболово', 'деревня Юкки',\n",
       "       'поселок станции Приветнинское', 'деревня Мануйлово',\n",
       "       'деревня Пчева', 'поселок Поляны', 'поселок Цвылёво',\n",
       "       'поселок Мельниково', 'посёлок Пудость', 'посёлок Усть-Луга',\n",
       "       'Светогорск', 'Любань', 'поселок Селезнёво',\n",
       "       'поселок городского типа Рябово', 'Каменногорск', 'деревня Кривко',\n",
       "       'поселок Глебычево', 'деревня Парицы', 'поселок Жилпосёлок',\n",
       "       'посёлок городского типа Мга', 'городской поселок Янино-1',\n",
       "       'посёлок Войскорово', 'село Никольское', 'посёлок Терволово',\n",
       "       'поселок Стеклянный', 'посёлок городского типа Важины',\n",
       "       'посёлок Мыза-Ивановка', 'село Русско-Высоцкое',\n",
       "       'поселок городского типа Лебяжье',\n",
       "       'поселок городского типа Форносово', 'село Старая Ладога',\n",
       "       'поселок Житково', 'городской посёлок Виллози', 'деревня Лампово',\n",
       "       'деревня Шпаньково', 'деревня Лаврики', 'посёлок Сумино',\n",
       "       'посёлок Возрождение', 'деревня Старосиверская',\n",
       "       'посёлок Кикерино', 'поселок Возрождение',\n",
       "       'деревня Старое Хинколово', 'посёлок Пригородный',\n",
       "       'посёлок Торфяное', 'городской посёлок Будогощь',\n",
       "       'поселок Суходолье', 'поселок Красная Долина', 'деревня Хапо-Ое',\n",
       "       'поселок городского типа Дружная Горка', 'поселок Лисий Нос',\n",
       "       'деревня Яльгелево', 'посёлок Стеклянный', 'село Рождествено',\n",
       "       'деревня Старополье', 'посёлок Левашово', 'деревня Сяськелево',\n",
       "       'деревня Камышовка',\n",
       "       'садоводческое некоммерческое товарищество Лесная Поляна',\n",
       "       'деревня Хязельки', 'поселок Жилгородок',\n",
       "       'посёлок городского типа Павлово', 'деревня Ялгино',\n",
       "       'поселок Новый Учхоз', 'городской посёлок Рощино',\n",
       "       'поселок Гончарово', 'поселок Почап', 'посёлок Сапёрное',\n",
       "       'посёлок Платформа 69-й километр', 'поселок Каложицы',\n",
       "       'деревня Фалилеево', 'деревня Пельгора',\n",
       "       'поселок городского типа Лесогорский', 'деревня Торошковичи',\n",
       "       'посёлок Белоостров', 'посёлок Алексеевка', 'поселок Серебрянский',\n",
       "       'поселок Лукаши', 'поселок Петровское', 'деревня Щеглово',\n",
       "       'поселок Мичуринское', 'деревня Тарасово', 'поселок Кингисеппский',\n",
       "       'посёлок при железнодорожной станции Вещево', 'поселок Ушаки',\n",
       "       'деревня Котлы', 'деревня Сижно', 'деревня Торосово',\n",
       "       'посёлок Форт Красная Горка', 'поселок городского типа Токсово',\n",
       "       'деревня Новолисино', 'посёлок станции Громово', 'деревня Глинка',\n",
       "       'посёлок Мельниково', 'поселок городского типа Назия',\n",
       "       'деревня Старая Пустошь', 'поселок Коммунары', 'поселок Починок',\n",
       "       'посёлок городского типа Вознесенье', 'деревня Разбегаево',\n",
       "       'посёлок городского типа Рябово', 'поселок Гладкое',\n",
       "       'посёлок при железнодорожной станции Приветнинское',\n",
       "       'поселок Тёсово-4', 'посёлок Жилгородок', 'деревня Бор',\n",
       "       'посёлок Коробицыно', 'деревня Большая Вруда', 'деревня Курковицы',\n",
       "       'посёлок Лисий Нос', 'городской посёлок Советский',\n",
       "       'посёлок Кобралово', 'деревня Суоранда', 'поселок Кобралово',\n",
       "       'поселок городского типа Кондратьево',\n",
       "       'коттеджный поселок Счастье', 'поселок Любань', 'деревня Реброво',\n",
       "       'деревня Зимитицы', 'деревня Тойворово', 'поселок Семиозерье',\n",
       "       'поселок Лесное', 'поселок Совхозный', 'поселок Усть-Луга',\n",
       "       'посёлок Ленинское', 'посёлок Суйда',\n",
       "       'посёлок городского типа Форносово', 'деревня Нижние Осельки',\n",
       "       'посёлок станции Свирь', 'поселок Перово', 'Высоцк',\n",
       "       'поселок Гарболово', 'село Шум', 'поселок Котельский',\n",
       "       'поселок станции Лужайка', 'деревня Большая Пустомержа',\n",
       "       'поселок Красносельское', 'деревня Вахнова Кара', 'деревня Пижма',\n",
       "       'коттеджный поселок Кивеннапа Север', 'поселок Коробицыно',\n",
       "       'поселок Ромашки', 'посёлок Перово', 'деревня Каськово',\n",
       "       'деревня Куровицы', 'посёлок Плоское', 'поселок Сумино',\n",
       "       'поселок городского типа Большая Ижора', 'поселок Кирпичное',\n",
       "       'деревня Ям-Тесово', 'деревня Раздолье', 'деревня Терпилицы',\n",
       "       'посёлок Шугозеро', 'деревня Ваганово', 'поселок Пушное',\n",
       "       'садовое товарищество Садко', 'посёлок Усть-Ижора',\n",
       "       'деревня Выскатка', 'городской посёлок Свирьстрой',\n",
       "       'поселок Громово', 'деревня Кисельня', 'посёлок Старая Малукса',\n",
       "       'деревня Трубников Бор', 'поселок Калитино',\n",
       "       'посёлок Высокоключевой', 'садовое товарищество Приладожский',\n",
       "       'посёлок Пансионат Зелёный Бор', 'деревня Ненимяки',\n",
       "       'поселок Пансионат Зелёный Бор', 'деревня Снегирёвка',\n",
       "       'деревня Рапполово', 'деревня Пустынка', 'поселок Рабитицы',\n",
       "       'деревня Большой Сабск', 'деревня Русско', 'деревня Лупполово',\n",
       "       'деревня Большое Рейзино', 'деревня Малая Романовка',\n",
       "       'поселок Дружноселье', 'поселок Пчевжа', 'поселок Володарское',\n",
       "       'деревня Нижняя', 'коттеджный посёлок Лесное', 'деревня Тихковицы',\n",
       "       'деревня Борисова Грива', 'посёлок Дзержинского'], dtype=object)"
      ]
     },
     "execution_count": 5,
     "metadata": {},
     "output_type": "execute_result"
    }
   ],
   "source": [
    "# Check locality names\n",
    "df['locality_name'].unique()"
   ]
  },
  {
   "cell_type": "markdown",
   "id": "e8f6dd98",
   "metadata": {},
   "source": [
    "* Locality names have a common problem with duplicates due to different spellings of the word \"посёлок\". There may also be different options for types of settlements. For analysis, the names of the settlements themselves will be separated by upper case."
   ]
  },
  {
   "cell_type": "code",
   "execution_count": 6,
   "id": "ffc4760b",
   "metadata": {},
   "outputs": [
    {
     "data": {
      "text/plain": [
       "365"
      ]
     },
     "execution_count": 6,
     "metadata": {},
     "output_type": "execute_result"
    }
   ],
   "source": [
    "# Checking the number of localities\n",
    "len(df['locality_name'].unique())"
   ]
  },
  {
   "cell_type": "code",
   "execution_count": 7,
   "id": "f95f24d9",
   "metadata": {},
   "outputs": [],
   "source": [
    "# Function to separate type of the settlement from its name by ' ' \n",
    "def cap_word(name):\n",
    "    result = re.findall(r\"\\b[А-Я]\\w+[-,\\s]?\\w+\", name)\n",
    "    return result[0]"
   ]
  },
  {
   "cell_type": "code",
   "execution_count": 8,
   "id": "fbed5e1f",
   "metadata": {},
   "outputs": [],
   "source": [
    "# Applying the separation\n",
    "df['locality_name_unique']=df['locality_name'].apply(lambda cw : cap_word(cw))"
   ]
  },
  {
   "cell_type": "code",
   "execution_count": 9,
   "id": "1c0a342e",
   "metadata": {},
   "outputs": [
    {
     "data": {
      "text/plain": [
       "306"
      ]
     },
     "execution_count": 9,
     "metadata": {},
     "output_type": "execute_result"
    }
   ],
   "source": [
    "# Checking again the number of localities\n",
    "len(df['locality_name_unique'].unique())"
   ]
  },
  {
   "cell_type": "markdown",
   "id": "adac46a0",
   "metadata": {},
   "source": [
    "* It is worth paying attention to apartments with low and high ceilings, which stand out from the general sample:"
   ]
  },
  {
   "cell_type": "code",
   "execution_count": 10,
   "id": "e719d8f4",
   "metadata": {},
   "outputs": [
    {
     "data": {
      "text/plain": [
       "count    14504.000000\n",
       "mean         2.771499\n",
       "std          1.261056\n",
       "min          1.000000\n",
       "25%          2.520000\n",
       "50%          2.650000\n",
       "75%          2.800000\n",
       "max        100.000000\n",
       "Name: ceiling_height, dtype: float64"
      ]
     },
     "execution_count": 10,
     "metadata": {},
     "output_type": "execute_result"
    }
   ],
   "source": [
    "# Exploring ceiling heights\n",
    "df['ceiling_height'].describe()"
   ]
  },
  {
   "cell_type": "code",
   "execution_count": 11,
   "id": "6be0d0e6",
   "metadata": {},
   "outputs": [
    {
     "data": {
      "text/plain": [
       "<Axes: >"
      ]
     },
     "execution_count": 11,
     "metadata": {},
     "output_type": "execute_result"
    },
    {
     "data": {
      "image/png": "[encoded data removed]",
      "text/plain": [
       "<Figure size 432x288 with 1 Axes>"
      ]
     },
     "metadata": {
      "needs_background": "light"
     },
     "output_type": "display_data"
    }
   ],
   "source": [
    "df['ceiling_height'].hist(bins=10,range=(0,2))"
   ]
  },
  {
   "cell_type": "code",
   "execution_count": 12,
   "id": "942b6fe7",
   "metadata": {},
   "outputs": [
    {
     "data": {
      "text/plain": [
       "<Axes: >"
      ]
     },
     "execution_count": 12,
     "metadata": {},
     "output_type": "execute_result"
    },
    {
     "data": {
      "image/png": "[encoded data removed]",
      "text/plain": [
       "<Figure size 432x288 with 1 Axes>"
      ]
     },
     "metadata": {
      "needs_background": "light"
     },
     "output_type": "display_data"
    }
   ],
   "source": [
    "df['ceiling_height'].hist(bins=25,range=(5,100))"
   ]
  },
  {
   "cell_type": "markdown",
   "id": "0f020e1a",
   "metadata": {},
   "source": [
    "**According to the height of the ceilings, the following conclusions can be drawn:**\n",
    "<ul>\n",
    " <li>Below 2 meters - probably entered areas that are not related to apartments or errors when entering a value. Can be excluded;</li>\n",
    " <li>Among apartments over 6 meters, there are those that are probably entered with an error in their order: from 20 to 40 meters are actually included in the group from 2 to 4 meters. The remaining apartments over 6 meters can be attributed to errors and excluded.</li>\n",
    "  <li>Apartments from 3.5 to 6 meters - most likely these are apartments with a non-standard height, can be left as they are and filtered further if necessary.</li>\n",
    "  <li>After processing the ceiling heights, we can apply the median to the null values to flatten the sample.</li>\n",
    "</ul>"
   ]
  },
  {
   "cell_type": "markdown",
   "id": "1f59902c",
   "metadata": {},
   "source": [
    "#### Changinig of ceiling area and number of rooms"
   ]
  },
  {
   "cell_type": "code",
   "execution_count": 13,
   "id": "e29bc77c",
   "metadata": {},
   "outputs": [],
   "source": [
    "height_for_change = df.query('ceiling_height >= 20 and ceiling_height <= 40')\n",
    "\n",
    "#Apartments with ceiling area of 20-40 meters - dividing by 10\n",
    "df['ceiling_height_good'] = df['ceiling_height'].where(~df.index.isin(height_for_change.index), df['ceiling_height']/10) \n",
    "\n",
    "too_low_height = df.query('ceiling_height_good < 2.5')\n",
    "\n",
    "#Apartments with ceiling area less than 2.5 meters - excluding outliners as inconsistent with building codes and regulations\n",
    "df = df.drop(too_low_height.index)\n",
    "\n",
    "too_big_height = df.query('ceiling_height_good > 6')\n",
    "\n",
    "#Apartments with ceilings over 6 meters - excluding\n",
    "df = df.drop(too_big_height.index)\n",
    "\n",
    "#Apartments with ceilings without data - inserting the most popular value usind mode()\n",
    "df['ceiling_height_good'].fillna(df['ceiling_height_good'].mode(),inplace=True)"
   ]
  },
  {
   "cell_type": "code",
   "execution_count": 14,
   "id": "4da88e8f",
   "metadata": {},
   "outputs": [
    {
     "data": {
      "text/plain": [
       "<Axes: >"
      ]
     },
     "execution_count": 14,
     "metadata": {},
     "output_type": "execute_result"
    },
    {
     "data": {
      "image/png": "[encoded data removed]",
      "text/plain": [
       "<Figure size 432x288 with 1 Axes>"
      ]
     },
     "metadata": {
      "needs_background": "light"
     },
     "output_type": "display_data"
    }
   ],
   "source": [
    "# let's see the distribution of an updated ceiling height date\n",
    "df['ceiling_height_good'].hist(bins=25)"
   ]
  },
  {
   "cell_type": "markdown",
   "id": "8d20c771",
   "metadata": {},
   "source": [
    "* The sample also includes apartments with 0 rooms and different sizes. Most likely this is an error occured during entering the number of rooms and such apartments should be excluded."
   ]
  },
  {
   "cell_type": "code",
   "execution_count": 15,
   "id": "feddae42",
   "metadata": {},
   "outputs": [
    {
     "data": {
      "text/plain": [
       "<Axes: >"
      ]
     },
     "execution_count": 15,
     "metadata": {},
     "output_type": "execute_result"
    },
    {
     "data": {
      "image/png": "[encoded data removed]",
      "text/plain": [
       "<Figure size 432x288 with 1 Axes>"
      ]
     },
     "metadata": {
      "needs_background": "light"
     },
     "output_type": "display_data"
    }
   ],
   "source": [
    "df[df['rooms'] == 0]['total_area'].hist(bins=30)"
   ]
  },
  {
   "cell_type": "code",
   "execution_count": 16,
   "id": "16592d71",
   "metadata": {},
   "outputs": [],
   "source": [
    "#Apartments with 0 rooms - excluding\n",
    "zero_rooms = df.query('rooms == 0')\n",
    "df = df.drop(zero_rooms.index)"
   ]
  },
  {
   "cell_type": "code",
   "execution_count": 17,
   "id": "c7919c14",
   "metadata": {},
   "outputs": [
    {
     "data": {
      "text/plain": [
       "<Axes: >"
      ]
     },
     "execution_count": 17,
     "metadata": {},
     "output_type": "execute_result"
    },
    {
     "data": {
      "image/png": "[encoded data removed]",
      "text/plain": [
       "<Figure size 432x288 with 1 Axes>"
      ]
     },
     "metadata": {
      "needs_background": "light"
     },
     "output_type": "display_data"
    }
   ],
   "source": [
    "df['rooms'].hist(bins=20)"
   ]
  },
  {
   "cell_type": "code",
   "execution_count": 18,
   "id": "613e2d2c",
   "metadata": {},
   "outputs": [],
   "source": [
    "#### Filling kitchen area and living area with average values"
   ]
  },
  {
   "cell_type": "code",
   "execution_count": 19,
   "id": "4bb1ee4a",
   "metadata": {},
   "outputs": [],
   "source": [
    "def kitchen_check(row):\n",
    "    living_area = row['living_area']\n",
    "    total_area = row['total_area']\n",
    "    kitchen_area = row['kitchen_area']\n",
    "    \n",
    "    if total_area < (living_area+kitchen_area):\n",
    "        return 'kitchen_not_separated'\n",
    "    else:\n",
    "        return 'kitched_separated'"
   ]
  },
  {
   "cell_type": "code",
   "execution_count": 20,
   "id": "bf671ac7",
   "metadata": {},
   "outputs": [],
   "source": [
    "df['kitchen_check'] = df.apply(kitchen_check,axis=1)"
   ]
  },
  {
   "cell_type": "code",
   "execution_count": 21,
   "id": "0249b119",
   "metadata": {},
   "outputs": [
    {
     "data": {
      "text/plain": [
       "count    21347.000000\n",
       "mean        10.578675\n",
       "std          5.910689\n",
       "min          1.300000\n",
       "25%          7.000000\n",
       "50%          9.170000\n",
       "75%         12.000000\n",
       "max        112.000000\n",
       "Name: kitchen_area, dtype: float64"
      ]
     },
     "execution_count": 21,
     "metadata": {},
     "output_type": "execute_result"
    }
   ],
   "source": [
    "df['kitchen_area'].describe()"
   ]
  },
  {
   "cell_type": "code",
   "execution_count": 22,
   "id": "c4c44782",
   "metadata": {},
   "outputs": [
    {
     "data": {
      "text/plain": [
       "0.17433521219901799"
      ]
     },
     "execution_count": 22,
     "metadata": {},
     "output_type": "execute_result"
    }
   ],
   "source": [
    "# Calculating average share of kitchen area in apartments\n",
    "df_kitchen_area = df.query('kitchen_area >0 and kitchen_check == \"kitched_separated\"')\n",
    "kitchen_area_ratio = df_kitchen_area['kitchen_area'].sum()/df_kitchen_area['total_area'].sum()\n",
    "kitchen_area_ratio"
   ]
  },
  {
   "cell_type": "code",
   "execution_count": 23,
   "id": "e331007a",
   "metadata": {},
   "outputs": [],
   "source": [
    "empty_kitchen = df.query('kitchen_area.isna()', engine='python')\n",
    "\n",
    "#Apartments without kitchen area - multiply the total area by the average share of the kitchen for apartments with a separated kitchen\n",
    "df['kitchen_area'] = df['kitchen_area'].where(~df.index.isin(empty_kitchen.index), df['total_area']*kitchen_area_ratio) "
   ]
  },
  {
   "cell_type": "code",
   "execution_count": 24,
   "id": "f3aa9fb7",
   "metadata": {},
   "outputs": [
    {
     "data": {
      "text/plain": [
       "count    21536.000000\n",
       "mean        34.607249\n",
       "std         22.094982\n",
       "min          2.000000\n",
       "25%         18.700000\n",
       "50%         30.000000\n",
       "75%         42.500000\n",
       "max        409.700000\n",
       "Name: living_area, dtype: float64"
      ]
     },
     "execution_count": 24,
     "metadata": {},
     "output_type": "execute_result"
    }
   ],
   "source": [
    "df['living_area'].describe()"
   ]
  },
  {
   "cell_type": "code",
   "execution_count": 25,
   "id": "6ecaca1c",
   "metadata": {},
   "outputs": [
    {
     "data": {
      "text/plain": [
       "0.5751259644970688"
      ]
     },
     "execution_count": 25,
     "metadata": {},
     "output_type": "execute_result"
    }
   ],
   "source": [
    "# Calculating average share of living area in apartments\n",
    "df_living_area = df.query('living_area >0')\n",
    "living_area_ratio = df_living_area['living_area'].sum()/df_living_area['total_area'].sum()\n",
    "living_area_ratio"
   ]
  },
  {
   "cell_type": "code",
   "execution_count": 26,
   "id": "4aaf25ad",
   "metadata": {},
   "outputs": [],
   "source": [
    "empty_living = df.query('living_area.isna()', engine='python')\n",
    "\n",
    "#Apartments without living area - multiply the total area by the average share of the living rooms\n",
    "df['kitchen_area'] = df['kitchen_area'].where(~df.index.isin(empty_kitchen.index), df['total_area']*kitchen_area_ratio) \n",
    "df['living_area'] = df['living_area'].where(~df.index.isin(empty_living.index), df['total_area']*living_area_ratio) "
   ]
  },
  {
   "cell_type": "code",
   "execution_count": 27,
   "id": "b08e9fef",
   "metadata": {},
   "outputs": [
    {
     "name": "stdout",
     "output_type": "stream",
     "text": [
      "<class 'pandas.core.frame.DataFrame'>\n",
      "Int64Index: 23419 entries, 0 to 23698\n",
      "Data columns (total 25 columns):\n",
      " #   Column                Non-Null Count  Dtype         \n",
      "---  ------                --------------  -----         \n",
      " 0   total_images          23419 non-null  int64         \n",
      " 1   last_price            23419 non-null  int32         \n",
      " 2   total_area            23419 non-null  int32         \n",
      " 3   first_day_exposition  23419 non-null  datetime64[ns]\n",
      " 4   rooms                 23419 non-null  int64         \n",
      " 5   ceiling_height        14339 non-null  float64       \n",
      " 6   floors_total          23336 non-null  float64       \n",
      " 7   living_area           23419 non-null  float64       \n",
      " 8   floor                 23419 non-null  int64         \n",
      " 9   is_apartment          23419 non-null  bool          \n",
      " 10  studio                23419 non-null  bool          \n",
      " 11  open_plan             23419 non-null  bool          \n",
      " 12  kitchen_area          23419 non-null  float64       \n",
      " 13  balcony               23419 non-null  float64       \n",
      " 14  locality_name         23419 non-null  object        \n",
      " 15  airports_nearest      17987 non-null  float64       \n",
      " 16  cityCenters_nearest   18011 non-null  float64       \n",
      " 17  parks_around3000      18012 non-null  float64       \n",
      " 18  parks_nearest         8019 non-null   float64       \n",
      " 19  ponds_around3000      18012 non-null  float64       \n",
      " 20  ponds_nearest         9015 non-null   float64       \n",
      " 21  days_exposition       20263 non-null  float64       \n",
      " 22  locality_name_unique  23419 non-null  object        \n",
      " 23  ceiling_height_good   14339 non-null  float64       \n",
      " 24  kitchen_check         23419 non-null  object        \n",
      "dtypes: bool(3), datetime64[ns](1), float64(13), int32(2), int64(3), object(3)\n",
      "memory usage: 4.0+ MB\n"
     ]
    }
   ],
   "source": [
    "df.info()"
   ]
  },
  {
   "cell_type": "markdown",
   "id": "2a61ba39",
   "metadata": {},
   "source": [
    "#### Intermediate conclusions:\n",
    "For an accurate analysis, it was necessary to correct the issues in the data that were caused by:\n",
    "- Lack of data;\n",
    "- Input errors;\n",
    "- Incorrect data types;\n",
    "- Duplicates."
   ]
  },
  {
   "cell_type": "markdown",
   "id": "b8669b89",
   "metadata": {},
   "source": [
    "#### Adding new auxiliary columns"
   ]
  },
  {
   "cell_type": "markdown",
   "id": "94203e3b",
   "metadata": {},
   "source": [
    "* Price per meter"
   ]
  },
  {
   "cell_type": "code",
   "execution_count": 28,
   "id": "4be02b63",
   "metadata": {},
   "outputs": [],
   "source": [
    "df['price_per_m'] = df['last_price']/df['total_area']"
   ]
  },
  {
   "cell_type": "markdown",
   "id": "7c460a33",
   "metadata": {},
   "source": [
    "* Advertisement day of week:"
   ]
  },
  {
   "cell_type": "code",
   "execution_count": 29,
   "id": "65c412a4",
   "metadata": {},
   "outputs": [],
   "source": [
    "df['weekday'] = df['first_day_exposition'].dt.dayofweek+1"
   ]
  },
  {
   "cell_type": "markdown",
   "id": "bf17ba8f",
   "metadata": {},
   "source": [
    "* Advertisement month:"
   ]
  },
  {
   "cell_type": "code",
   "execution_count": 30,
   "id": "e345f322",
   "metadata": {},
   "outputs": [],
   "source": [
    "df['month'] = df['first_day_exposition'].dt.month"
   ]
  },
  {
   "cell_type": "markdown",
   "id": "64ba86b9",
   "metadata": {},
   "source": [
    "* Advertisement year:"
   ]
  },
  {
   "cell_type": "code",
   "execution_count": 31,
   "id": "be3f471e",
   "metadata": {},
   "outputs": [],
   "source": [
    "df['year'] = df['first_day_exposition'].dt.year"
   ]
  },
  {
   "cell_type": "markdown",
   "id": "dcd89608",
   "metadata": {},
   "source": [
    "* Apartment floor type:"
   ]
  },
  {
   "cell_type": "code",
   "execution_count": 32,
   "id": "ad9daf70",
   "metadata": {},
   "outputs": [],
   "source": [
    "# Function, which sets a floor type\n",
    "def floor_type(row):\n",
    "    floor = row['floor']\n",
    "    floors_total = row['floors_total']\n",
    "    \n",
    "    if floor == floors_total:\n",
    "        return 'last'\n",
    "    elif floor == 1:\n",
    "        return 'groud'\n",
    "    elif math.isnan(floors_total):\n",
    "        return 'no_data'\n",
    "    else:\n",
    "        return 'other'"
   ]
  },
  {
   "cell_type": "code",
   "execution_count": 33,
   "id": "e5634ab6",
   "metadata": {},
   "outputs": [],
   "source": [
    "df['floor_type'] = df.apply(floor_type,axis=1)"
   ]
  },
  {
   "cell_type": "markdown",
   "id": "a3e72059",
   "metadata": {},
   "source": [
    "* Distance to the city center in kilometers:"
   ]
  },
  {
   "cell_type": "code",
   "execution_count": 34,
   "id": "92823ac9",
   "metadata": {},
   "outputs": [],
   "source": [
    "df['cityCenters_nearest_km'] = df['cityCenters_nearest']/1000\n",
    "df['cityCenters_nearest_km'] = df['cityCenters_nearest_km'].round(0)"
   ]
  },
  {
   "cell_type": "markdown",
   "id": "94e2bcb1",
   "metadata": {},
   "source": [
    "# 3. Exploratory data analysis <a class=\"anchor\" id=\"chapter3\"></a>"
   ]
  },
  {
   "cell_type": "markdown",
   "id": "6d2e2061",
   "metadata": {},
   "source": [
    "### 3.1 Apartment parameters <a class=\"anchor\" id=\"section3_1\"></a>"
   ]
  },
  {
   "cell_type": "code",
   "execution_count": 35,
   "id": "1bf884c8",
   "metadata": {},
   "outputs": [
    {
     "name": "stdout",
     "output_type": "stream",
     "text": [
      "count    23419.000000\n",
      "mean        60.423588\n",
      "std         35.667597\n",
      "min         12.000000\n",
      "25%         40.000000\n",
      "50%         52.000000\n",
      "75%         70.000000\n",
      "max        900.000000\n",
      "Name: total_area, dtype: float64\n"
     ]
    },
    {
     "data": {
      "text/plain": [
       "<Axes: >"
      ]
     },
     "execution_count": 35,
     "metadata": {},
     "output_type": "execute_result"
    },
    {
     "data": {
      "image/png": "[encoded data removed]",
      "text/plain": [
       "<Figure size 432x288 with 1 Axes>"
      ]
     },
     "metadata": {
      "needs_background": "light"
     },
     "output_type": "display_data"
    }
   ],
   "source": [
    "# Total area\n",
    "print(df['total_area'].describe())\n",
    "df['total_area'].hist(bins=50)"
   ]
  },
  {
   "cell_type": "code",
   "execution_count": 36,
   "id": "f885ee15",
   "metadata": {},
   "outputs": [
    {
     "name": "stdout",
     "output_type": "stream",
     "text": [
      "count    23419.000000\n",
      "mean        34.751174\n",
      "std         22.408224\n",
      "min          2.000000\n",
      "25%         19.000000\n",
      "50%         30.000000\n",
      "75%         42.300000\n",
      "max        409.700000\n",
      "Name: living_area, dtype: float64\n"
     ]
    },
    {
     "data": {
      "text/plain": [
       "<Axes: >"
      ]
     },
     "execution_count": 36,
     "metadata": {},
     "output_type": "execute_result"
    },
    {
     "data": {
      "image/png": "[encoded data removed]",
      "text/plain": [
       "<Figure size 432x288 with 1 Axes>"
      ]
     },
     "metadata": {
      "needs_background": "light"
     },
     "output_type": "display_data"
    }
   ],
   "source": [
    "# Living area\n",
    "print(df['living_area'].describe())\n",
    "df['living_area'].hist(bins=25)"
   ]
  },
  {
   "cell_type": "code",
   "execution_count": 37,
   "id": "da55b5d7",
   "metadata": {},
   "outputs": [
    {
     "name": "stdout",
     "output_type": "stream",
     "text": [
      "count    23419.000000\n",
      "mean        10.553207\n",
      "std          6.034044\n",
      "min          1.300000\n",
      "25%          7.000000\n",
      "50%          9.065431\n",
      "75%         12.000000\n",
      "max        112.000000\n",
      "Name: kitchen_area, dtype: float64\n"
     ]
    },
    {
     "data": {
      "text/plain": [
       "<Axes: >"
      ]
     },
     "execution_count": 37,
     "metadata": {},
     "output_type": "execute_result"
    },
    {
     "data": {
      "image/png": "[encoded data removed]",
      "text/plain": [
       "<Figure size 432x288 with 1 Axes>"
      ]
     },
     "metadata": {
      "needs_background": "light"
     },
     "output_type": "display_data"
    }
   ],
   "source": [
    "# Kitchen area\n",
    "print(df['kitchen_area'].describe())\n",
    "df['kitchen_area'].hist(bins=25)"
   ]
  },
  {
   "cell_type": "code",
   "execution_count": 38,
   "id": "fd25f961",
   "metadata": {},
   "outputs": [
    {
     "name": "stdout",
     "output_type": "stream",
     "text": [
      "count        23419.00\n",
      "mean       6578057.67\n",
      "std       10936196.35\n",
      "min         430000.00\n",
      "25%        3450000.00\n",
      "50%        4650000.00\n",
      "75%        6800000.00\n",
      "max      763000000.00\n",
      "Name: last_price, dtype: object\n"
     ]
    },
    {
     "data": {
      "text/plain": [
       "<Axes: >"
      ]
     },
     "execution_count": 38,
     "metadata": {},
     "output_type": "execute_result"
    },
    {
     "data": {
      "image/png": "[encoded data removed]",
      "text/plain": [
       "<Figure size 432x288 with 1 Axes>"
      ]
     },
     "metadata": {
      "needs_background": "light"
     },
     "output_type": "display_data"
    }
   ],
   "source": [
    "# Price of apartment\n",
    "print(df['last_price'].describe().apply(\"{0:.2f}\".format))\n",
    "df['last_price'].hist(bins=100)"
   ]
  },
  {
   "cell_type": "code",
   "execution_count": 39,
   "id": "eba8f2d6",
   "metadata": {},
   "outputs": [
    {
     "name": "stdout",
     "output_type": "stream",
     "text": [
      "count    23419.000000\n",
      "mean         2.088390\n",
      "std          1.066798\n",
      "min          1.000000\n",
      "25%          1.000000\n",
      "50%          2.000000\n",
      "75%          3.000000\n",
      "max         19.000000\n",
      "Name: rooms, dtype: float64\n"
     ]
    },
    {
     "data": {
      "text/plain": [
       "<Axes: >"
      ]
     },
     "execution_count": 39,
     "metadata": {},
     "output_type": "execute_result"
    },
    {
     "data": {
      "image/png": "[encoded data removed]",
      "text/plain": [
       "<Figure size 432x288 with 1 Axes>"
      ]
     },
     "metadata": {
      "needs_background": "light"
     },
     "output_type": "display_data"
    }
   ],
   "source": [
    "# Number of rooms\n",
    "print(df['rooms'].describe())\n",
    "df['rooms'].hist(bins=16)"
   ]
  },
  {
   "cell_type": "code",
   "execution_count": 40,
   "id": "3bb76cde",
   "metadata": {},
   "outputs": [
    {
     "name": "stdout",
     "output_type": "stream",
     "text": [
      "count    14339.000000\n",
      "mean         2.728096\n",
      "std          0.277065\n",
      "min          2.500000\n",
      "25%          2.520000\n",
      "50%          2.650000\n",
      "75%          2.800000\n",
      "max          6.000000\n",
      "Name: ceiling_height_good, dtype: float64\n"
     ]
    },
    {
     "data": {
      "text/plain": [
       "<Axes: >"
      ]
     },
     "execution_count": 40,
     "metadata": {},
     "output_type": "execute_result"
    },
    {
     "data": {
      "image/png": "[encoded data removed]",
      "text/plain": [
       "<Figure size 432x288 with 1 Axes>"
      ]
     },
     "metadata": {
      "needs_background": "light"
     },
     "output_type": "display_data"
    }
   ],
   "source": [
    "# Ceiling height\n",
    "print(df['ceiling_height_good'].describe())\n",
    "df['ceiling_height_good'].hist(bins=50)"
   ]
  },
  {
   "cell_type": "code",
   "execution_count": 41,
   "id": "5a3a42c1",
   "metadata": {},
   "outputs": [
    {
     "name": "stdout",
     "output_type": "stream",
     "text": [
      "count    23419.000000\n",
      "mean         5.874205\n",
      "std          4.869557\n",
      "min          1.000000\n",
      "25%          2.000000\n",
      "50%          4.000000\n",
      "75%          8.000000\n",
      "max         33.000000\n",
      "Name: floor, dtype: float64\n"
     ]
    },
    {
     "data": {
      "text/plain": [
       "<Axes: >"
      ]
     },
     "execution_count": 41,
     "metadata": {},
     "output_type": "execute_result"
    },
    {
     "data": {
      "image/png": "[encoded data removed]",
      "text/plain": [
       "<Figure size 432x288 with 1 Axes>"
      ]
     },
     "metadata": {
      "needs_background": "light"
     },
     "output_type": "display_data"
    }
   ],
   "source": [
    "# Floor\n",
    "print(df['floor'].describe())\n",
    "df['floor'].hist(bins=30)"
   ]
  },
  {
   "cell_type": "code",
   "execution_count": 42,
   "id": "23fc3cfd",
   "metadata": {},
   "outputs": [
    {
     "name": "stdout",
     "output_type": "stream",
     "text": [
      "count     23419\n",
      "unique        4\n",
      "top       other\n",
      "freq      17147\n",
      "Name: floor_type, dtype: object\n"
     ]
    },
    {
     "data": {
      "text/plain": [
       "<Axes: >"
      ]
     },
     "execution_count": 42,
     "metadata": {},
     "output_type": "execute_result"
    },
    {
     "data": {
      "image/png": "[encoded data removed]",
      "text/plain": [
       "<Figure size 432x288 with 1 Axes>"
      ]
     },
     "metadata": {
      "needs_background": "light"
     },
     "output_type": "display_data"
    }
   ],
   "source": [
    "# Floor type\n",
    "print(df['floor_type'].describe())\n",
    "df['floor_type'].hist(bins=30)"
   ]
  },
  {
   "cell_type": "code",
   "execution_count": 43,
   "id": "1f5b8f13",
   "metadata": {},
   "outputs": [
    {
     "name": "stdout",
     "output_type": "stream",
     "text": [
      "count    23336.000000\n",
      "mean        10.631642\n",
      "std          6.572239\n",
      "min          1.000000\n",
      "25%          5.000000\n",
      "50%          9.000000\n",
      "75%         16.000000\n",
      "max         60.000000\n",
      "Name: floors_total, dtype: float64\n"
     ]
    },
    {
     "data": {
      "text/plain": [
       "<Axes: >"
      ]
     },
     "execution_count": 43,
     "metadata": {},
     "output_type": "execute_result"
    },
    {
     "data": {
      "image/png": "[encoded data removed]",
      "text/plain": [
       "<Figure size 432x288 with 1 Axes>"
      ]
     },
     "metadata": {
      "needs_background": "light"
     },
     "output_type": "display_data"
    }
   ],
   "source": [
    "# Overall number of floors in each building\n",
    "print(df['floors_total'].describe())\n",
    "df['floors_total'].hist(bins=30)"
   ]
  },
  {
   "cell_type": "code",
   "execution_count": 44,
   "id": "65d9471c",
   "metadata": {},
   "outputs": [
    {
     "name": "stdout",
     "output_type": "stream",
     "text": [
      "count    18011.000000\n",
      "mean     14193.597579\n",
      "std       8627.504837\n",
      "min        181.000000\n",
      "25%       9234.000000\n",
      "50%      13092.000000\n",
      "75%      16293.000000\n",
      "max      65968.000000\n",
      "Name: cityCenters_nearest, dtype: float64\n"
     ]
    },
    {
     "data": {
      "text/plain": [
       "<Axes: >"
      ]
     },
     "execution_count": 44,
     "metadata": {},
     "output_type": "execute_result"
    },
    {
     "data": {
      "image/png": "[encoded data removed]",
      "text/plain": [
       "<Figure size 432x288 with 1 Axes>"
      ]
     },
     "metadata": {
      "needs_background": "light"
     },
     "output_type": "display_data"
    }
   ],
   "source": [
    "# Distance to the city center in kilometers:\n",
    "print(df['cityCenters_nearest'].describe())\n",
    "df['cityCenters_nearest'].hist(bins=50)"
   ]
  },
  {
   "cell_type": "code",
   "execution_count": 45,
   "id": "7fb538fe",
   "metadata": {},
   "outputs": [
    {
     "name": "stdout",
     "output_type": "stream",
     "text": [
      "count    17987.000000\n",
      "mean     28828.571579\n",
      "std      12627.441248\n",
      "min       6450.000000\n",
      "25%      18616.000000\n",
      "50%      26765.000000\n",
      "75%      37310.000000\n",
      "max      84869.000000\n",
      "Name: airports_nearest, dtype: float64\n"
     ]
    },
    {
     "data": {
      "text/plain": [
       "<Axes: >"
      ]
     },
     "execution_count": 45,
     "metadata": {},
     "output_type": "execute_result"
    },
    {
     "data": {
      "image/png": "[encoded data removed]",
      "text/plain": [
       "<Figure size 432x288 with 1 Axes>"
      ]
     },
     "metadata": {
      "needs_background": "light"
     },
     "output_type": "display_data"
    }
   ],
   "source": [
    "# Distance to the neares airport:\n",
    "print(df['airports_nearest'].describe())\n",
    "df['airports_nearest'].hist(bins=50)"
   ]
  },
  {
   "cell_type": "code",
   "execution_count": 46,
   "id": "9e316b05",
   "metadata": {},
   "outputs": [
    {
     "name": "stdout",
     "output_type": "stream",
     "text": [
      "count    8019.000000\n",
      "mean      490.427111\n",
      "std       342.897516\n",
      "min         1.000000\n",
      "25%       287.000000\n",
      "50%       453.000000\n",
      "75%       612.000000\n",
      "max      3190.000000\n",
      "Name: parks_nearest, dtype: float64\n"
     ]
    },
    {
     "data": {
      "text/plain": [
       "<Axes: >"
      ]
     },
     "execution_count": 46,
     "metadata": {},
     "output_type": "execute_result"
    },
    {
     "data": {
      "image/png": "[encoded data removed]",
      "text/plain": [
       "<Figure size 432x288 with 1 Axes>"
      ]
     },
     "metadata": {
      "needs_background": "light"
     },
     "output_type": "display_data"
    }
   ],
   "source": [
    "# Distance to the nearest park\n",
    "print(df['parks_nearest'].describe())\n",
    "df['parks_nearest'].hist(bins=75)"
   ]
  },
  {
   "cell_type": "code",
   "execution_count": 47,
   "id": "3a64df96",
   "metadata": {},
   "outputs": [
    {
     "name": "stdout",
     "output_type": "stream",
     "text": [
      "count    23419.000000\n",
      "mean         3.568342\n",
      "std          1.789496\n",
      "min          1.000000\n",
      "25%          2.000000\n",
      "50%          4.000000\n",
      "75%          5.000000\n",
      "max          7.000000\n",
      "Name: weekday, dtype: float64\n"
     ]
    },
    {
     "data": {
      "text/plain": [
       "<Axes: >"
      ]
     },
     "execution_count": 47,
     "metadata": {},
     "output_type": "execute_result"
    },
    {
     "data": {
      "image/png": "[encoded data removed]",
      "text/plain": [
       "<Figure size 432x288 with 1 Axes>"
      ]
     },
     "metadata": {
      "needs_background": "light"
     },
     "output_type": "display_data"
    }
   ],
   "source": [
    "# Advertisement weekday\n",
    "print(df['weekday'].describe())\n",
    "df['weekday'].hist(bins=7)"
   ]
  },
  {
   "cell_type": "code",
   "execution_count": 48,
   "id": "00ce8249",
   "metadata": {},
   "outputs": [
    {
     "name": "stdout",
     "output_type": "stream",
     "text": [
      "count    23419.000000\n",
      "mean         6.393270\n",
      "std          3.490834\n",
      "min          1.000000\n",
      "25%          3.000000\n",
      "50%          6.000000\n",
      "75%         10.000000\n",
      "max         12.000000\n",
      "Name: month, dtype: float64\n"
     ]
    },
    {
     "data": {
      "text/plain": [
       "<Axes: >"
      ]
     },
     "execution_count": 48,
     "metadata": {},
     "output_type": "execute_result"
    },
    {
     "data": {
      "image/png": "[encoded data removed]",
      "text/plain": [
       "<Figure size 432x288 with 1 Axes>"
      ]
     },
     "metadata": {
      "needs_background": "light"
     },
     "output_type": "display_data"
    }
   ],
   "source": [
    "# Advertisement month\n",
    "print(df['month'].describe())\n",
    "df['month'].hist(bins=12)"
   ]
  },
  {
   "cell_type": "markdown",
   "id": "e41b228d",
   "metadata": {},
   "source": [
    "### 3.2 Speed of apartment sale <a class=\"anchor\" id=\"section3_2\"></a>"
   ]
  },
  {
   "cell_type": "code",
   "execution_count": 49,
   "id": "7444e360",
   "metadata": {},
   "outputs": [
    {
     "name": "stdout",
     "output_type": "stream",
     "text": [
      "count    20263.000000\n",
      "mean       181.637023\n",
      "std        220.293144\n",
      "min          1.000000\n",
      "25%         45.000000\n",
      "50%         96.000000\n",
      "75%        232.000000\n",
      "max       1580.000000\n",
      "Name: days_exposition, dtype: float64\n"
     ]
    },
    {
     "data": {
      "text/plain": [
       "<Axes: >"
      ]
     },
     "execution_count": 49,
     "metadata": {},
     "output_type": "execute_result"
    },
    {
     "data": {
      "image/png": "[encoded data removed]",
      "text/plain": [
       "<Figure size 432x288 with 1 Axes>"
      ]
     },
     "metadata": {
      "needs_background": "light"
     },
     "output_type": "display_data"
    }
   ],
   "source": [
    "print(df['days_exposition'].describe())\n",
    "df['days_exposition'].hist(bins=100)"
   ]
  },
  {
   "cell_type": "code",
   "execution_count": 50,
   "id": "d724e822",
   "metadata": {},
   "outputs": [
    {
     "name": "stdout",
     "output_type": "stream",
     "text": [
      "10 % of apartments were sold in first 17.0 days since exposition\n",
      "15 % of apartments were sold in first 26.0 days since exposition\n",
      "20 % of apartments were sold in first 35.0 days since exposition\n",
      "85 % of apartments were sold in first 365.0 days since exposition\n",
      "90 % of apartments were sold in first 462.0 days since exposition\n",
      "95 % of apartments were sold in first 649.0 days since exposition\n"
     ]
    }
   ],
   "source": [
    "per_list = [10,15,20,85,90,95]\n",
    "for i in per_list:\n",
    "    print(i,'% of apartments were sold in first',np.percentile(df[df['days_exposition']>0]['days_exposition'],i).round(), 'days since exposition')\n"
   ]
  },
  {
   "cell_type": "markdown",
   "id": "9449dbfa",
   "metadata": {},
   "source": [
    "### 3.3 Apartment Parameters Observations: <a class=\"anchor\" id=\"section3_3\"></a>\n",
    "\n",
    "<ol>\n",
    "<li><b>Total area:</b></li>\n",
    "    Most of the observed apartments have an area within 50 m2. The largest apartment has 900 m2, and the smallest is only 12. The entire observed dataset has the total area data.\n",
    "<li><b>Living space:</b></li>\n",
    "    The average living area is 35 m2 and 75% of the apartments have a living area up to 42.5 m2. The largest living area in the apartments is 410 m2, while the minimum is only 2 m2. Some of the apartments did not have a specified living area, and it was supplemented through the average ratio of living area to total area.\n",
    "<li><b>Kitchen area:</b></li>\n",
    "    On average, kitchens have an area of 10.5 m2, while almost half of the apartments have kitchens within 9 m2, and the largest kitchen has an area of 112 m2. Some of the apartments did not have the specified kitchen area, and it was supplemented through the average ratio of the kitchen area to the total area.\n",
    "<li><b>Object price:</b></li>\n",
    "    The most expensive apartment is estimated at 763 million rubles, while half of the apartments cost up to 4.65 million rubles. An apartment with a minimum cost of 12190 is probably entered with an error in the data (corrected at the first stages), while all observed apartments have a price.\n",
    "<li><b>Number of rooms:</b></li>\n",
    "    Half of the apartments have 1 or 2 rooms, with an approximately equal number of such options in the sample. The largest number of rooms has an apartment with 19. The entire observed dataset has the number of rooms data.\n",
    "<li><b>Ceiling height:</b></li>\n",
    "    Most of the apartments have a minimum ceiling height for apartments - 2.5 meters. Most apartments do not have ceiling heights.\n",
    "<li><b>Apartment floor:</b></li>\n",
    "    Most of the apartments are located on the first 4 floors, and the most frequent floor in the dataset is the second. The highest located apartment is the object on the 33rd floor.\n",
    "<li><b>Apartment floor type (“first”, “last”, “other”):</b></li>\n",
    "    Most of the apartments are not located on the first or last floor, and a few apartments do not have any values for the total number of floors in the building, which led to the \"no data\" group.\n",
    "<li><b>The total number of floors in the house:</b></li>\n",
    "    Most often there are apartments in houses with 5 floors, and half of the apartments are located in buildings with less than 10 floors. Several apartments do not have the number of floors in the building data.\n",
    "<li><b>Distance to the city center in meters:</b></li>\n",
    "    About half of the apartments are located 10-16 kilometers from the city center with an average of 14.193 kilometers. A significant share of apartments do not have the distance from the center data.\n",
    "<li><b>Distance to nearest airport:</b></li>\n",
    "    The apartments are mostly located between 18 and 38 kilometers from the airport with an average distance of 28.828 kilometers. A significant proportion of apartments do not have distance from the airport data.\n",
    "<li><b>Distance to nearest park:</b></li>\n",
    "    Most of the apartments are located 280-610 meters from the nearest park, while the sample includes apartments located right up to the park. Most of the apartments do not have the distance from the nearest park data.\n",
    "<li><b>The day and month the advertisement was posted.</b></li> \n",
    "    The least number of ads were published on weekends, and among the months the least number of ads were published in January, May and December.\n",
    "<li><b>Speed of apartment sale.</b></li> \n",
    "    On average, apartments on the list were sold within 182 days, with half of the apartments sold in less than 96 days.\n",
    "Considering that 85% of apartments are sold within 365 days from publication, we can estimate the normal period of 1 year from the date of publication, and the period beyond - unusually long up to 650 days, after which only 5% of the apartments were sold.\n",
    "During the first 17 days from the publication, 10% of the apartments were sold and 20% in first 35 days. Thus, a sale in the first month of publication can be assessed as a quick sale.    \n",
    "</ol>\n"
   ]
  },
  {
   "cell_type": "markdown",
   "id": "25ffeaa9",
   "metadata": {},
   "source": [
    "### 3.4 Factors affecting the price of apartment <a class=\"anchor\" id=\"section3_4\"></a>"
   ]
  },
  {
   "cell_type": "code",
   "execution_count": 51,
   "id": "28a1af08",
   "metadata": {},
   "outputs": [],
   "source": [
    "# Adding price in millions of rubles\n",
    "df['last_price_mln'] = df['last_price']/(10**6)"
   ]
  },
  {
   "cell_type": "code",
   "execution_count": 52,
   "id": "0b8a7b37",
   "metadata": {},
   "outputs": [
    {
     "data": {
      "text/plain": [
       "<Axes: xlabel='last_price_mln', ylabel='total_area'>"
      ]
     },
     "execution_count": 52,
     "metadata": {},
     "output_type": "execute_result"
    },
    {
     "data": {
      "image/png": "[encoded data removed]",
      "text/plain": [
       "<Figure size 432x288 with 1 Axes>"
      ]
     },
     "metadata": {
      "needs_background": "light"
     },
     "output_type": "display_data"
    }
   ],
   "source": [
    "# Lookin at distribution of apartments depending on their total area and last price\n",
    "df.plot(x='last_price_mln', y='total_area', kind='scatter', alpha=0.3) "
   ]
  },
  {
   "cell_type": "markdown",
   "id": "4a434d06",
   "metadata": {},
   "source": [
    "* The sample is represented by apartments mainly up to 50 million rubles and 200 square meters. It is worth considering this group in more detail to analyze the impact of all indicators."
   ]
  },
  {
   "cell_type": "code",
   "execution_count": 53,
   "id": "e332f05d",
   "metadata": {},
   "outputs": [
    {
     "data": {
      "text/plain": [
       "23134"
      ]
     },
     "execution_count": 53,
     "metadata": {},
     "output_type": "execute_result"
    }
   ],
   "source": [
    "# Selecting the group of apartments\n",
    "df_wo_largest = df.query('last_price_mln < 50 and total_area <200')\n",
    "df_wo_largest.shape[0]"
   ]
  },
  {
   "cell_type": "code",
   "execution_count": 54,
   "id": "e2df0fe2",
   "metadata": {
    "scrolled": false
   },
   "outputs": [
    {
     "data": {
      "image/png": "[encoded data removed]",
      "text/plain": [
       "<Figure size 800x640 with 2 Axes>"
      ]
     },
     "metadata": {
      "needs_background": "light"
     },
     "output_type": "display_data"
    }
   ],
   "source": [
    "# Making correlation matrix\n",
    "df_corr = df_wo_largest[['last_price_mln', 'total_area', 'living_area', 'kitchen_area','rooms','floor']]\n",
    "corr_m = round(df_corr.corr(),2)\n",
    "\n",
    "# Drawing correlation heatmap\n",
    "plt.figure(figsize=(10,8), dpi= 80)\n",
    "sns.heatmap(corr_m, xticklabels=df_corr.corr().columns, yticklabels=corr_m.columns,vmin=0.1, vmax=1, cmap='RdBu', center=0, annot=True)\n",
    "\n",
    "plt.title('Correlation heatmap', fontsize=22)\n",
    "plt.xticks(fontsize=12)\n",
    "plt.yticks(fontsize=12)\n",
    "plt.show()"
   ]
  },
  {
   "cell_type": "code",
   "execution_count": 55,
   "id": "7e0a48d8",
   "metadata": {},
   "outputs": [
    {
     "data": {
      "text/plain": [
       "<Axes: xlabel='last_price_mln', ylabel='total_area'>"
      ]
     },
     "execution_count": 55,
     "metadata": {},
     "output_type": "execute_result"
    },
    {
     "data": {
      "image/png": "[encoded data removed]",
      "text/plain": [
       "<Figure size 432x288 with 1 Axes>"
      ]
     },
     "metadata": {
      "needs_background": "light"
     },
     "output_type": "display_data"
    }
   ],
   "source": [
    "# Looking closely on its distribution\n",
    "df_wo_largest.plot(x='last_price_mln', y='total_area', kind='scatter', alpha=0.3) "
   ]
  },
  {
   "cell_type": "code",
   "execution_count": 56,
   "id": "9075c7d0",
   "metadata": {},
   "outputs": [
    {
     "data": {
      "text/plain": [
       "0.7672192378364318"
      ]
     },
     "execution_count": 56,
     "metadata": {},
     "output_type": "execute_result"
    }
   ],
   "source": [
    "# Calculating correlation between total area and last price\n",
    "df_wo_largest['last_price_mln'].corr(df_wo_largest['total_area'])"
   ]
  },
  {
   "cell_type": "markdown",
   "id": "e88e5bcd",
   "metadata": {},
   "source": [
    "* The correlation coefficient **0.767** is high enough to conclude that the attributes are highly correlated."
   ]
  },
  {
   "cell_type": "code",
   "execution_count": 57,
   "id": "57625e76",
   "metadata": {},
   "outputs": [
    {
     "data": {
      "text/plain": [
       "<Axes: xlabel='last_price_mln', ylabel='living_area'>"
      ]
     },
     "execution_count": 57,
     "metadata": {},
     "output_type": "execute_result"
    },
    {
     "data": {
      "image/png": "[encoded data removed]",
      "text/plain": [
       "<Figure size 432x288 with 1 Axes>"
      ]
     },
     "metadata": {
      "needs_background": "light"
     },
     "output_type": "display_data"
    }
   ],
   "source": [
    "# Lookin at distribution of apartments depending on their living area and last price\n",
    "df_wo_largest.plot(x='last_price_mln', y='living_area', kind='scatter', alpha=0.3)"
   ]
  },
  {
   "cell_type": "code",
   "execution_count": 58,
   "id": "6ecd8d2c",
   "metadata": {},
   "outputs": [
    {
     "data": {
      "text/plain": [
       "0.6604393692359856"
      ]
     },
     "execution_count": 58,
     "metadata": {},
     "output_type": "execute_result"
    }
   ],
   "source": [
    "# Calculating correlation between living area and last price\n",
    "df_wo_largest['last_price_mln'].corr(df_wo_largest['living_area'])"
   ]
  },
  {
   "cell_type": "markdown",
   "id": "e7c14664",
   "metadata": {},
   "source": [
    "* The correlation coefficient **0.66** shows the possible presence of a relationship between the living area and the price of the object, while it is clear that the price is formed more by the total area."
   ]
  },
  {
   "cell_type": "code",
   "execution_count": 59,
   "id": "f75d1005",
   "metadata": {},
   "outputs": [
    {
     "data": {
      "text/plain": [
       "<Axes: xlabel='last_price_mln', ylabel='kitchen_area'>"
      ]
     },
     "execution_count": 59,
     "metadata": {},
     "output_type": "execute_result"
    },
    {
     "data": {
      "image/png": "[encoded data removed]",
      "text/plain": [
       "<Figure size 432x288 with 1 Axes>"
      ]
     },
     "metadata": {
      "needs_background": "light"
     },
     "output_type": "display_data"
    }
   ],
   "source": [
    "# Lookin at distribution of apartments depending on their kitchen area and last price\n",
    "df_wo_largest.plot(x='last_price_mln', y='kitchen_area', kind='scatter', alpha=0.3)"
   ]
  },
  {
   "cell_type": "code",
   "execution_count": 60,
   "id": "ee7a26f8",
   "metadata": {},
   "outputs": [
    {
     "data": {
      "text/plain": [
       "0.603576271214415"
      ]
     },
     "execution_count": 60,
     "metadata": {},
     "output_type": "execute_result"
    }
   ],
   "source": [
    "# Calculating correlation between kitchen area and last price\n",
    "df_wo_largest['last_price_mln'].corr(df_wo_largest['kitchen_area'])"
   ]
  },
  {
   "cell_type": "markdown",
   "id": "5d1a744d",
   "metadata": {},
   "source": [
    "* The correlation coefficient **0.603** shows the possible relationship between the area of the kitchen and the price of the object. Apartments can have a large total area with a small kitchen and the price will be higher than smaller apartments with a larger kitchen area."
   ]
  },
  {
   "cell_type": "code",
   "execution_count": 61,
   "id": "a1ef9ef0",
   "metadata": {},
   "outputs": [
    {
     "data": {
      "text/plain": [
       "<Axes: xlabel='last_price_mln', ylabel='rooms'>"
      ]
     },
     "execution_count": 61,
     "metadata": {},
     "output_type": "execute_result"
    },
    {
     "data": {
      "image/png": "[encoded data removed]",
      "text/plain": [
       "<Figure size 432x288 with 1 Axes>"
      ]
     },
     "metadata": {
      "needs_background": "light"
     },
     "output_type": "display_data"
    }
   ],
   "source": [
    "# Lookin at distribution of apartments depending on their rooms and last price\n",
    "df_wo_largest.plot(x='last_price_mln', y='rooms', kind='scatter', alpha=0.3)"
   ]
  },
  {
   "cell_type": "code",
   "execution_count": 62,
   "id": "b7804517",
   "metadata": {},
   "outputs": [
    {
     "data": {
      "text/plain": [
       "0.469847129286977"
      ]
     },
     "execution_count": 62,
     "metadata": {},
     "output_type": "execute_result"
    }
   ],
   "source": [
    "# Calculating correlation between number of rooms and last price\n",
    "df_wo_largest['last_price_mln'].corr(df_wo_largest['rooms'])"
   ]
  },
  {
   "cell_type": "markdown",
   "id": "53c4f293",
   "metadata": {},
   "source": [
    "* The correlation coefficient **0.469** shows a weak relationship between the number of rooms and the price of an object. 4 small rooms will certainly cost less than 2 large ones."
   ]
  },
  {
   "cell_type": "code",
   "execution_count": 63,
   "id": "b21db715",
   "metadata": {},
   "outputs": [
    {
     "data": {
      "text/html": [
       "<div>\n",
       "<style scoped>\n",
       "    .dataframe tbody tr th:only-of-type {\n",
       "        vertical-align: middle;\n",
       "    }\n",
       "\n",
       "    .dataframe tbody tr th {\n",
       "        vertical-align: top;\n",
       "    }\n",
       "\n",
       "    .dataframe thead th {\n",
       "        text-align: right;\n",
       "    }\n",
       "</style>\n",
       "<table border=\"1\" class=\"dataframe\">\n",
       "  <thead>\n",
       "    <tr style=\"text-align: right;\">\n",
       "      <th></th>\n",
       "      <th>median_price</th>\n",
       "    </tr>\n",
       "    <tr>\n",
       "      <th>floor_type</th>\n",
       "      <th></th>\n",
       "    </tr>\n",
       "  </thead>\n",
       "  <tbody>\n",
       "    <tr>\n",
       "      <th>groud</th>\n",
       "      <td>3.900000</td>\n",
       "    </tr>\n",
       "    <tr>\n",
       "      <th>last</th>\n",
       "      <td>4.250000</td>\n",
       "    </tr>\n",
       "    <tr>\n",
       "      <th>no_data</th>\n",
       "      <td>5.380992</td>\n",
       "    </tr>\n",
       "    <tr>\n",
       "      <th>other</th>\n",
       "      <td>4.830000</td>\n",
       "    </tr>\n",
       "  </tbody>\n",
       "</table>\n",
       "</div>"
      ],
      "text/plain": [
       "            median_price\n",
       "floor_type              \n",
       "groud           3.900000\n",
       "last            4.250000\n",
       "no_data         5.380992\n",
       "other           4.830000"
      ]
     },
     "execution_count": 63,
     "metadata": {},
     "output_type": "execute_result"
    }
   ],
   "source": [
    "# Checking the median price of apartments from different floor type groups\n",
    "df_floor_types = df_wo_largest[df_wo_largest['floor_type'] != 'no data'].pivot_table(index='floor_type',values='last_price_mln',aggfunc=['median'])\n",
    "df_floor_types.columns = ['median_price']\n",
    "df_floor_types"
   ]
  },
  {
   "cell_type": "markdown",
   "id": "a5abf106",
   "metadata": {},
   "source": [
    "* The median price of sold apartments from the ground floor is lower than that of apartments located above. At the same time, apartments on the top floor are cheaper than those located between the first and the last."
   ]
  },
  {
   "cell_type": "code",
   "execution_count": 64,
   "id": "8d9f35ab",
   "metadata": {},
   "outputs": [
    {
     "data": {
      "text/html": [
       "<div>\n",
       "<style scoped>\n",
       "    .dataframe tbody tr th:only-of-type {\n",
       "        vertical-align: middle;\n",
       "    }\n",
       "\n",
       "    .dataframe tbody tr th {\n",
       "        vertical-align: top;\n",
       "    }\n",
       "\n",
       "    .dataframe thead th {\n",
       "        text-align: right;\n",
       "    }\n",
       "</style>\n",
       "<table border=\"1\" class=\"dataframe\">\n",
       "  <thead>\n",
       "    <tr style=\"text-align: right;\">\n",
       "      <th></th>\n",
       "      <th>median_price</th>\n",
       "      <th>count</th>\n",
       "    </tr>\n",
       "    <tr>\n",
       "      <th>weekday</th>\n",
       "      <th></th>\n",
       "      <th></th>\n",
       "    </tr>\n",
       "  </thead>\n",
       "  <tbody>\n",
       "    <tr>\n",
       "      <th>1</th>\n",
       "      <td>4.640</td>\n",
       "      <td>3535</td>\n",
       "    </tr>\n",
       "    <tr>\n",
       "      <th>2</th>\n",
       "      <td>4.740</td>\n",
       "      <td>4102</td>\n",
       "    </tr>\n",
       "    <tr>\n",
       "      <th>3</th>\n",
       "      <td>4.695</td>\n",
       "      <td>3874</td>\n",
       "    </tr>\n",
       "    <tr>\n",
       "      <th>4</th>\n",
       "      <td>4.600</td>\n",
       "      <td>4176</td>\n",
       "    </tr>\n",
       "    <tr>\n",
       "      <th>5</th>\n",
       "      <td>4.590</td>\n",
       "      <td>3890</td>\n",
       "    </tr>\n",
       "    <tr>\n",
       "      <th>6</th>\n",
       "      <td>4.506</td>\n",
       "      <td>1896</td>\n",
       "    </tr>\n",
       "    <tr>\n",
       "      <th>7</th>\n",
       "      <td>4.550</td>\n",
       "      <td>1661</td>\n",
       "    </tr>\n",
       "  </tbody>\n",
       "</table>\n",
       "</div>"
      ],
      "text/plain": [
       "         median_price  count\n",
       "weekday                     \n",
       "1               4.640   3535\n",
       "2               4.740   4102\n",
       "3               4.695   3874\n",
       "4               4.600   4176\n",
       "5               4.590   3890\n",
       "6               4.506   1896\n",
       "7               4.550   1661"
      ]
     },
     "execution_count": 64,
     "metadata": {},
     "output_type": "execute_result"
    }
   ],
   "source": [
    "# Exploring dependency of weekdays and selling price\n",
    "df_days = df_wo_largest.pivot_table(index='weekday',values='last_price_mln',aggfunc=['median', 'count'])\n",
    "df_days.columns = ['median_price', 'count']\n",
    "df_days"
   ]
  },
  {
   "cell_type": "code",
   "execution_count": 65,
   "id": "b84d111e",
   "metadata": {},
   "outputs": [
    {
     "data": {
      "text/plain": [
       "<Axes: xlabel='weekday'>"
      ]
     },
     "execution_count": 65,
     "metadata": {},
     "output_type": "execute_result"
    },
    {
     "data": {
      "image/png": "[encoded data removed]",
      "text/plain": [
       "<Figure size 432x288 with 1 Axes>"
      ]
     },
     "metadata": {
      "needs_background": "light"
     },
     "output_type": "display_data"
    }
   ],
   "source": [
    "df_days.plot.bar(y='median_price',ylim = 4)"
   ]
  },
  {
   "cell_type": "markdown",
   "id": "a8a58cd5",
   "metadata": {},
   "source": [
    "* Apartments on ads placed on Tuesday had an average higher sale price than on other days."
   ]
  },
  {
   "cell_type": "code",
   "execution_count": 66,
   "id": "b52b4374",
   "metadata": {},
   "outputs": [
    {
     "data": {
      "text/html": [
       "<div>\n",
       "<style scoped>\n",
       "    .dataframe tbody tr th:only-of-type {\n",
       "        vertical-align: middle;\n",
       "    }\n",
       "\n",
       "    .dataframe tbody tr th {\n",
       "        vertical-align: top;\n",
       "    }\n",
       "\n",
       "    .dataframe thead th {\n",
       "        text-align: right;\n",
       "    }\n",
       "</style>\n",
       "<table border=\"1\" class=\"dataframe\">\n",
       "  <thead>\n",
       "    <tr style=\"text-align: right;\">\n",
       "      <th></th>\n",
       "      <th>median_price</th>\n",
       "      <th>count</th>\n",
       "    </tr>\n",
       "    <tr>\n",
       "      <th>month</th>\n",
       "      <th></th>\n",
       "      <th></th>\n",
       "    </tr>\n",
       "  </thead>\n",
       "  <tbody>\n",
       "    <tr>\n",
       "      <th>1</th>\n",
       "      <td>4.60</td>\n",
       "      <td>1461</td>\n",
       "    </tr>\n",
       "    <tr>\n",
       "      <th>2</th>\n",
       "      <td>4.65</td>\n",
       "      <td>2586</td>\n",
       "    </tr>\n",
       "    <tr>\n",
       "      <th>3</th>\n",
       "      <td>4.65</td>\n",
       "      <td>2534</td>\n",
       "    </tr>\n",
       "    <tr>\n",
       "      <th>4</th>\n",
       "      <td>4.78</td>\n",
       "      <td>2328</td>\n",
       "    </tr>\n",
       "    <tr>\n",
       "      <th>5</th>\n",
       "      <td>4.50</td>\n",
       "      <td>1244</td>\n",
       "    </tr>\n",
       "    <tr>\n",
       "      <th>6</th>\n",
       "      <td>4.40</td>\n",
       "      <td>1728</td>\n",
       "    </tr>\n",
       "    <tr>\n",
       "      <th>7</th>\n",
       "      <td>4.60</td>\n",
       "      <td>1650</td>\n",
       "    </tr>\n",
       "    <tr>\n",
       "      <th>8</th>\n",
       "      <td>4.60</td>\n",
       "      <td>1699</td>\n",
       "    </tr>\n",
       "    <tr>\n",
       "      <th>9</th>\n",
       "      <td>4.69</td>\n",
       "      <td>1923</td>\n",
       "    </tr>\n",
       "    <tr>\n",
       "      <th>10</th>\n",
       "      <td>4.57</td>\n",
       "      <td>2082</td>\n",
       "    </tr>\n",
       "    <tr>\n",
       "      <th>11</th>\n",
       "      <td>4.70</td>\n",
       "      <td>2305</td>\n",
       "    </tr>\n",
       "    <tr>\n",
       "      <th>12</th>\n",
       "      <td>4.69</td>\n",
       "      <td>1594</td>\n",
       "    </tr>\n",
       "  </tbody>\n",
       "</table>\n",
       "</div>"
      ],
      "text/plain": [
       "       median_price  count\n",
       "month                     \n",
       "1              4.60   1461\n",
       "2              4.65   2586\n",
       "3              4.65   2534\n",
       "4              4.78   2328\n",
       "5              4.50   1244\n",
       "6              4.40   1728\n",
       "7              4.60   1650\n",
       "8              4.60   1699\n",
       "9              4.69   1923\n",
       "10             4.57   2082\n",
       "11             4.70   2305\n",
       "12             4.69   1594"
      ]
     },
     "execution_count": 66,
     "metadata": {},
     "output_type": "execute_result"
    }
   ],
   "source": [
    "# Exploring dependency of months and selling price\n",
    "df_months = df_wo_largest.pivot_table(index='month',values='last_price_mln',aggfunc=['median', 'count'])\n",
    "df_months.columns = ['median_price', 'count']\n",
    "df_months"
   ]
  },
  {
   "cell_type": "code",
   "execution_count": 67,
   "id": "27b9db17",
   "metadata": {},
   "outputs": [
    {
     "data": {
      "text/plain": [
       "<Axes: xlabel='month'>"
      ]
     },
     "execution_count": 67,
     "metadata": {},
     "output_type": "execute_result"
    },
    {
     "data": {
      "image/png": "[encoded data removed]",
      "text/plain": [
       "<Figure size 432x288 with 1 Axes>"
      ]
     },
     "metadata": {
      "needs_background": "light"
     },
     "output_type": "display_data"
    }
   ],
   "source": [
    "df_months.plot.bar(y='median_price',ylim = 4)"
   ]
  },
  {
   "cell_type": "markdown",
   "id": "a7947d37",
   "metadata": {},
   "source": [
    "* Apartments published in April have on average a higher sale price than those published in other months. At the same time, in May and June, there is a general decline in the publication of ads and the lowest selling prices."
   ]
  },
  {
   "cell_type": "code",
   "execution_count": 68,
   "id": "39ab3342",
   "metadata": {},
   "outputs": [
    {
     "data": {
      "text/html": [
       "<div>\n",
       "<style scoped>\n",
       "    .dataframe tbody tr th:only-of-type {\n",
       "        vertical-align: middle;\n",
       "    }\n",
       "\n",
       "    .dataframe tbody tr th {\n",
       "        vertical-align: top;\n",
       "    }\n",
       "\n",
       "    .dataframe thead th {\n",
       "        text-align: right;\n",
       "    }\n",
       "</style>\n",
       "<table border=\"1\" class=\"dataframe\">\n",
       "  <thead>\n",
       "    <tr style=\"text-align: right;\">\n",
       "      <th></th>\n",
       "      <th>median_price</th>\n",
       "      <th>count</th>\n",
       "    </tr>\n",
       "    <tr>\n",
       "      <th>year</th>\n",
       "      <th></th>\n",
       "      <th></th>\n",
       "    </tr>\n",
       "  </thead>\n",
       "  <tbody>\n",
       "    <tr>\n",
       "      <th>2014</th>\n",
       "      <td>7.500</td>\n",
       "      <td>133</td>\n",
       "    </tr>\n",
       "    <tr>\n",
       "      <th>2015</th>\n",
       "      <td>5.200</td>\n",
       "      <td>1145</td>\n",
       "    </tr>\n",
       "    <tr>\n",
       "      <th>2016</th>\n",
       "      <td>4.500</td>\n",
       "      <td>2726</td>\n",
       "    </tr>\n",
       "    <tr>\n",
       "      <th>2017</th>\n",
       "      <td>4.500</td>\n",
       "      <td>7959</td>\n",
       "    </tr>\n",
       "    <tr>\n",
       "      <th>2018</th>\n",
       "      <td>4.581</td>\n",
       "      <td>8349</td>\n",
       "    </tr>\n",
       "    <tr>\n",
       "      <th>2019</th>\n",
       "      <td>5.030</td>\n",
       "      <td>2822</td>\n",
       "    </tr>\n",
       "  </tbody>\n",
       "</table>\n",
       "</div>"
      ],
      "text/plain": [
       "      median_price  count\n",
       "year                     \n",
       "2014         7.500    133\n",
       "2015         5.200   1145\n",
       "2016         4.500   2726\n",
       "2017         4.500   7959\n",
       "2018         4.581   8349\n",
       "2019         5.030   2822"
      ]
     },
     "execution_count": 68,
     "metadata": {},
     "output_type": "execute_result"
    }
   ],
   "source": [
    "# Exploring dependency of years and selling price\n",
    "df_year = df_wo_largest.pivot_table(index='year',values='last_price_mln',aggfunc=['median', 'count'])\n",
    "df_year.columns = ['median_price', 'count']\n",
    "df_year"
   ]
  },
  {
   "cell_type": "code",
   "execution_count": 69,
   "id": "662bedf8",
   "metadata": {},
   "outputs": [
    {
     "data": {
      "text/plain": [
       "<Axes: xlabel='year'>"
      ]
     },
     "execution_count": 69,
     "metadata": {},
     "output_type": "execute_result"
    },
    {
     "data": {
      "image/png": "[encoded data removed]",
      "text/plain": [
       "<Figure size 432x288 with 1 Axes>"
      ]
     },
     "metadata": {
      "needs_background": "light"
     },
     "output_type": "display_data"
    }
   ],
   "source": [
    "df_year.plot.bar(y='median_price',ylim = 4)"
   ]
  },
  {
   "cell_type": "markdown",
   "id": "3b0e4db3",
   "metadata": {},
   "source": [
    "* Among the ads by year, the highest prices were for apartments whose ads were published in 2014, while there were only 133 of them. With the increase in the number of ads, the average price decreased to 4.5 million rubles."
   ]
  },
  {
   "cell_type": "markdown",
   "id": "8f276c58",
   "metadata": {},
   "source": [
    "#### Conclusions on the influence of factors on the total cost:\n",
    "- Among the investingated attributes, the highest correlation was shown by the total and living areas, that is, indicators that traditionally determine the cost of an apartment;\n",
    "- At the same time, the presence of a larger number of rooms does not always explain the high price of the apartment due to the fact that the rooms can be small and give a smaller total area;\n",
    "- The most expensive apartments were those located between the first and last floor;\n",
    "- Tuesday and Wednesday turned out to be the most valuable for posting ads - on average, ads are published on these days for apartments that are sold more expensive than other days;\n",
    "- The most expensive apartments were sold, whose ads were published in April, and the largest decline in price occurred in May and June;\n",
    "- Since 2014, there has been a negative correlation between the price and the number of publications - accordingly, the share of premium housing on the service is eroded and the average price falls to the general level."
   ]
  },
  {
   "cell_type": "markdown",
   "id": "65993437",
   "metadata": {},
   "source": [
    "### 3.5 Average price in the top 10 locations with the most number of ads <a class=\"anchor\" id=\"section3_5\"></a>"
   ]
  },
  {
   "cell_type": "code",
   "execution_count": 70,
   "id": "32cba28d",
   "metadata": {},
   "outputs": [],
   "source": [
    "# Extracting number of ads with average prices\n",
    "df_prices = df.pivot_table(index='locality_name_unique',values=['last_price_mln', 'total_area'],aggfunc={'last_price_mln':['sum','count'], 'total_area':'sum'})\n",
    "df_prices.columns = ['count', 'last_price_mln', 'total_area']"
   ]
  },
  {
   "cell_type": "code",
   "execution_count": 71,
   "id": "78737fe1",
   "metadata": {},
   "outputs": [],
   "source": [
    "# Adding price per square meter\n",
    "df_prices['avg_m2_price'] = df_prices['last_price_mln']/df_prices['total_area']*(10**6)\n",
    "df_prices = df_prices.astype({'avg_m2_price': 'int64'})"
   ]
  },
  {
   "cell_type": "markdown",
   "id": "250f1956",
   "metadata": {},
   "source": [
    "#### 3.5.1 Top 10 locations with the largest number of ads and the price of one square meter in each of the locations <a class=\"anchor\" id=\"sub_section3_5_1\"></a>"
   ]
  },
  {
   "cell_type": "code",
   "execution_count": 72,
   "id": "7539959c",
   "metadata": {},
   "outputs": [
    {
     "data": {
      "text/html": [
       "<div>\n",
       "<style scoped>\n",
       "    .dataframe tbody tr th:only-of-type {\n",
       "        vertical-align: middle;\n",
       "    }\n",
       "\n",
       "    .dataframe tbody tr th {\n",
       "        vertical-align: top;\n",
       "    }\n",
       "\n",
       "    .dataframe thead th {\n",
       "        text-align: right;\n",
       "    }\n",
       "</style>\n",
       "<table border=\"1\" class=\"dataframe\">\n",
       "  <thead>\n",
       "    <tr style=\"text-align: right;\">\n",
       "      <th></th>\n",
       "      <th>count</th>\n",
       "      <th>last_price_mln</th>\n",
       "      <th>total_area</th>\n",
       "      <th>avg_m2_price</th>\n",
       "    </tr>\n",
       "    <tr>\n",
       "      <th>locality_name_unique</th>\n",
       "      <th></th>\n",
       "      <th></th>\n",
       "      <th></th>\n",
       "      <th></th>\n",
       "    </tr>\n",
       "  </thead>\n",
       "  <tbody>\n",
       "    <tr>\n",
       "      <th>Санкт-Петербург</th>\n",
       "      <td>15570</td>\n",
       "      <td>126080.424936</td>\n",
       "      <td>1008769</td>\n",
       "      <td>124984</td>\n",
       "    </tr>\n",
       "    <tr>\n",
       "      <th>Мурино</th>\n",
       "      <td>562</td>\n",
       "      <td>2102.762700</td>\n",
       "      <td>25177</td>\n",
       "      <td>83519</td>\n",
       "    </tr>\n",
       "    <tr>\n",
       "      <th>Кудрово</th>\n",
       "      <td>450</td>\n",
       "      <td>2000.521760</td>\n",
       "      <td>21202</td>\n",
       "      <td>94355</td>\n",
       "    </tr>\n",
       "    <tr>\n",
       "      <th>Шушары</th>\n",
       "      <td>436</td>\n",
       "      <td>1797.605999</td>\n",
       "      <td>23489</td>\n",
       "      <td>76529</td>\n",
       "    </tr>\n",
       "    <tr>\n",
       "      <th>Всеволожск</th>\n",
       "      <td>391</td>\n",
       "      <td>1494.699965</td>\n",
       "      <td>21992</td>\n",
       "      <td>67965</td>\n",
       "    </tr>\n",
       "    <tr>\n",
       "      <th>Пушкин</th>\n",
       "      <td>366</td>\n",
       "      <td>2373.124264</td>\n",
       "      <td>22490</td>\n",
       "      <td>105519</td>\n",
       "    </tr>\n",
       "    <tr>\n",
       "      <th>Колпино</th>\n",
       "      <td>337</td>\n",
       "      <td>1336.739246</td>\n",
       "      <td>17883</td>\n",
       "      <td>74749</td>\n",
       "    </tr>\n",
       "    <tr>\n",
       "      <th>Парголово</th>\n",
       "      <td>322</td>\n",
       "      <td>1455.145459</td>\n",
       "      <td>16616</td>\n",
       "      <td>87574</td>\n",
       "    </tr>\n",
       "    <tr>\n",
       "      <th>Гатчина</th>\n",
       "      <td>307</td>\n",
       "      <td>1070.919360</td>\n",
       "      <td>15581</td>\n",
       "      <td>68732</td>\n",
       "    </tr>\n",
       "    <tr>\n",
       "      <th>Выборг</th>\n",
       "      <td>235</td>\n",
       "      <td>766.283000</td>\n",
       "      <td>13191</td>\n",
       "      <td>58091</td>\n",
       "    </tr>\n",
       "  </tbody>\n",
       "</table>\n",
       "</div>"
      ],
      "text/plain": [
       "                      count  last_price_mln  total_area  avg_m2_price\n",
       "locality_name_unique                                                 \n",
       "Санкт-Петербург       15570   126080.424936     1008769        124984\n",
       "Мурино                  562     2102.762700       25177         83519\n",
       "Кудрово                 450     2000.521760       21202         94355\n",
       "Шушары                  436     1797.605999       23489         76529\n",
       "Всеволожск              391     1494.699965       21992         67965\n",
       "Пушкин                  366     2373.124264       22490        105519\n",
       "Колпино                 337     1336.739246       17883         74749\n",
       "Парголово               322     1455.145459       16616         87574\n",
       "Гатчина                 307     1070.919360       15581         68732\n",
       "Выборг                  235      766.283000       13191         58091"
      ]
     },
     "execution_count": 72,
     "metadata": {},
     "output_type": "execute_result"
    }
   ],
   "source": [
    "df_prices.sort_values(by='count',ascending=False).head(10)"
   ]
  },
  {
   "cell_type": "markdown",
   "id": "c006f77c",
   "metadata": {},
   "source": [
    "#### 3.5.2 Locations with the highest cost per square meter <a class=\"anchor\" id=\"sub_section3_5_2\"></a>"
   ]
  },
  {
   "cell_type": "code",
   "execution_count": 73,
   "id": "4899e852",
   "metadata": {},
   "outputs": [
    {
     "data": {
      "text/html": [
       "<div>\n",
       "<style scoped>\n",
       "    .dataframe tbody tr th:only-of-type {\n",
       "        vertical-align: middle;\n",
       "    }\n",
       "\n",
       "    .dataframe tbody tr th {\n",
       "        vertical-align: top;\n",
       "    }\n",
       "\n",
       "    .dataframe thead th {\n",
       "        text-align: right;\n",
       "    }\n",
       "</style>\n",
       "<table border=\"1\" class=\"dataframe\">\n",
       "  <thead>\n",
       "    <tr style=\"text-align: right;\">\n",
       "      <th></th>\n",
       "      <th>count</th>\n",
       "      <th>last_price_mln</th>\n",
       "      <th>total_area</th>\n",
       "      <th>avg_m2_price</th>\n",
       "    </tr>\n",
       "    <tr>\n",
       "      <th>locality_name_unique</th>\n",
       "      <th></th>\n",
       "      <th></th>\n",
       "      <th></th>\n",
       "      <th></th>\n",
       "    </tr>\n",
       "  </thead>\n",
       "  <tbody>\n",
       "    <tr>\n",
       "      <th>Санкт-Петербург</th>\n",
       "      <td>15570</td>\n",
       "      <td>126080.424936</td>\n",
       "      <td>1008769</td>\n",
       "      <td>124984</td>\n",
       "    </tr>\n",
       "    <tr>\n",
       "      <th>Зеленогорск</th>\n",
       "      <td>24</td>\n",
       "      <td>150.920100</td>\n",
       "      <td>1303</td>\n",
       "      <td>115825</td>\n",
       "    </tr>\n",
       "    <tr>\n",
       "      <th>Репино</th>\n",
       "      <td>4</td>\n",
       "      <td>48.667416</td>\n",
       "      <td>431</td>\n",
       "      <td>112917</td>\n",
       "    </tr>\n",
       "    <tr>\n",
       "      <th>Пушкин</th>\n",
       "      <td>366</td>\n",
       "      <td>2373.124264</td>\n",
       "      <td>22490</td>\n",
       "      <td>105519</td>\n",
       "    </tr>\n",
       "    <tr>\n",
       "      <th>Лисий Нос</th>\n",
       "      <td>3</td>\n",
       "      <td>12.405000</td>\n",
       "      <td>119</td>\n",
       "      <td>104243</td>\n",
       "    </tr>\n",
       "    <tr>\n",
       "      <th>Сестрорецк</th>\n",
       "      <td>183</td>\n",
       "      <td>1160.535140</td>\n",
       "      <td>11558</td>\n",
       "      <td>100409</td>\n",
       "    </tr>\n",
       "    <tr>\n",
       "      <th>Мистолово</th>\n",
       "      <td>11</td>\n",
       "      <td>52.471250</td>\n",
       "      <td>524</td>\n",
       "      <td>100135</td>\n",
       "    </tr>\n",
       "    <tr>\n",
       "      <th>Левашово</th>\n",
       "      <td>1</td>\n",
       "      <td>4.200000</td>\n",
       "      <td>43</td>\n",
       "      <td>97674</td>\n",
       "    </tr>\n",
       "    <tr>\n",
       "      <th>Прочее</th>\n",
       "      <td>49</td>\n",
       "      <td>330.513201</td>\n",
       "      <td>3409</td>\n",
       "      <td>96953</td>\n",
       "    </tr>\n",
       "    <tr>\n",
       "      <th>Кудрово</th>\n",
       "      <td>450</td>\n",
       "      <td>2000.521760</td>\n",
       "      <td>21202</td>\n",
       "      <td>94355</td>\n",
       "    </tr>\n",
       "    <tr>\n",
       "      <th>Бор</th>\n",
       "      <td>2</td>\n",
       "      <td>20.795200</td>\n",
       "      <td>230</td>\n",
       "      <td>90413</td>\n",
       "    </tr>\n",
       "    <tr>\n",
       "      <th>Стрельна</th>\n",
       "      <td>44</td>\n",
       "      <td>219.318000</td>\n",
       "      <td>2492</td>\n",
       "      <td>88008</td>\n",
       "    </tr>\n",
       "    <tr>\n",
       "      <th>Парголово</th>\n",
       "      <td>322</td>\n",
       "      <td>1455.145459</td>\n",
       "      <td>16616</td>\n",
       "      <td>87574</td>\n",
       "    </tr>\n",
       "    <tr>\n",
       "      <th>Петергоф</th>\n",
       "      <td>201</td>\n",
       "      <td>889.192000</td>\n",
       "      <td>10346</td>\n",
       "      <td>85945</td>\n",
       "    </tr>\n",
       "    <tr>\n",
       "      <th>Павловск</th>\n",
       "      <td>38</td>\n",
       "      <td>187.329000</td>\n",
       "      <td>2222</td>\n",
       "      <td>84306</td>\n",
       "    </tr>\n",
       "    <tr>\n",
       "      <th>Мурино</th>\n",
       "      <td>562</td>\n",
       "      <td>2102.762700</td>\n",
       "      <td>25177</td>\n",
       "      <td>83519</td>\n",
       "    </tr>\n",
       "    <tr>\n",
       "      <th>Новая Ропша</th>\n",
       "      <td>1</td>\n",
       "      <td>3.000000</td>\n",
       "      <td>37</td>\n",
       "      <td>81081</td>\n",
       "    </tr>\n",
       "    <tr>\n",
       "      <th>Ильичёво</th>\n",
       "      <td>8</td>\n",
       "      <td>21.649000</td>\n",
       "      <td>272</td>\n",
       "      <td>79591</td>\n",
       "    </tr>\n",
       "    <tr>\n",
       "      <th>Юкки</th>\n",
       "      <td>5</td>\n",
       "      <td>21.750000</td>\n",
       "      <td>274</td>\n",
       "      <td>79379</td>\n",
       "    </tr>\n",
       "    <tr>\n",
       "      <th>Кронштадт</th>\n",
       "      <td>95</td>\n",
       "      <td>393.716999</td>\n",
       "      <td>4966</td>\n",
       "      <td>79282</td>\n",
       "    </tr>\n",
       "  </tbody>\n",
       "</table>\n",
       "</div>"
      ],
      "text/plain": [
       "                      count  last_price_mln  total_area  avg_m2_price\n",
       "locality_name_unique                                                 \n",
       "Санкт-Петербург       15570   126080.424936     1008769        124984\n",
       "Зеленогорск              24      150.920100        1303        115825\n",
       "Репино                    4       48.667416         431        112917\n",
       "Пушкин                  366     2373.124264       22490        105519\n",
       "Лисий Нос                 3       12.405000         119        104243\n",
       "Сестрорецк              183     1160.535140       11558        100409\n",
       "Мистолово                11       52.471250         524        100135\n",
       "Левашово                  1        4.200000          43         97674\n",
       "Прочее                   49      330.513201        3409         96953\n",
       "Кудрово                 450     2000.521760       21202         94355\n",
       "Бор                       2       20.795200         230         90413\n",
       "Стрельна                 44      219.318000        2492         88008\n",
       "Парголово               322     1455.145459       16616         87574\n",
       "Петергоф                201      889.192000       10346         85945\n",
       "Павловск                 38      187.329000        2222         84306\n",
       "Мурино                  562     2102.762700       25177         83519\n",
       "Новая Ропша               1        3.000000          37         81081\n",
       "Ильичёво                  8       21.649000         272         79591\n",
       "Юкки                      5       21.750000         274         79379\n",
       "Кронштадт                95      393.716999        4966         79282"
      ]
     },
     "execution_count": 73,
     "metadata": {},
     "output_type": "execute_result"
    }
   ],
   "source": [
    "df_prices.sort_values(by='avg_m2_price',ascending=False).head(20)"
   ]
  },
  {
   "cell_type": "markdown",
   "id": "8c66048e",
   "metadata": {},
   "source": [
    "#### 3.5.3 Locations with the lowest cost per square meter <a class=\"anchor\" id=\"sub_section3_5_3\"></a>"
   ]
  },
  {
   "cell_type": "code",
   "execution_count": 74,
   "id": "3f3159b2",
   "metadata": {},
   "outputs": [
    {
     "data": {
      "text/html": [
       "<div>\n",
       "<style scoped>\n",
       "    .dataframe tbody tr th:only-of-type {\n",
       "        vertical-align: middle;\n",
       "    }\n",
       "\n",
       "    .dataframe tbody tr th {\n",
       "        vertical-align: top;\n",
       "    }\n",
       "\n",
       "    .dataframe thead th {\n",
       "        text-align: right;\n",
       "    }\n",
       "</style>\n",
       "<table border=\"1\" class=\"dataframe\">\n",
       "  <thead>\n",
       "    <tr style=\"text-align: right;\">\n",
       "      <th></th>\n",
       "      <th>count</th>\n",
       "      <th>last_price_mln</th>\n",
       "      <th>total_area</th>\n",
       "      <th>avg_m2_price</th>\n",
       "    </tr>\n",
       "    <tr>\n",
       "      <th>locality_name_unique</th>\n",
       "      <th></th>\n",
       "      <th></th>\n",
       "      <th></th>\n",
       "      <th></th>\n",
       "    </tr>\n",
       "  </thead>\n",
       "  <tbody>\n",
       "    <tr>\n",
       "      <th>Володарское</th>\n",
       "      <td>1</td>\n",
       "      <td>0.799</td>\n",
       "      <td>47</td>\n",
       "      <td>17000</td>\n",
       "    </tr>\n",
       "    <tr>\n",
       "      <th>Серебрянский</th>\n",
       "      <td>2</td>\n",
       "      <td>1.485</td>\n",
       "      <td>88</td>\n",
       "      <td>16874</td>\n",
       "    </tr>\n",
       "    <tr>\n",
       "      <th>Большой Сабск</th>\n",
       "      <td>1</td>\n",
       "      <td>0.900</td>\n",
       "      <td>54</td>\n",
       "      <td>16666</td>\n",
       "    </tr>\n",
       "    <tr>\n",
       "      <th>Чудской Бор</th>\n",
       "      <td>1</td>\n",
       "      <td>0.500</td>\n",
       "      <td>30</td>\n",
       "      <td>16666</td>\n",
       "    </tr>\n",
       "    <tr>\n",
       "      <th>Шугозеро</th>\n",
       "      <td>1</td>\n",
       "      <td>0.950</td>\n",
       "      <td>57</td>\n",
       "      <td>16666</td>\n",
       "    </tr>\n",
       "    <tr>\n",
       "      <th>Оредеж</th>\n",
       "      <td>3</td>\n",
       "      <td>3.260</td>\n",
       "      <td>197</td>\n",
       "      <td>16548</td>\n",
       "    </tr>\n",
       "    <tr>\n",
       "      <th>Фалилеево</th>\n",
       "      <td>2</td>\n",
       "      <td>1.300</td>\n",
       "      <td>81</td>\n",
       "      <td>16049</td>\n",
       "    </tr>\n",
       "    <tr>\n",
       "      <th>Почап</th>\n",
       "      <td>1</td>\n",
       "      <td>0.850</td>\n",
       "      <td>53</td>\n",
       "      <td>16037</td>\n",
       "    </tr>\n",
       "    <tr>\n",
       "      <th>Ефимовский</th>\n",
       "      <td>3</td>\n",
       "      <td>2.440</td>\n",
       "      <td>157</td>\n",
       "      <td>15541</td>\n",
       "    </tr>\n",
       "    <tr>\n",
       "      <th>Житково</th>\n",
       "      <td>2</td>\n",
       "      <td>2.000</td>\n",
       "      <td>133</td>\n",
       "      <td>15037</td>\n",
       "    </tr>\n",
       "    <tr>\n",
       "      <th>Лужайка</th>\n",
       "      <td>1</td>\n",
       "      <td>0.900</td>\n",
       "      <td>60</td>\n",
       "      <td>15000</td>\n",
       "    </tr>\n",
       "    <tr>\n",
       "      <th>Ям-Тесово</th>\n",
       "      <td>2</td>\n",
       "      <td>1.250</td>\n",
       "      <td>89</td>\n",
       "      <td>14044</td>\n",
       "    </tr>\n",
       "    <tr>\n",
       "      <th>Сижно</th>\n",
       "      <td>1</td>\n",
       "      <td>0.850</td>\n",
       "      <td>62</td>\n",
       "      <td>13709</td>\n",
       "    </tr>\n",
       "    <tr>\n",
       "      <th>Тёсово-4</th>\n",
       "      <td>1</td>\n",
       "      <td>0.750</td>\n",
       "      <td>58</td>\n",
       "      <td>12931</td>\n",
       "    </tr>\n",
       "    <tr>\n",
       "      <th>Малая Романовка</th>\n",
       "      <td>1</td>\n",
       "      <td>0.850</td>\n",
       "      <td>66</td>\n",
       "      <td>12878</td>\n",
       "    </tr>\n",
       "    <tr>\n",
       "      <th>Совхозный</th>\n",
       "      <td>2</td>\n",
       "      <td>1.035</td>\n",
       "      <td>82</td>\n",
       "      <td>12621</td>\n",
       "    </tr>\n",
       "    <tr>\n",
       "      <th>Выскатка</th>\n",
       "      <td>2</td>\n",
       "      <td>1.170</td>\n",
       "      <td>94</td>\n",
       "      <td>12446</td>\n",
       "    </tr>\n",
       "    <tr>\n",
       "      <th>Вахнова Кара</th>\n",
       "      <td>1</td>\n",
       "      <td>0.450</td>\n",
       "      <td>38</td>\n",
       "      <td>11842</td>\n",
       "    </tr>\n",
       "    <tr>\n",
       "      <th>Свирь</th>\n",
       "      <td>2</td>\n",
       "      <td>1.150</td>\n",
       "      <td>102</td>\n",
       "      <td>11274</td>\n",
       "    </tr>\n",
       "    <tr>\n",
       "      <th>Старополье</th>\n",
       "      <td>3</td>\n",
       "      <td>1.380</td>\n",
       "      <td>123</td>\n",
       "      <td>11219</td>\n",
       "    </tr>\n",
       "  </tbody>\n",
       "</table>\n",
       "</div>"
      ],
      "text/plain": [
       "                      count  last_price_mln  total_area  avg_m2_price\n",
       "locality_name_unique                                                 \n",
       "Володарское               1           0.799          47         17000\n",
       "Серебрянский              2           1.485          88         16874\n",
       "Большой Сабск             1           0.900          54         16666\n",
       "Чудской Бор               1           0.500          30         16666\n",
       "Шугозеро                  1           0.950          57         16666\n",
       "Оредеж                    3           3.260         197         16548\n",
       "Фалилеево                 2           1.300          81         16049\n",
       "Почап                     1           0.850          53         16037\n",
       "Ефимовский                3           2.440         157         15541\n",
       "Житково                   2           2.000         133         15037\n",
       "Лужайка                   1           0.900          60         15000\n",
       "Ям-Тесово                 2           1.250          89         14044\n",
       "Сижно                     1           0.850          62         13709\n",
       "Тёсово-4                  1           0.750          58         12931\n",
       "Малая Романовка           1           0.850          66         12878\n",
       "Совхозный                 2           1.035          82         12621\n",
       "Выскатка                  2           1.170          94         12446\n",
       "Вахнова Кара              1           0.450          38         11842\n",
       "Свирь                     2           1.150         102         11274\n",
       "Старополье                3           1.380         123         11219"
      ]
     },
     "execution_count": 74,
     "metadata": {},
     "output_type": "execute_result"
    }
   ],
   "source": [
    "df_prices.sort_values(by='avg_m2_price',ascending=False).tail(20)"
   ]
  },
  {
   "cell_type": "markdown",
   "id": "25623cf1",
   "metadata": {},
   "source": [
    "#### Conclusions on the cost per square meter:\n",
    "- The most expensive square meters are in St. Petersburg (about 125 thousand rubles per m2);\n",
    "- Zelenogorsk, Lisiy Nos and Levashovo could be included in the sample of the most expensive square meters due to the small number of ads in these settlements;\n",
    "- Among the cheapest square meters are settlements with 1-3 ads, which may also indicate the unreliability of data for conclusions on these areas."
   ]
  },
  {
   "cell_type": "markdown",
   "id": "42f5736e",
   "metadata": {},
   "source": [
    "### 3.6 The price of apartments in St. Petersburg depending on the distance from the center <a class=\"anchor\" id=\"section3_6\"></a>"
   ]
  },
  {
   "cell_type": "code",
   "execution_count": 75,
   "id": "8d67f470",
   "metadata": {},
   "outputs": [
    {
     "data": {
      "text/plain": [
       "count        15482\n",
       "mean       1378731\n",
       "std        5771520\n",
       "min          83333\n",
       "25%         310000\n",
       "50%         450000\n",
       "75%        1000000\n",
       "max      330000000\n",
       "Name: price_per_center_km, dtype: object"
      ]
     },
     "execution_count": 75,
     "metadata": {},
     "output_type": "execute_result"
    }
   ],
   "source": [
    "# Extracting data\n",
    "df_spb = df.query(\"cityCenters_nearest_km > 0 and locality_name == 'Санкт-Петербург'\")\n",
    "df_spb = df_spb.astype({'cityCenters_nearest_km': 'int64'})\n",
    "df_spb['price_per_center_km'] = (df_spb['last_price']/df_spb['cityCenters_nearest_km']).round()\n",
    "df_spb['price_per_center_km'].describe().apply(\"{0:.0f}\".format)"
   ]
  },
  {
   "cell_type": "code",
   "execution_count": 76,
   "id": "e7a563f8",
   "metadata": {},
   "outputs": [
    {
     "data": {
      "text/html": [
       "<div>\n",
       "<style scoped>\n",
       "    .dataframe tbody tr th:only-of-type {\n",
       "        vertical-align: middle;\n",
       "    }\n",
       "\n",
       "    .dataframe tbody tr th {\n",
       "        vertical-align: top;\n",
       "    }\n",
       "\n",
       "    .dataframe thead th {\n",
       "        text-align: right;\n",
       "    }\n",
       "</style>\n",
       "<table border=\"1\" class=\"dataframe\">\n",
       "  <thead>\n",
       "    <tr style=\"text-align: right;\">\n",
       "      <th></th>\n",
       "      <th>total_images</th>\n",
       "      <th>last_price</th>\n",
       "      <th>total_area</th>\n",
       "      <th>first_day_exposition</th>\n",
       "      <th>rooms</th>\n",
       "      <th>ceiling_height</th>\n",
       "      <th>floors_total</th>\n",
       "      <th>living_area</th>\n",
       "      <th>floor</th>\n",
       "      <th>is_apartment</th>\n",
       "      <th>studio</th>\n",
       "      <th>open_plan</th>\n",
       "      <th>kitchen_area</th>\n",
       "      <th>balcony</th>\n",
       "      <th>locality_name</th>\n",
       "      <th>airports_nearest</th>\n",
       "      <th>cityCenters_nearest</th>\n",
       "      <th>parks_around3000</th>\n",
       "      <th>parks_nearest</th>\n",
       "      <th>ponds_around3000</th>\n",
       "      <th>ponds_nearest</th>\n",
       "      <th>days_exposition</th>\n",
       "      <th>locality_name_unique</th>\n",
       "      <th>ceiling_height_good</th>\n",
       "      <th>kitchen_check</th>\n",
       "      <th>price_per_m</th>\n",
       "      <th>weekday</th>\n",
       "      <th>month</th>\n",
       "      <th>year</th>\n",
       "      <th>floor_type</th>\n",
       "      <th>cityCenters_nearest_km</th>\n",
       "      <th>last_price_mln</th>\n",
       "      <th>price_per_center_km</th>\n",
       "    </tr>\n",
       "  </thead>\n",
       "  <tbody>\n",
       "    <tr>\n",
       "      <th>5961</th>\n",
       "      <td>6</td>\n",
       "      <td>2250000</td>\n",
       "      <td>32</td>\n",
       "      <td>2018-02-27</td>\n",
       "      <td>1</td>\n",
       "      <td>NaN</td>\n",
       "      <td>2.0</td>\n",
       "      <td>16.500000</td>\n",
       "      <td>2</td>\n",
       "      <td>False</td>\n",
       "      <td>False</td>\n",
       "      <td>False</td>\n",
       "      <td>7.000000</td>\n",
       "      <td>0.0</td>\n",
       "      <td>Санкт-Петербург</td>\n",
       "      <td>24006.0</td>\n",
       "      <td>27431.0</td>\n",
       "      <td>0.0</td>\n",
       "      <td>NaN</td>\n",
       "      <td>0.0</td>\n",
       "      <td>NaN</td>\n",
       "      <td>178.0</td>\n",
       "      <td>Санкт-Петербург</td>\n",
       "      <td>NaN</td>\n",
       "      <td>kitched_separated</td>\n",
       "      <td>7.031250e+04</td>\n",
       "      <td>2</td>\n",
       "      <td>2</td>\n",
       "      <td>2018</td>\n",
       "      <td>last</td>\n",
       "      <td>27</td>\n",
       "      <td>2.2500</td>\n",
       "      <td>83333.0</td>\n",
       "    </tr>\n",
       "    <tr>\n",
       "      <th>12160</th>\n",
       "      <td>8</td>\n",
       "      <td>2450000</td>\n",
       "      <td>43</td>\n",
       "      <td>2018-08-14</td>\n",
       "      <td>1</td>\n",
       "      <td>2.75</td>\n",
       "      <td>5.0</td>\n",
       "      <td>16.000000</td>\n",
       "      <td>1</td>\n",
       "      <td>True</td>\n",
       "      <td>False</td>\n",
       "      <td>False</td>\n",
       "      <td>7.496414</td>\n",
       "      <td>0.0</td>\n",
       "      <td>Санкт-Петербург</td>\n",
       "      <td>26069.0</td>\n",
       "      <td>29493.0</td>\n",
       "      <td>0.0</td>\n",
       "      <td>NaN</td>\n",
       "      <td>0.0</td>\n",
       "      <td>NaN</td>\n",
       "      <td>8.0</td>\n",
       "      <td>Санкт-Петербург</td>\n",
       "      <td>2.75</td>\n",
       "      <td>kitched_separated</td>\n",
       "      <td>5.697674e+04</td>\n",
       "      <td>2</td>\n",
       "      <td>8</td>\n",
       "      <td>2018</td>\n",
       "      <td>groud</td>\n",
       "      <td>29</td>\n",
       "      <td>2.4500</td>\n",
       "      <td>84483.0</td>\n",
       "    </tr>\n",
       "    <tr>\n",
       "      <th>17961</th>\n",
       "      <td>3</td>\n",
       "      <td>1400000</td>\n",
       "      <td>13</td>\n",
       "      <td>2017-12-03</td>\n",
       "      <td>1</td>\n",
       "      <td>2.60</td>\n",
       "      <td>9.0</td>\n",
       "      <td>7.476638</td>\n",
       "      <td>1</td>\n",
       "      <td>False</td>\n",
       "      <td>False</td>\n",
       "      <td>False</td>\n",
       "      <td>2.266358</td>\n",
       "      <td>0.0</td>\n",
       "      <td>Санкт-Петербург</td>\n",
       "      <td>14350.0</td>\n",
       "      <td>15945.0</td>\n",
       "      <td>0.0</td>\n",
       "      <td>NaN</td>\n",
       "      <td>1.0</td>\n",
       "      <td>185.0</td>\n",
       "      <td>410.0</td>\n",
       "      <td>Санкт-Петербург</td>\n",
       "      <td>2.60</td>\n",
       "      <td>kitched_separated</td>\n",
       "      <td>1.076923e+05</td>\n",
       "      <td>7</td>\n",
       "      <td>12</td>\n",
       "      <td>2017</td>\n",
       "      <td>groud</td>\n",
       "      <td>16</td>\n",
       "      <td>1.4000</td>\n",
       "      <td>87500.0</td>\n",
       "    </tr>\n",
       "    <tr>\n",
       "      <th>19755</th>\n",
       "      <td>11</td>\n",
       "      <td>2080000</td>\n",
       "      <td>50</td>\n",
       "      <td>2017-07-20</td>\n",
       "      <td>2</td>\n",
       "      <td>2.56</td>\n",
       "      <td>14.0</td>\n",
       "      <td>30.600000</td>\n",
       "      <td>8</td>\n",
       "      <td>False</td>\n",
       "      <td>False</td>\n",
       "      <td>False</td>\n",
       "      <td>7.500000</td>\n",
       "      <td>2.0</td>\n",
       "      <td>Санкт-Петербург</td>\n",
       "      <td>21190.0</td>\n",
       "      <td>22902.0</td>\n",
       "      <td>0.0</td>\n",
       "      <td>NaN</td>\n",
       "      <td>1.0</td>\n",
       "      <td>450.0</td>\n",
       "      <td>14.0</td>\n",
       "      <td>Санкт-Петербург</td>\n",
       "      <td>2.56</td>\n",
       "      <td>kitched_separated</td>\n",
       "      <td>4.160000e+04</td>\n",
       "      <td>4</td>\n",
       "      <td>7</td>\n",
       "      <td>2017</td>\n",
       "      <td>other</td>\n",
       "      <td>23</td>\n",
       "      <td>2.0800</td>\n",
       "      <td>90435.0</td>\n",
       "    </tr>\n",
       "    <tr>\n",
       "      <th>8894</th>\n",
       "      <td>3</td>\n",
       "      <td>2099000</td>\n",
       "      <td>23</td>\n",
       "      <td>2018-09-25</td>\n",
       "      <td>1</td>\n",
       "      <td>2.70</td>\n",
       "      <td>16.0</td>\n",
       "      <td>13.227897</td>\n",
       "      <td>10</td>\n",
       "      <td>False</td>\n",
       "      <td>False</td>\n",
       "      <td>False</td>\n",
       "      <td>4.009710</td>\n",
       "      <td>2.0</td>\n",
       "      <td>Санкт-Петербург</td>\n",
       "      <td>19212.0</td>\n",
       "      <td>22637.0</td>\n",
       "      <td>0.0</td>\n",
       "      <td>NaN</td>\n",
       "      <td>1.0</td>\n",
       "      <td>457.0</td>\n",
       "      <td>37.0</td>\n",
       "      <td>Санкт-Петербург</td>\n",
       "      <td>2.70</td>\n",
       "      <td>kitched_separated</td>\n",
       "      <td>9.126087e+04</td>\n",
       "      <td>2</td>\n",
       "      <td>9</td>\n",
       "      <td>2018</td>\n",
       "      <td>other</td>\n",
       "      <td>23</td>\n",
       "      <td>2.0990</td>\n",
       "      <td>91261.0</td>\n",
       "    </tr>\n",
       "    <tr>\n",
       "      <th>...</th>\n",
       "      <td>...</td>\n",
       "      <td>...</td>\n",
       "      <td>...</td>\n",
       "      <td>...</td>\n",
       "      <td>...</td>\n",
       "      <td>...</td>\n",
       "      <td>...</td>\n",
       "      <td>...</td>\n",
       "      <td>...</td>\n",
       "      <td>...</td>\n",
       "      <td>...</td>\n",
       "      <td>...</td>\n",
       "      <td>...</td>\n",
       "      <td>...</td>\n",
       "      <td>...</td>\n",
       "      <td>...</td>\n",
       "      <td>...</td>\n",
       "      <td>...</td>\n",
       "      <td>...</td>\n",
       "      <td>...</td>\n",
       "      <td>...</td>\n",
       "      <td>...</td>\n",
       "      <td>...</td>\n",
       "      <td>...</td>\n",
       "      <td>...</td>\n",
       "      <td>...</td>\n",
       "      <td>...</td>\n",
       "      <td>...</td>\n",
       "      <td>...</td>\n",
       "      <td>...</td>\n",
       "      <td>...</td>\n",
       "      <td>...</td>\n",
       "      <td>...</td>\n",
       "    </tr>\n",
       "    <tr>\n",
       "      <th>19155</th>\n",
       "      <td>20</td>\n",
       "      <td>160000000</td>\n",
       "      <td>243</td>\n",
       "      <td>2018-11-12</td>\n",
       "      <td>5</td>\n",
       "      <td>NaN</td>\n",
       "      <td>5.0</td>\n",
       "      <td>145.000000</td>\n",
       "      <td>4</td>\n",
       "      <td>False</td>\n",
       "      <td>False</td>\n",
       "      <td>False</td>\n",
       "      <td>33.000000</td>\n",
       "      <td>0.0</td>\n",
       "      <td>Санкт-Петербург</td>\n",
       "      <td>22640.0</td>\n",
       "      <td>555.0</td>\n",
       "      <td>3.0</td>\n",
       "      <td>285.0</td>\n",
       "      <td>1.0</td>\n",
       "      <td>200.0</td>\n",
       "      <td>18.0</td>\n",
       "      <td>Санкт-Петербург</td>\n",
       "      <td>NaN</td>\n",
       "      <td>kitched_separated</td>\n",
       "      <td>6.584362e+05</td>\n",
       "      <td>1</td>\n",
       "      <td>11</td>\n",
       "      <td>2018</td>\n",
       "      <td>other</td>\n",
       "      <td>1</td>\n",
       "      <td>160.0000</td>\n",
       "      <td>160000000.0</td>\n",
       "    </tr>\n",
       "    <tr>\n",
       "      <th>12971</th>\n",
       "      <td>19</td>\n",
       "      <td>763000000</td>\n",
       "      <td>400</td>\n",
       "      <td>2017-09-30</td>\n",
       "      <td>7</td>\n",
       "      <td>NaN</td>\n",
       "      <td>10.0</td>\n",
       "      <td>250.000000</td>\n",
       "      <td>10</td>\n",
       "      <td>False</td>\n",
       "      <td>False</td>\n",
       "      <td>False</td>\n",
       "      <td>69.734085</td>\n",
       "      <td>2.0</td>\n",
       "      <td>Санкт-Петербург</td>\n",
       "      <td>25108.0</td>\n",
       "      <td>3956.0</td>\n",
       "      <td>1.0</td>\n",
       "      <td>530.0</td>\n",
       "      <td>3.0</td>\n",
       "      <td>756.0</td>\n",
       "      <td>33.0</td>\n",
       "      <td>Санкт-Петербург</td>\n",
       "      <td>NaN</td>\n",
       "      <td>kitched_separated</td>\n",
       "      <td>1.907500e+06</td>\n",
       "      <td>6</td>\n",
       "      <td>9</td>\n",
       "      <td>2017</td>\n",
       "      <td>last</td>\n",
       "      <td>4</td>\n",
       "      <td>763.0000</td>\n",
       "      <td>190750000.0</td>\n",
       "    </tr>\n",
       "    <tr>\n",
       "      <th>14706</th>\n",
       "      <td>15</td>\n",
       "      <td>401300000</td>\n",
       "      <td>401</td>\n",
       "      <td>2016-02-20</td>\n",
       "      <td>5</td>\n",
       "      <td>NaN</td>\n",
       "      <td>9.0</td>\n",
       "      <td>204.000000</td>\n",
       "      <td>9</td>\n",
       "      <td>False</td>\n",
       "      <td>False</td>\n",
       "      <td>False</td>\n",
       "      <td>24.000000</td>\n",
       "      <td>3.0</td>\n",
       "      <td>Санкт-Петербург</td>\n",
       "      <td>21912.0</td>\n",
       "      <td>2389.0</td>\n",
       "      <td>1.0</td>\n",
       "      <td>545.0</td>\n",
       "      <td>1.0</td>\n",
       "      <td>478.0</td>\n",
       "      <td>393.0</td>\n",
       "      <td>Санкт-Петербург</td>\n",
       "      <td>NaN</td>\n",
       "      <td>kitched_separated</td>\n",
       "      <td>1.000748e+06</td>\n",
       "      <td>6</td>\n",
       "      <td>2</td>\n",
       "      <td>2016</td>\n",
       "      <td>last</td>\n",
       "      <td>2</td>\n",
       "      <td>401.3000</td>\n",
       "      <td>200650000.0</td>\n",
       "    </tr>\n",
       "    <tr>\n",
       "      <th>22831</th>\n",
       "      <td>18</td>\n",
       "      <td>289238400</td>\n",
       "      <td>187</td>\n",
       "      <td>2019-03-19</td>\n",
       "      <td>2</td>\n",
       "      <td>3.37</td>\n",
       "      <td>6.0</td>\n",
       "      <td>63.700000</td>\n",
       "      <td>6</td>\n",
       "      <td>False</td>\n",
       "      <td>False</td>\n",
       "      <td>False</td>\n",
       "      <td>30.200000</td>\n",
       "      <td>0.0</td>\n",
       "      <td>Санкт-Петербург</td>\n",
       "      <td>22494.0</td>\n",
       "      <td>1073.0</td>\n",
       "      <td>3.0</td>\n",
       "      <td>386.0</td>\n",
       "      <td>3.0</td>\n",
       "      <td>188.0</td>\n",
       "      <td>NaN</td>\n",
       "      <td>Санкт-Петербург</td>\n",
       "      <td>3.37</td>\n",
       "      <td>kitched_separated</td>\n",
       "      <td>1.546729e+06</td>\n",
       "      <td>2</td>\n",
       "      <td>3</td>\n",
       "      <td>2019</td>\n",
       "      <td>last</td>\n",
       "      <td>1</td>\n",
       "      <td>289.2384</td>\n",
       "      <td>289238400.0</td>\n",
       "    </tr>\n",
       "    <tr>\n",
       "      <th>1436</th>\n",
       "      <td>19</td>\n",
       "      <td>330000000</td>\n",
       "      <td>190</td>\n",
       "      <td>2018-04-04</td>\n",
       "      <td>3</td>\n",
       "      <td>3.50</td>\n",
       "      <td>7.0</td>\n",
       "      <td>95.000000</td>\n",
       "      <td>5</td>\n",
       "      <td>False</td>\n",
       "      <td>False</td>\n",
       "      <td>False</td>\n",
       "      <td>40.000000</td>\n",
       "      <td>0.0</td>\n",
       "      <td>Санкт-Петербург</td>\n",
       "      <td>23011.0</td>\n",
       "      <td>1197.0</td>\n",
       "      <td>3.0</td>\n",
       "      <td>519.0</td>\n",
       "      <td>3.0</td>\n",
       "      <td>285.0</td>\n",
       "      <td>233.0</td>\n",
       "      <td>Санкт-Петербург</td>\n",
       "      <td>3.50</td>\n",
       "      <td>kitched_separated</td>\n",
       "      <td>1.736842e+06</td>\n",
       "      <td>3</td>\n",
       "      <td>4</td>\n",
       "      <td>2018</td>\n",
       "      <td>other</td>\n",
       "      <td>1</td>\n",
       "      <td>330.0000</td>\n",
       "      <td>330000000.0</td>\n",
       "    </tr>\n",
       "  </tbody>\n",
       "</table>\n",
       "<p>15482 rows × 33 columns</p>\n",
       "</div>"
      ],
      "text/plain": [
       "       total_images  last_price  total_area first_day_exposition  rooms  \\\n",
       "5961              6     2250000          32           2018-02-27      1   \n",
       "12160             8     2450000          43           2018-08-14      1   \n",
       "17961             3     1400000          13           2017-12-03      1   \n",
       "19755            11     2080000          50           2017-07-20      2   \n",
       "8894              3     2099000          23           2018-09-25      1   \n",
       "...             ...         ...         ...                  ...    ...   \n",
       "19155            20   160000000         243           2018-11-12      5   \n",
       "12971            19   763000000         400           2017-09-30      7   \n",
       "14706            15   401300000         401           2016-02-20      5   \n",
       "22831            18   289238400         187           2019-03-19      2   \n",
       "1436             19   330000000         190           2018-04-04      3   \n",
       "\n",
       "       ceiling_height  floors_total  living_area  floor  is_apartment  studio  \\\n",
       "5961              NaN           2.0    16.500000      2         False   False   \n",
       "12160            2.75           5.0    16.000000      1          True   False   \n",
       "17961            2.60           9.0     7.476638      1         False   False   \n",
       "19755            2.56          14.0    30.600000      8         False   False   \n",
       "8894             2.70          16.0    13.227897     10         False   False   \n",
       "...               ...           ...          ...    ...           ...     ...   \n",
       "19155             NaN           5.0   145.000000      4         False   False   \n",
       "12971             NaN          10.0   250.000000     10         False   False   \n",
       "14706             NaN           9.0   204.000000      9         False   False   \n",
       "22831            3.37           6.0    63.700000      6         False   False   \n",
       "1436             3.50           7.0    95.000000      5         False   False   \n",
       "\n",
       "       open_plan  kitchen_area  balcony    locality_name  airports_nearest  \\\n",
       "5961       False      7.000000      0.0  Санкт-Петербург           24006.0   \n",
       "12160      False      7.496414      0.0  Санкт-Петербург           26069.0   \n",
       "17961      False      2.266358      0.0  Санкт-Петербург           14350.0   \n",
       "19755      False      7.500000      2.0  Санкт-Петербург           21190.0   \n",
       "8894       False      4.009710      2.0  Санкт-Петербург           19212.0   \n",
       "...          ...           ...      ...              ...               ...   \n",
       "19155      False     33.000000      0.0  Санкт-Петербург           22640.0   \n",
       "12971      False     69.734085      2.0  Санкт-Петербург           25108.0   \n",
       "14706      False     24.000000      3.0  Санкт-Петербург           21912.0   \n",
       "22831      False     30.200000      0.0  Санкт-Петербург           22494.0   \n",
       "1436       False     40.000000      0.0  Санкт-Петербург           23011.0   \n",
       "\n",
       "       cityCenters_nearest  parks_around3000  parks_nearest  ponds_around3000  \\\n",
       "5961               27431.0               0.0            NaN               0.0   \n",
       "12160              29493.0               0.0            NaN               0.0   \n",
       "17961              15945.0               0.0            NaN               1.0   \n",
       "19755              22902.0               0.0            NaN               1.0   \n",
       "8894               22637.0               0.0            NaN               1.0   \n",
       "...                    ...               ...            ...               ...   \n",
       "19155                555.0               3.0          285.0               1.0   \n",
       "12971               3956.0               1.0          530.0               3.0   \n",
       "14706               2389.0               1.0          545.0               1.0   \n",
       "22831               1073.0               3.0          386.0               3.0   \n",
       "1436                1197.0               3.0          519.0               3.0   \n",
       "\n",
       "       ponds_nearest  days_exposition locality_name_unique  \\\n",
       "5961             NaN            178.0      Санкт-Петербург   \n",
       "12160            NaN              8.0      Санкт-Петербург   \n",
       "17961          185.0            410.0      Санкт-Петербург   \n",
       "19755          450.0             14.0      Санкт-Петербург   \n",
       "8894           457.0             37.0      Санкт-Петербург   \n",
       "...              ...              ...                  ...   \n",
       "19155          200.0             18.0      Санкт-Петербург   \n",
       "12971          756.0             33.0      Санкт-Петербург   \n",
       "14706          478.0            393.0      Санкт-Петербург   \n",
       "22831          188.0              NaN      Санкт-Петербург   \n",
       "1436           285.0            233.0      Санкт-Петербург   \n",
       "\n",
       "       ceiling_height_good      kitchen_check   price_per_m  weekday  month  \\\n",
       "5961                   NaN  kitched_separated  7.031250e+04        2      2   \n",
       "12160                 2.75  kitched_separated  5.697674e+04        2      8   \n",
       "17961                 2.60  kitched_separated  1.076923e+05        7     12   \n",
       "19755                 2.56  kitched_separated  4.160000e+04        4      7   \n",
       "8894                  2.70  kitched_separated  9.126087e+04        2      9   \n",
       "...                    ...                ...           ...      ...    ...   \n",
       "19155                  NaN  kitched_separated  6.584362e+05        1     11   \n",
       "12971                  NaN  kitched_separated  1.907500e+06        6      9   \n",
       "14706                  NaN  kitched_separated  1.000748e+06        6      2   \n",
       "22831                 3.37  kitched_separated  1.546729e+06        2      3   \n",
       "1436                  3.50  kitched_separated  1.736842e+06        3      4   \n",
       "\n",
       "       year floor_type  cityCenters_nearest_km  last_price_mln  \\\n",
       "5961   2018       last                      27          2.2500   \n",
       "12160  2018      groud                      29          2.4500   \n",
       "17961  2017      groud                      16          1.4000   \n",
       "19755  2017      other                      23          2.0800   \n",
       "8894   2018      other                      23          2.0990   \n",
       "...     ...        ...                     ...             ...   \n",
       "19155  2018      other                       1        160.0000   \n",
       "12971  2017       last                       4        763.0000   \n",
       "14706  2016       last                       2        401.3000   \n",
       "22831  2019       last                       1        289.2384   \n",
       "1436   2018      other                       1        330.0000   \n",
       "\n",
       "       price_per_center_km  \n",
       "5961               83333.0  \n",
       "12160              84483.0  \n",
       "17961              87500.0  \n",
       "19755              90435.0  \n",
       "8894               91261.0  \n",
       "...                    ...  \n",
       "19155          160000000.0  \n",
       "12971          190750000.0  \n",
       "14706          200650000.0  \n",
       "22831          289238400.0  \n",
       "1436           330000000.0  \n",
       "\n",
       "[15482 rows x 33 columns]"
      ]
     },
     "execution_count": 76,
     "metadata": {},
     "output_type": "execute_result"
    }
   ],
   "source": [
    "df_spb.sort_values(by='price_per_center_km')"
   ]
  },
  {
   "cell_type": "code",
   "execution_count": 77,
   "id": "a6491e73",
   "metadata": {},
   "outputs": [
    {
     "data": {
      "text/plain": [
       "<Axes: xlabel='cityCenters_nearest_km', ylabel='price_per_center_km'>"
      ]
     },
     "execution_count": 77,
     "metadata": {},
     "output_type": "execute_result"
    },
    {
     "data": {
      "image/png": "[encoded data removed]",
      "text/plain": [
       "<Figure size 432x288 with 1 Axes>"
      ]
     },
     "metadata": {
      "needs_background": "light"
     },
     "output_type": "display_data"
    }
   ],
   "source": [
    "df_spb.plot(x='cityCenters_nearest_km', y='price_per_center_km', kind='scatter', alpha=0.3)"
   ]
  },
  {
   "cell_type": "code",
   "execution_count": 78,
   "id": "d630c2ca",
   "metadata": {},
   "outputs": [
    {
     "data": {
      "text/plain": [
       "-0.2556050504656766"
      ]
     },
     "execution_count": 78,
     "metadata": {},
     "output_type": "execute_result"
    }
   ],
   "source": [
    "df_spb['last_price'].corr(df_spb['cityCenters_nearest'])"
   ]
  },
  {
   "cell_type": "markdown",
   "id": "98def43f",
   "metadata": {},
   "source": [
    "**Conclusion:** There is a weak negative correlation (**-0.256**) between the price and distance from the center attributes, which means that it poorly describes the price increase with a decrease in the distance to the center. It is likely that the correlation coefficient is influenced by the small number of premium housing in the sample, which is more likely to be located in the center. At the same time, the graph shows that the most expensive apartments are located mainly 5 kilometers from the center."
   ]
  },
  {
   "cell_type": "markdown",
   "id": "0134943c",
   "metadata": {},
   "source": [
    "# 4. Results <a class=\"anchor\" id=\"chapter4\"></a>"
   ]
  },
  {
   "cell_type": "markdown",
   "id": "0a829e07",
   "metadata": {},
   "source": [
    "Based on the investigated data, it was possible to form some conclusions regarding the residential real estate market of St. Petersburg and the region around: <br>\n",
    "- Every second apartment is sold on the service within 3 months;\n",
    "- The cost of an apartment is significantly influenced by its footage, both total and living;\n",
    "- There is a negative correlation between remoteness and the cost of housing, but for an accurate assessment of the effect, it is necessary to remove the influence of a small number of advertisements for the sale of apartments in the center;\n",
    "- On the service, with an increase in the number of ads, the average price of apartments for sale decreased with normalization by 2018."
   ]
  }
 ],
 "metadata": {
  "kernelspec": {
   "display_name": "Python 3",
   "language": "python",
   "name": "python3"
  },
  "language_info": {
   "codemirror_mode": {
    "name": "ipython",
    "version": 3
   },
   "file_extension": ".py",
   "mimetype": "text/x-python",
   "name": "python",
   "nbconvert_exporter": "python",
   "pygments_lexer": "ipython3",
   "version": "3.8.8"
  }
 },
 "nbformat": 4,
 "nbformat_minor": 5
}
