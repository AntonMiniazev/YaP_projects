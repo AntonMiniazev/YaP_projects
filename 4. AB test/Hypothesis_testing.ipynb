{
 "cells": [
  {
   "cell_type": "markdown",
   "id": "8db36db0",
   "metadata": {},
   "source": [
    "## Table of Contents\n",
    "* [1. Introduction](#chapter1)\n",
    "    * [1.1 Description](#section1_1)\n",
    "    * [1.2 Main aims](#section1_2)\n",
    "    * [1.3 Data description](#section1_3)\n",
    "* [2. Preparation](#chapter2)\n",
    "    * [2.1 Importing libs](#section2_1)\n",
    "    * [2.2 Data import, research and preparation](#section2_2) \n",
    "* [3. Prioritization of hypotheses](#chapter3)\n",
    "    * [3.1 Applying framework ICE for prioritization](#section3_1)\n",
    "    * [3.2 Applying framework RICE for prioritization](#section3_2)\n",
    "    * [3.3 Interpretation of the application of frameworks](#section3_3)\n",
    "* [4. A/B testing](#chapter4)\n",
    "    * [4.1 Exploration of data.](#section4_1)\n",
    "    * [4.2 Exploration of cumulative revenue by groups.](#section4_2)\n",
    "    * [4.3 Analysis of cumulative average check by groups.](#section4_3)\n",
    "    * [4.4 Relative change in cumulative average check of Group B compared to Group A.](#section4_4)\n",
    "    * [4.5 Cumulative average number of orders per users by groups.](#section4_5)\n",
    "    * [4.6 Relative change of cumulative average number of orders per user of Group B to Group A.](#section4_6)\n",
    "    * [4.7 Scatter plot of the number of orders per user.](#section4_7)\n",
    "    * [4.8 Calculating the 95th and 99th percentiles of the number of orders per user.](#section4_8)\n",
    "    * [4.9 Scatter plot of revenue from orders.](#section4_9)\n",
    "    * [4.10 95-th and 99-th percentile of order value.](#section4_10)\n",
    "    * [4.11 Calculation of statistical significance of differences in the average number of orders per visitor between groups based on \"raw\" data.](#section4_11)\n",
    "    * [4.12 Calculation of statistical significance of the differences in the average order value between groups based on \"raw\" data.](#section4_12)\n",
    "    * [4.13 Calculation of the statistical significance of differences in the average number of orders per visitor between groups based on \"clean\" data.](#section4_13)\n",
    "    * [4.14 Calculation of the statistical significance of the differences in the average order value between the groups based on \"clean\" data.](#section4_14)    \n",
    "* [5. Results](#chapter5)    "
   ]
  },
  {
   "cell_type": "markdown",
   "id": "18287eeb",
   "metadata": {},
   "source": [
    "# 1. Introduction <a class=\"anchor\" id=\"chapter1\"></a>"
   ]
  },
  {
   "cell_type": "markdown",
   "id": "d0c8c711",
   "metadata": {},
   "source": [
    "### 1.1 Description <a class=\"anchor\" id=\"section1_1\"></a>"
   ]
  },
  {
   "cell_type": "markdown",
   "id": "46e70448",
   "metadata": {},
   "source": [
    "This work involves analyzing the data of a large online store. Together with the marketing department, a list of hypotheses is being analyzed to increase revenue. The result of the work is the prioritization of hypotheses, conducting an A/B test, and interpreting its results."
   ]
  },
  {
   "cell_type": "markdown",
   "id": "88b3579d",
   "metadata": {},
   "source": [
    "### 1.2 Main aims: <a class=\"anchor\" id=\"section1_2\"></a>"
   ]
  },
  {
   "cell_type": "markdown",
   "id": "a76b4d3b",
   "metadata": {},
   "source": [
    "1. Prioritization of given hypothesis.\n",
    "2. A/B test results interpretation with provision of recommendations."
   ]
  },
  {
   "cell_type": "markdown",
   "id": "67488319",
   "metadata": {},
   "source": [
    "### 1.3 Data description <a class=\"anchor\" id=\"section1_3\"></a>"
   ]
  },
  {
   "cell_type": "markdown",
   "id": "877c9f27",
   "metadata": {},
   "source": [
    "File **hypothesis.csv** conatains list of hypotheses, which should be prioritazed:\n",
    "- `Hypothesis` - a brief description of the hypothesis;\n",
    "- `Reach` - user coverage on a 10-point scale;\n",
    "- `Impact` - impact on users on a 10-point scale;\n",
    "- `Confidence` - confidence in the hypothesis on a 10-point scale;\n",
    "- `Efforts` - resources spent on testing the hypothesis on a 10-point scale. The higher the Efforts value, the more expensive testing the hypothesis.\n",
    "\n",
    "File **orders.csv** contains orders from A/B test:\n",
    "- `transactionId` - order identifier;\n",
    "- `visitorId` - identifier of the user who made the order;\n",
    "- `date` - the date the order was made;\n",
    "- `revenue` - revenue of the order;\n",
    "- `group` - the A/B test group to which the order belongs.\n",
    "\n",
    "File **visitors.csv**contains visitors from A/B test:\n",
    "- `date` - date;\n",
    "- `group` - A/B test group;\n",
    "- `visitors` - number of users on the specified date in the specified A/B test group."
   ]
  },
  {
   "cell_type": "markdown",
   "id": "6741164f",
   "metadata": {},
   "source": [
    "# 2. Preparation <a class=\"anchor\" id=\"chapter2\"></a>"
   ]
  },
  {
   "cell_type": "markdown",
   "id": "85af99de",
   "metadata": {},
   "source": [
    "### 2.1 Importing libs <a class=\"anchor\" id=\"section2_1\"></a>"
   ]
  },
  {
   "cell_type": "code",
   "execution_count": 1,
   "id": "8899cf9d",
   "metadata": {},
   "outputs": [],
   "source": [
    "import pandas as pd\n",
    "import numpy as np\n",
    "import scipy.stats as stats\n",
    "import datetime as dt\n",
    "import matplotlib.pyplot as plt\n",
    "from scipy import stats as st"
   ]
  },
  {
   "cell_type": "markdown",
   "id": "f9cce418",
   "metadata": {},
   "source": [
    "### 2.2 Data import, research and preparation <a class=\"anchor\" id=\"section2_2\"></a>"
   ]
  },
  {
   "cell_type": "code",
   "execution_count": 2,
   "id": "e87f6096",
   "metadata": {},
   "outputs": [
    {
     "data": {
      "text/html": [
       "<div>\n",
       "<style scoped>\n",
       "    .dataframe tbody tr th:only-of-type {\n",
       "        vertical-align: middle;\n",
       "    }\n",
       "\n",
       "    .dataframe tbody tr th {\n",
       "        vertical-align: top;\n",
       "    }\n",
       "\n",
       "    .dataframe thead th {\n",
       "        text-align: right;\n",
       "    }\n",
       "</style>\n",
       "<table border=\"1\" class=\"dataframe\">\n",
       "  <thead>\n",
       "    <tr style=\"text-align: right;\">\n",
       "      <th></th>\n",
       "      <th>Hypothesis</th>\n",
       "      <th>Reach</th>\n",
       "      <th>Impact</th>\n",
       "      <th>Confidence</th>\n",
       "      <th>Efforts</th>\n",
       "    </tr>\n",
       "  </thead>\n",
       "  <tbody>\n",
       "    <tr>\n",
       "      <th>0</th>\n",
       "      <td>Добавить два новых канала привлечения трафика,...</td>\n",
       "      <td>3</td>\n",
       "      <td>10</td>\n",
       "      <td>8</td>\n",
       "      <td>6</td>\n",
       "    </tr>\n",
       "    <tr>\n",
       "      <th>1</th>\n",
       "      <td>Запустить собственную службу доставки, что сок...</td>\n",
       "      <td>2</td>\n",
       "      <td>5</td>\n",
       "      <td>4</td>\n",
       "      <td>10</td>\n",
       "    </tr>\n",
       "    <tr>\n",
       "      <th>2</th>\n",
       "      <td>Добавить блоки рекомендаций товаров на сайт ин...</td>\n",
       "      <td>8</td>\n",
       "      <td>3</td>\n",
       "      <td>7</td>\n",
       "      <td>3</td>\n",
       "    </tr>\n",
       "    <tr>\n",
       "      <th>3</th>\n",
       "      <td>Изменить структура категорий, что увеличит кон...</td>\n",
       "      <td>8</td>\n",
       "      <td>3</td>\n",
       "      <td>3</td>\n",
       "      <td>8</td>\n",
       "    </tr>\n",
       "    <tr>\n",
       "      <th>4</th>\n",
       "      <td>Изменить цвет фона главной страницы, чтобы уве...</td>\n",
       "      <td>3</td>\n",
       "      <td>1</td>\n",
       "      <td>1</td>\n",
       "      <td>1</td>\n",
       "    </tr>\n",
       "    <tr>\n",
       "      <th>5</th>\n",
       "      <td>Добавить страницу отзывов клиентов о магазине,...</td>\n",
       "      <td>3</td>\n",
       "      <td>2</td>\n",
       "      <td>2</td>\n",
       "      <td>3</td>\n",
       "    </tr>\n",
       "    <tr>\n",
       "      <th>6</th>\n",
       "      <td>Показать на главной странице баннеры с актуаль...</td>\n",
       "      <td>5</td>\n",
       "      <td>3</td>\n",
       "      <td>8</td>\n",
       "      <td>3</td>\n",
       "    </tr>\n",
       "    <tr>\n",
       "      <th>7</th>\n",
       "      <td>Добавить форму подписки на все основные страни...</td>\n",
       "      <td>10</td>\n",
       "      <td>7</td>\n",
       "      <td>8</td>\n",
       "      <td>5</td>\n",
       "    </tr>\n",
       "    <tr>\n",
       "      <th>8</th>\n",
       "      <td>Запустить акцию, дающую скидку на товар в день...</td>\n",
       "      <td>1</td>\n",
       "      <td>9</td>\n",
       "      <td>9</td>\n",
       "      <td>5</td>\n",
       "    </tr>\n",
       "  </tbody>\n",
       "</table>\n",
       "</div>"
      ],
      "text/plain": [
       "                                          Hypothesis  Reach  Impact  \\\n",
       "0  Добавить два новых канала привлечения трафика,...      3      10   \n",
       "1  Запустить собственную службу доставки, что сок...      2       5   \n",
       "2  Добавить блоки рекомендаций товаров на сайт ин...      8       3   \n",
       "3  Изменить структура категорий, что увеличит кон...      8       3   \n",
       "4  Изменить цвет фона главной страницы, чтобы уве...      3       1   \n",
       "5  Добавить страницу отзывов клиентов о магазине,...      3       2   \n",
       "6  Показать на главной странице баннеры с актуаль...      5       3   \n",
       "7  Добавить форму подписки на все основные страни...     10       7   \n",
       "8  Запустить акцию, дающую скидку на товар в день...      1       9   \n",
       "\n",
       "   Confidence  Efforts  \n",
       "0           8        6  \n",
       "1           4       10  \n",
       "2           7        3  \n",
       "3           3        8  \n",
       "4           1        1  \n",
       "5           2        3  \n",
       "6           8        3  \n",
       "7           8        5  \n",
       "8           9        5  "
      ]
     },
     "execution_count": 2,
     "metadata": {},
     "output_type": "execute_result"
    }
   ],
   "source": [
    "# Uploading dataset with hypotheses specifics \n",
    "data = pd.read_csv('https://raw.githubusercontent.com/AntonMiniazev/YaP_projects/main/4.%20AB%20test/datasets/hypothesis.csv', sep=',')\n",
    "data"
   ]
  },
  {
   "cell_type": "code",
   "execution_count": 3,
   "id": "aa29ccc8",
   "metadata": {},
   "outputs": [
    {
     "data": {
      "text/html": [
       "<div>\n",
       "<style scoped>\n",
       "    .dataframe tbody tr th:only-of-type {\n",
       "        vertical-align: middle;\n",
       "    }\n",
       "\n",
       "    .dataframe tbody tr th {\n",
       "        vertical-align: top;\n",
       "    }\n",
       "\n",
       "    .dataframe thead th {\n",
       "        text-align: right;\n",
       "    }\n",
       "</style>\n",
       "<table border=\"1\" class=\"dataframe\">\n",
       "  <thead>\n",
       "    <tr style=\"text-align: right;\">\n",
       "      <th></th>\n",
       "      <th>hypothesis</th>\n",
       "      <th>reach</th>\n",
       "      <th>impact</th>\n",
       "      <th>confidence</th>\n",
       "      <th>efforts</th>\n",
       "      <th>hypothesis_number</th>\n",
       "    </tr>\n",
       "  </thead>\n",
       "  <tbody>\n",
       "    <tr>\n",
       "      <th>0</th>\n",
       "      <td>Добавить два новых канала привлечения трафика,...</td>\n",
       "      <td>3</td>\n",
       "      <td>10</td>\n",
       "      <td>8</td>\n",
       "      <td>6</td>\n",
       "      <td>hypothesis_1</td>\n",
       "    </tr>\n",
       "    <tr>\n",
       "      <th>1</th>\n",
       "      <td>Запустить собственную службу доставки, что сок...</td>\n",
       "      <td>2</td>\n",
       "      <td>5</td>\n",
       "      <td>4</td>\n",
       "      <td>10</td>\n",
       "      <td>hypothesis_2</td>\n",
       "    </tr>\n",
       "    <tr>\n",
       "      <th>2</th>\n",
       "      <td>Добавить блоки рекомендаций товаров на сайт ин...</td>\n",
       "      <td>8</td>\n",
       "      <td>3</td>\n",
       "      <td>7</td>\n",
       "      <td>3</td>\n",
       "      <td>hypothesis_3</td>\n",
       "    </tr>\n",
       "    <tr>\n",
       "      <th>3</th>\n",
       "      <td>Изменить структура категорий, что увеличит кон...</td>\n",
       "      <td>8</td>\n",
       "      <td>3</td>\n",
       "      <td>3</td>\n",
       "      <td>8</td>\n",
       "      <td>hypothesis_4</td>\n",
       "    </tr>\n",
       "    <tr>\n",
       "      <th>4</th>\n",
       "      <td>Изменить цвет фона главной страницы, чтобы уве...</td>\n",
       "      <td>3</td>\n",
       "      <td>1</td>\n",
       "      <td>1</td>\n",
       "      <td>1</td>\n",
       "      <td>hypothesis_5</td>\n",
       "    </tr>\n",
       "    <tr>\n",
       "      <th>5</th>\n",
       "      <td>Добавить страницу отзывов клиентов о магазине,...</td>\n",
       "      <td>3</td>\n",
       "      <td>2</td>\n",
       "      <td>2</td>\n",
       "      <td>3</td>\n",
       "      <td>hypothesis_6</td>\n",
       "    </tr>\n",
       "    <tr>\n",
       "      <th>6</th>\n",
       "      <td>Показать на главной странице баннеры с актуаль...</td>\n",
       "      <td>5</td>\n",
       "      <td>3</td>\n",
       "      <td>8</td>\n",
       "      <td>3</td>\n",
       "      <td>hypothesis_7</td>\n",
       "    </tr>\n",
       "    <tr>\n",
       "      <th>7</th>\n",
       "      <td>Добавить форму подписки на все основные страни...</td>\n",
       "      <td>10</td>\n",
       "      <td>7</td>\n",
       "      <td>8</td>\n",
       "      <td>5</td>\n",
       "      <td>hypothesis_8</td>\n",
       "    </tr>\n",
       "    <tr>\n",
       "      <th>8</th>\n",
       "      <td>Запустить акцию, дающую скидку на товар в день...</td>\n",
       "      <td>1</td>\n",
       "      <td>9</td>\n",
       "      <td>9</td>\n",
       "      <td>5</td>\n",
       "      <td>hypothesis_9</td>\n",
       "    </tr>\n",
       "  </tbody>\n",
       "</table>\n",
       "</div>"
      ],
      "text/plain": [
       "                                          hypothesis  reach  impact  \\\n",
       "0  Добавить два новых канала привлечения трафика,...      3      10   \n",
       "1  Запустить собственную службу доставки, что сок...      2       5   \n",
       "2  Добавить блоки рекомендаций товаров на сайт ин...      8       3   \n",
       "3  Изменить структура категорий, что увеличит кон...      8       3   \n",
       "4  Изменить цвет фона главной страницы, чтобы уве...      3       1   \n",
       "5  Добавить страницу отзывов клиентов о магазине,...      3       2   \n",
       "6  Показать на главной странице баннеры с актуаль...      5       3   \n",
       "7  Добавить форму подписки на все основные страни...     10       7   \n",
       "8  Запустить акцию, дающую скидку на товар в день...      1       9   \n",
       "\n",
       "   confidence  efforts hypothesis_number  \n",
       "0           8        6      hypothesis_1  \n",
       "1           4       10      hypothesis_2  \n",
       "2           7        3      hypothesis_3  \n",
       "3           3        8      hypothesis_4  \n",
       "4           1        1      hypothesis_5  \n",
       "5           2        3      hypothesis_6  \n",
       "6           8        3      hypothesis_7  \n",
       "7           8        5      hypothesis_8  \n",
       "8           9        5      hypothesis_9  "
      ]
     },
     "execution_count": 3,
     "metadata": {},
     "output_type": "execute_result"
    }
   ],
   "source": [
    "# Renaming columns\n",
    "data.columns = ['hypothesis','reach','impact','confidence','efforts']\n",
    "\n",
    "# Adding numeration to hypotheses for easier referencing\n",
    "data['hypothesis_number'] = np.arange(data.shape[0]) + 1\n",
    "data['hypothesis_number'] = 'hypothesis_' + data['hypothesis_number'].astype(str)\n",
    "data"
   ]
  },
  {
   "cell_type": "code",
   "execution_count": 4,
   "id": "6641f24e",
   "metadata": {},
   "outputs": [
    {
     "name": "stdout",
     "output_type": "stream",
     "text": [
      "<class 'pandas.core.frame.DataFrame'>\n",
      "RangeIndex: 9 entries, 0 to 8\n",
      "Data columns (total 6 columns):\n",
      " #   Column             Non-Null Count  Dtype \n",
      "---  ------             --------------  ----- \n",
      " 0   hypothesis         9 non-null      object\n",
      " 1   reach              9 non-null      int64 \n",
      " 2   impact             9 non-null      int64 \n",
      " 3   confidence         9 non-null      int64 \n",
      " 4   efforts            9 non-null      int64 \n",
      " 5   hypothesis_number  9 non-null      object\n",
      "dtypes: int64(4), object(2)\n",
      "memory usage: 560.0+ bytes\n"
     ]
    }
   ],
   "source": [
    "# Checking datatypes\n",
    "data.info()"
   ]
  },
  {
   "cell_type": "markdown",
   "id": "94e2bcb1",
   "metadata": {},
   "source": [
    "# 3. Prioritization of hypotheses <a class=\"anchor\" id=\"chapter3\"></a>"
   ]
  },
  {
   "cell_type": "markdown",
   "id": "62d9207b",
   "metadata": {},
   "source": [
    "### 3.1 Applying framework ICE for prioritization <a class=\"anchor\" id=\"section3_1\"></a>"
   ]
  },
  {
   "cell_type": "code",
   "execution_count": 5,
   "id": "8fedf591",
   "metadata": {},
   "outputs": [
    {
     "data": {
      "text/html": [
       "<div>\n",
       "<style scoped>\n",
       "    .dataframe tbody tr th:only-of-type {\n",
       "        vertical-align: middle;\n",
       "    }\n",
       "\n",
       "    .dataframe tbody tr th {\n",
       "        vertical-align: top;\n",
       "    }\n",
       "\n",
       "    .dataframe thead th {\n",
       "        text-align: right;\n",
       "    }\n",
       "</style>\n",
       "<table border=\"1\" class=\"dataframe\">\n",
       "  <thead>\n",
       "    <tr style=\"text-align: right;\">\n",
       "      <th></th>\n",
       "      <th>hypothesis</th>\n",
       "      <th>hypothesis_number</th>\n",
       "      <th>ICE</th>\n",
       "    </tr>\n",
       "  </thead>\n",
       "  <tbody>\n",
       "    <tr>\n",
       "      <th>8</th>\n",
       "      <td>Запустить акцию, дающую скидку на товар в день...</td>\n",
       "      <td>hypothesis_9</td>\n",
       "      <td>16.20</td>\n",
       "    </tr>\n",
       "    <tr>\n",
       "      <th>0</th>\n",
       "      <td>Добавить два новых канала привлечения трафика,...</td>\n",
       "      <td>hypothesis_1</td>\n",
       "      <td>13.33</td>\n",
       "    </tr>\n",
       "    <tr>\n",
       "      <th>7</th>\n",
       "      <td>Добавить форму подписки на все основные страни...</td>\n",
       "      <td>hypothesis_8</td>\n",
       "      <td>11.20</td>\n",
       "    </tr>\n",
       "    <tr>\n",
       "      <th>6</th>\n",
       "      <td>Показать на главной странице баннеры с актуаль...</td>\n",
       "      <td>hypothesis_7</td>\n",
       "      <td>8.00</td>\n",
       "    </tr>\n",
       "    <tr>\n",
       "      <th>2</th>\n",
       "      <td>Добавить блоки рекомендаций товаров на сайт ин...</td>\n",
       "      <td>hypothesis_3</td>\n",
       "      <td>7.00</td>\n",
       "    </tr>\n",
       "    <tr>\n",
       "      <th>1</th>\n",
       "      <td>Запустить собственную службу доставки, что сок...</td>\n",
       "      <td>hypothesis_2</td>\n",
       "      <td>2.00</td>\n",
       "    </tr>\n",
       "    <tr>\n",
       "      <th>5</th>\n",
       "      <td>Добавить страницу отзывов клиентов о магазине,...</td>\n",
       "      <td>hypothesis_6</td>\n",
       "      <td>1.33</td>\n",
       "    </tr>\n",
       "    <tr>\n",
       "      <th>3</th>\n",
       "      <td>Изменить структура категорий, что увеличит кон...</td>\n",
       "      <td>hypothesis_4</td>\n",
       "      <td>1.12</td>\n",
       "    </tr>\n",
       "    <tr>\n",
       "      <th>4</th>\n",
       "      <td>Изменить цвет фона главной страницы, чтобы уве...</td>\n",
       "      <td>hypothesis_5</td>\n",
       "      <td>1.00</td>\n",
       "    </tr>\n",
       "  </tbody>\n",
       "</table>\n",
       "</div>"
      ],
      "text/plain": [
       "                                          hypothesis hypothesis_number    ICE\n",
       "8  Запустить акцию, дающую скидку на товар в день...      hypothesis_9  16.20\n",
       "0  Добавить два новых канала привлечения трафика,...      hypothesis_1  13.33\n",
       "7  Добавить форму подписки на все основные страни...      hypothesis_8  11.20\n",
       "6  Показать на главной странице баннеры с актуаль...      hypothesis_7   8.00\n",
       "2  Добавить блоки рекомендаций товаров на сайт ин...      hypothesis_3   7.00\n",
       "1  Запустить собственную службу доставки, что сок...      hypothesis_2   2.00\n",
       "5  Добавить страницу отзывов клиентов о магазине,...      hypothesis_6   1.33\n",
       "3  Изменить структура категорий, что увеличит кон...      hypothesis_4   1.12\n",
       "4  Изменить цвет фона главной страницы, чтобы уве...      hypothesis_5   1.00"
      ]
     },
     "execution_count": 5,
     "metadata": {},
     "output_type": "execute_result"
    }
   ],
   "source": [
    "# Calculating ICE for given hypotheses\n",
    "data['ICE'] = round((data['impact'] * data['confidence'] )/data['efforts'],2)\n",
    "\n",
    "data.sort_values(by='ICE', ascending=False)[['hypothesis','hypothesis_number','ICE']]"
   ]
  },
  {
   "cell_type": "markdown",
   "id": "2c09c963",
   "metadata": {},
   "source": [
    "**The most promising hypotheses according to ICE**: №9, №1 и №8"
   ]
  },
  {
   "cell_type": "markdown",
   "id": "d1ca88bb",
   "metadata": {},
   "source": [
    "### 3.2 Applying framework RICE for prioritization <a class=\"anchor\" id=\"section3_2\"></a>"
   ]
  },
  {
   "cell_type": "code",
   "execution_count": 6,
   "id": "f6e7527a",
   "metadata": {},
   "outputs": [
    {
     "data": {
      "text/html": [
       "<div>\n",
       "<style scoped>\n",
       "    .dataframe tbody tr th:only-of-type {\n",
       "        vertical-align: middle;\n",
       "    }\n",
       "\n",
       "    .dataframe tbody tr th {\n",
       "        vertical-align: top;\n",
       "    }\n",
       "\n",
       "    .dataframe thead th {\n",
       "        text-align: right;\n",
       "    }\n",
       "</style>\n",
       "<table border=\"1\" class=\"dataframe\">\n",
       "  <thead>\n",
       "    <tr style=\"text-align: right;\">\n",
       "      <th></th>\n",
       "      <th>hypothesis</th>\n",
       "      <th>hypothesis_number</th>\n",
       "      <th>RICE</th>\n",
       "    </tr>\n",
       "  </thead>\n",
       "  <tbody>\n",
       "    <tr>\n",
       "      <th>7</th>\n",
       "      <td>Добавить форму подписки на все основные страни...</td>\n",
       "      <td>hypothesis_8</td>\n",
       "      <td>112.0</td>\n",
       "    </tr>\n",
       "    <tr>\n",
       "      <th>2</th>\n",
       "      <td>Добавить блоки рекомендаций товаров на сайт ин...</td>\n",
       "      <td>hypothesis_3</td>\n",
       "      <td>56.0</td>\n",
       "    </tr>\n",
       "    <tr>\n",
       "      <th>0</th>\n",
       "      <td>Добавить два новых канала привлечения трафика,...</td>\n",
       "      <td>hypothesis_1</td>\n",
       "      <td>40.0</td>\n",
       "    </tr>\n",
       "    <tr>\n",
       "      <th>6</th>\n",
       "      <td>Показать на главной странице баннеры с актуаль...</td>\n",
       "      <td>hypothesis_7</td>\n",
       "      <td>40.0</td>\n",
       "    </tr>\n",
       "    <tr>\n",
       "      <th>8</th>\n",
       "      <td>Запустить акцию, дающую скидку на товар в день...</td>\n",
       "      <td>hypothesis_9</td>\n",
       "      <td>16.2</td>\n",
       "    </tr>\n",
       "    <tr>\n",
       "      <th>3</th>\n",
       "      <td>Изменить структура категорий, что увеличит кон...</td>\n",
       "      <td>hypothesis_4</td>\n",
       "      <td>9.0</td>\n",
       "    </tr>\n",
       "    <tr>\n",
       "      <th>1</th>\n",
       "      <td>Запустить собственную службу доставки, что сок...</td>\n",
       "      <td>hypothesis_2</td>\n",
       "      <td>4.0</td>\n",
       "    </tr>\n",
       "    <tr>\n",
       "      <th>5</th>\n",
       "      <td>Добавить страницу отзывов клиентов о магазине,...</td>\n",
       "      <td>hypothesis_6</td>\n",
       "      <td>4.0</td>\n",
       "    </tr>\n",
       "    <tr>\n",
       "      <th>4</th>\n",
       "      <td>Изменить цвет фона главной страницы, чтобы уве...</td>\n",
       "      <td>hypothesis_5</td>\n",
       "      <td>3.0</td>\n",
       "    </tr>\n",
       "  </tbody>\n",
       "</table>\n",
       "</div>"
      ],
      "text/plain": [
       "                                          hypothesis hypothesis_number   RICE\n",
       "7  Добавить форму подписки на все основные страни...      hypothesis_8  112.0\n",
       "2  Добавить блоки рекомендаций товаров на сайт ин...      hypothesis_3   56.0\n",
       "0  Добавить два новых канала привлечения трафика,...      hypothesis_1   40.0\n",
       "6  Показать на главной странице баннеры с актуаль...      hypothesis_7   40.0\n",
       "8  Запустить акцию, дающую скидку на товар в день...      hypothesis_9   16.2\n",
       "3  Изменить структура категорий, что увеличит кон...      hypothesis_4    9.0\n",
       "1  Запустить собственную службу доставки, что сок...      hypothesis_2    4.0\n",
       "5  Добавить страницу отзывов клиентов о магазине,...      hypothesis_6    4.0\n",
       "4  Изменить цвет фона главной страницы, чтобы уве...      hypothesis_5    3.0"
      ]
     },
     "execution_count": 6,
     "metadata": {},
     "output_type": "execute_result"
    }
   ],
   "source": [
    "# Calculating RICE for given hypotheses\n",
    "data['RICE'] = round((data['reach'] * data['impact'] * data['confidence'])/data['efforts'],2)\n",
    "\n",
    "data.sort_values(by='RICE', ascending=False)[['hypothesis','hypothesis_number','RICE']]"
   ]
  },
  {
   "cell_type": "markdown",
   "id": "d5be29c3",
   "metadata": {},
   "source": [
    "**The most promising hypotheses according to RICE**: №8, №3, №1 и №7"
   ]
  },
  {
   "cell_type": "markdown",
   "id": "0d16a3df",
   "metadata": {},
   "source": [
    "### 3.3 Interpretation of the application of frameworks <a class=\"anchor\" id=\"section3_3\"></a>"
   ]
  },
  {
   "cell_type": "markdown",
   "id": "7eef143a",
   "metadata": {},
   "source": [
    "For the purpose of prioritizing hypotheses, two frameworks were used: `ICE` and `RICE`. The difference between the frameworks is that `RICE` takes into account an important element called Reach, which reflects the degree of user coverage during hypothesis testing.\n",
    "\n",
    "- According to the `ICE` framework, the most promising hypothesis is **hypothesis #9**, but due to low user coverage (Reach equals 1), `RICE` reduces its priority. \n",
    "- Both frameworks indicate the potential of **hypothesis #8** (mainly due to a coverage score of 10) and **hypothesis #1** (with an impact score of 10). \n",
    "- **Hypothesis #7**, due to low testing costs and high confidence in the results according to both frameworks, is evaluated at a relatively high level."
   ]
  },
  {
   "cell_type": "markdown",
   "id": "65918c68",
   "metadata": {},
   "source": [
    "# 4. A/B testing <a class=\"anchor\" id=\"chapter4\"></a>"
   ]
  },
  {
   "cell_type": "markdown",
   "id": "dae2bfff",
   "metadata": {},
   "source": [
    "### 4.1 Exploration of data. <a class=\"anchor\" id=\"section4_1\"></a>"
   ]
  },
  {
   "cell_type": "code",
   "execution_count": 7,
   "id": "d553a77c",
   "metadata": {},
   "outputs": [],
   "source": [
    "orders = pd.read_csv('https://raw.githubusercontent.com/AntonMiniazev/YaP_projects/main/4.%20AB%20test/datasets/orders.csv', sep=',')\n",
    "visitors = pd.read_csv('https://raw.githubusercontent.com/AntonMiniazev/YaP_projects/main/4.%20AB%20test/datasets/visitors.csv', sep=',')"
   ]
  },
  {
   "cell_type": "code",
   "execution_count": 8,
   "id": "8919d9b2",
   "metadata": {},
   "outputs": [
    {
     "data": {
      "text/html": [
       "<div>\n",
       "<style scoped>\n",
       "    .dataframe tbody tr th:only-of-type {\n",
       "        vertical-align: middle;\n",
       "    }\n",
       "\n",
       "    .dataframe tbody tr th {\n",
       "        vertical-align: top;\n",
       "    }\n",
       "\n",
       "    .dataframe thead th {\n",
       "        text-align: right;\n",
       "    }\n",
       "</style>\n",
       "<table border=\"1\" class=\"dataframe\">\n",
       "  <thead>\n",
       "    <tr style=\"text-align: right;\">\n",
       "      <th></th>\n",
       "      <th>transactionId</th>\n",
       "      <th>visitorId</th>\n",
       "      <th>date</th>\n",
       "      <th>revenue</th>\n",
       "      <th>group</th>\n",
       "    </tr>\n",
       "  </thead>\n",
       "  <tbody>\n",
       "    <tr>\n",
       "      <th>0</th>\n",
       "      <td>3667963787</td>\n",
       "      <td>3312258926</td>\n",
       "      <td>2019-08-15</td>\n",
       "      <td>1650</td>\n",
       "      <td>B</td>\n",
       "    </tr>\n",
       "    <tr>\n",
       "      <th>1</th>\n",
       "      <td>2804400009</td>\n",
       "      <td>3642806036</td>\n",
       "      <td>2019-08-15</td>\n",
       "      <td>730</td>\n",
       "      <td>B</td>\n",
       "    </tr>\n",
       "    <tr>\n",
       "      <th>2</th>\n",
       "      <td>2961555356</td>\n",
       "      <td>4069496402</td>\n",
       "      <td>2019-08-15</td>\n",
       "      <td>400</td>\n",
       "      <td>A</td>\n",
       "    </tr>\n",
       "    <tr>\n",
       "      <th>3</th>\n",
       "      <td>3797467345</td>\n",
       "      <td>1196621759</td>\n",
       "      <td>2019-08-15</td>\n",
       "      <td>9759</td>\n",
       "      <td>B</td>\n",
       "    </tr>\n",
       "    <tr>\n",
       "      <th>4</th>\n",
       "      <td>2282983706</td>\n",
       "      <td>2322279887</td>\n",
       "      <td>2019-08-15</td>\n",
       "      <td>2308</td>\n",
       "      <td>B</td>\n",
       "    </tr>\n",
       "  </tbody>\n",
       "</table>\n",
       "</div>"
      ],
      "text/plain": [
       "   transactionId   visitorId        date  revenue group\n",
       "0     3667963787  3312258926  2019-08-15     1650     B\n",
       "1     2804400009  3642806036  2019-08-15      730     B\n",
       "2     2961555356  4069496402  2019-08-15      400     A\n",
       "3     3797467345  1196621759  2019-08-15     9759     B\n",
       "4     2282983706  2322279887  2019-08-15     2308     B"
      ]
     },
     "execution_count": 8,
     "metadata": {},
     "output_type": "execute_result"
    }
   ],
   "source": [
    "orders.head()"
   ]
  },
  {
   "cell_type": "code",
   "execution_count": 9,
   "id": "d46af0e0",
   "metadata": {},
   "outputs": [
    {
     "name": "stdout",
     "output_type": "stream",
     "text": [
      "<class 'pandas.core.frame.DataFrame'>\n",
      "RangeIndex: 1197 entries, 0 to 1196\n",
      "Data columns (total 5 columns):\n",
      " #   Column         Non-Null Count  Dtype \n",
      "---  ------         --------------  ----- \n",
      " 0   transactionId  1197 non-null   int64 \n",
      " 1   visitorId      1197 non-null   int64 \n",
      " 2   date           1197 non-null   object\n",
      " 3   revenue        1197 non-null   int64 \n",
      " 4   group          1197 non-null   object\n",
      "dtypes: int64(3), object(2)\n",
      "memory usage: 46.9+ KB\n",
      "None \n",
      "Duplicated:0\n"
     ]
    }
   ],
   "source": [
    "# Checking datatypes and duplicates\n",
    "print(orders.info(),'\\nDuplicated:' + str(orders.duplicated().sum()))"
   ]
  },
  {
   "cell_type": "code",
   "execution_count": 10,
   "id": "53d6a78b",
   "metadata": {},
   "outputs": [],
   "source": [
    "# Changing column date to type date\n",
    "orders['date'] = pd.to_datetime(orders['date']).dt.date "
   ]
  },
  {
   "cell_type": "code",
   "execution_count": 11,
   "id": "3417f178",
   "metadata": {},
   "outputs": [
    {
     "data": {
      "text/html": [
       "<div>\n",
       "<style scoped>\n",
       "    .dataframe tbody tr th:only-of-type {\n",
       "        vertical-align: middle;\n",
       "    }\n",
       "\n",
       "    .dataframe tbody tr th {\n",
       "        vertical-align: top;\n",
       "    }\n",
       "\n",
       "    .dataframe thead th {\n",
       "        text-align: right;\n",
       "    }\n",
       "</style>\n",
       "<table border=\"1\" class=\"dataframe\">\n",
       "  <thead>\n",
       "    <tr style=\"text-align: right;\">\n",
       "      <th></th>\n",
       "      <th>date</th>\n",
       "      <th>group</th>\n",
       "      <th>visitors</th>\n",
       "    </tr>\n",
       "  </thead>\n",
       "  <tbody>\n",
       "    <tr>\n",
       "      <th>0</th>\n",
       "      <td>2019-08-01</td>\n",
       "      <td>A</td>\n",
       "      <td>719</td>\n",
       "    </tr>\n",
       "    <tr>\n",
       "      <th>1</th>\n",
       "      <td>2019-08-02</td>\n",
       "      <td>A</td>\n",
       "      <td>619</td>\n",
       "    </tr>\n",
       "    <tr>\n",
       "      <th>2</th>\n",
       "      <td>2019-08-03</td>\n",
       "      <td>A</td>\n",
       "      <td>507</td>\n",
       "    </tr>\n",
       "    <tr>\n",
       "      <th>3</th>\n",
       "      <td>2019-08-04</td>\n",
       "      <td>A</td>\n",
       "      <td>717</td>\n",
       "    </tr>\n",
       "    <tr>\n",
       "      <th>4</th>\n",
       "      <td>2019-08-05</td>\n",
       "      <td>A</td>\n",
       "      <td>756</td>\n",
       "    </tr>\n",
       "  </tbody>\n",
       "</table>\n",
       "</div>"
      ],
      "text/plain": [
       "         date group  visitors\n",
       "0  2019-08-01     A       719\n",
       "1  2019-08-02     A       619\n",
       "2  2019-08-03     A       507\n",
       "3  2019-08-04     A       717\n",
       "4  2019-08-05     A       756"
      ]
     },
     "execution_count": 11,
     "metadata": {},
     "output_type": "execute_result"
    }
   ],
   "source": [
    "visitors.head()"
   ]
  },
  {
   "cell_type": "code",
   "execution_count": 12,
   "id": "01b4dcff",
   "metadata": {},
   "outputs": [
    {
     "name": "stdout",
     "output_type": "stream",
     "text": [
      "<class 'pandas.core.frame.DataFrame'>\n",
      "RangeIndex: 62 entries, 0 to 61\n",
      "Data columns (total 3 columns):\n",
      " #   Column    Non-Null Count  Dtype \n",
      "---  ------    --------------  ----- \n",
      " 0   date      62 non-null     object\n",
      " 1   group     62 non-null     object\n",
      " 2   visitors  62 non-null     int64 \n",
      "dtypes: int64(1), object(2)\n",
      "memory usage: 1.6+ KB\n",
      "None \n",
      "Duplicated:0\n"
     ]
    }
   ],
   "source": [
    "# Checking datatypes and duplicates\n",
    "print(visitors.info(),'\\nDuplicated:' + str(visitors.duplicated().sum()))"
   ]
  },
  {
   "cell_type": "code",
   "execution_count": 13,
   "id": "b2c0444f",
   "metadata": {},
   "outputs": [],
   "source": [
    "# Changing column date to type date\n",
    "visitors['date'] = pd.to_datetime(visitors['date']).dt.date "
   ]
  },
  {
   "cell_type": "code",
   "execution_count": 14,
   "id": "5f19ded7",
   "metadata": {},
   "outputs": [],
   "source": [
    "# Checking intersection of users between groups A and B\n",
    "group_duplicated = orders[['visitorId','group']].drop_duplicates().groupby('visitorId').agg({'group':'nunique'}).reset_index()\n",
    "\n",
    "group_duplicated = group_duplicated[group_duplicated['group'] > 1]"
   ]
  },
  {
   "cell_type": "code",
   "execution_count": 15,
   "id": "7bfcca8b",
   "metadata": {},
   "outputs": [
    {
     "data": {
      "text/plain": [
       "58"
      ]
     },
     "execution_count": 15,
     "metadata": {},
     "output_type": "execute_result"
    }
   ],
   "source": [
    "len(group_duplicated['visitorId'].unique())"
   ]
  },
  {
   "cell_type": "code",
   "execution_count": 16,
   "id": "302c8016",
   "metadata": {},
   "outputs": [],
   "source": [
    "# Removing intersecting users\n",
    "orders = orders[np.logical_not(orders['visitorId'].isin(group_duplicated['visitorId']))]"
   ]
  },
  {
   "cell_type": "markdown",
   "id": "010ddb49",
   "metadata": {},
   "source": [
    "### 4.2 Exploration of cumulative revenue by groups. <a class=\"anchor\" id=\"section4_2\"></a>"
   ]
  },
  {
   "cell_type": "code",
   "execution_count": 17,
   "id": "c17dff7d",
   "metadata": {},
   "outputs": [],
   "source": [
    "# Grouping data by date and test group\n",
    "datesGroups = orders[['date','group']].drop_duplicates()"
   ]
  },
  {
   "cell_type": "code",
   "execution_count": 18,
   "id": "e518856a",
   "metadata": {},
   "outputs": [],
   "source": [
    "# Aggregating orders by day for cumulative values calculation\n",
    "ordersAggregated = datesGroups.apply(\n",
    "    lambda x: orders[np.logical_and(orders['date'] <= x['date'], orders['group'] == x['group'])].agg({\n",
    "'date' : 'max',\n",
    "'group' : 'max',\n",
    "'transactionId' : pd.Series.nunique,\n",
    "'visitorId' : pd.Series.nunique,\n",
    "'revenue' : 'sum'}), axis=1).sort_values(by=['date','group']) "
   ]
  },
  {
   "cell_type": "code",
   "execution_count": 19,
   "id": "5af4d393",
   "metadata": {},
   "outputs": [],
   "source": [
    "# Aggregating users by day for cumulative values calculation\n",
    "visitorsAggregated = datesGroups.apply(\n",
    "    lambda x: visitors[np.logical_and(visitors['date'] <= x['date'], visitors['group'] == x['group'])].agg({\n",
    "        'date' : 'max', \n",
    "        'group' : 'max', \n",
    "        'visitors' : 'sum'}), axis=1).sort_values(by=['date','group'])"
   ]
  },
  {
   "cell_type": "code",
   "execution_count": 20,
   "id": "558bc450",
   "metadata": {},
   "outputs": [],
   "source": [
    "# Merging cumulative data by users and orders\n",
    "cumulativeData = ordersAggregated.merge(visitorsAggregated, left_on=['date', 'group'], right_on=['date', 'group'])\n",
    "\n",
    "cumulativeData.columns = ['date', 'group', 'orders', 'buyers', 'revenue', 'visitors']"
   ]
  },
  {
   "cell_type": "code",
   "execution_count": 21,
   "id": "67209f80",
   "metadata": {},
   "outputs": [],
   "source": [
    "# Dividing by А and В groups\n",
    "cumulativeRevenueA = cumulativeData[cumulativeData['group']=='A'][['date','revenue', 'orders', 'visitors']]\n",
    "cumulativeRevenueB = cumulativeData[cumulativeData['group']=='B'][['date','revenue', 'orders', 'visitors']]"
   ]
  },
  {
   "cell_type": "code",
   "execution_count": 22,
   "id": "bfa6c48d",
   "metadata": {},
   "outputs": [
    {
     "data": {
      "image/png": "[encoded data removed]",
      "text/plain": [
       "<Figure size 864x432 with 1 Axes>"
      ]
     },
     "metadata": {
      "needs_background": "light"
     },
     "output_type": "display_data"
    }
   ],
   "source": [
    "# Plotting cumulative revenue by groups\n",
    "plt.figure(figsize=(12,6))\n",
    "plt.plot(cumulativeRevenueA['date'], cumulativeRevenueA['revenue'], label='A')\n",
    "plt.plot(cumulativeRevenueB['date'], cumulativeRevenueB['revenue'], label='B')\n",
    "plt.title('Cumulative revenue')\n",
    "plt.xlabel('Date')\n",
    "plt.ylabel('Revenue amount by group')\n",
    "\n",
    "plt.legend()\n",
    "plt.show()"
   ]
  },
  {
   "cell_type": "markdown",
   "id": "e3ba06b5",
   "metadata": {},
   "source": [
    "#### Brief conclusions on cumulative revenue\n",
    "\n",
    "* In the first half of the test, the revenue between the groups was slightly different, but then the revenue of group B became significantly higher than that of group A. The reasons for such dynamics could be:\n",
    "    - An increase in orders in group B;\n",
    "    - An increase in the average check of group B;\n",
    "    - Abnormal checks in group B."
   ]
  },
  {
   "cell_type": "markdown",
   "id": "72c4f8c0",
   "metadata": {},
   "source": [
    "### 4.3 Analysis of cumulative average check by groups. <a class=\"anchor\" id=\"section4_3\"></a>"
   ]
  },
  {
   "cell_type": "code",
   "execution_count": 23,
   "id": "441a092c",
   "metadata": {},
   "outputs": [
    {
     "data": {
      "image/png": "[encoded data removed]",
      "text/plain": [
       "<Figure size 864x432 with 1 Axes>"
      ]
     },
     "metadata": {
      "needs_background": "light"
     },
     "output_type": "display_data"
    }
   ],
   "source": [
    "# Plotting cumulative average check by groups\n",
    "plt.figure(figsize=(12,6))\n",
    "plt.plot(cumulativeRevenueA['date'], cumulativeRevenueA['revenue']/cumulativeRevenueA['orders'], label='A')\n",
    "plt.plot(cumulativeRevenueB['date'], cumulativeRevenueB['revenue']/cumulativeRevenueB['orders'], label='B')\n",
    "plt.title('Cumulative average check')\n",
    "plt.xlabel('Date')\n",
    "plt.ylabel('Check amount')\n",
    "\n",
    "plt.legend()\n",
    "plt.show()"
   ]
  },
  {
   "cell_type": "markdown",
   "id": "ae155a67",
   "metadata": {},
   "source": [
    "#### Brief conclusions on cumulative average check\n",
    "\n",
    "* Similarly to the graph with cumulative revenue, there is a sharp increase in the middle of the testing period in group B, followed by a gradual decline. At the same time, in group A, the growth is followed by a small decline and then levels off."
   ]
  },
  {
   "cell_type": "markdown",
   "id": "04654ebd",
   "metadata": {},
   "source": [
    "### 4.4 Relative change in cumulative average check of Group B compared to Group A. <a class=\"anchor\" id=\"section4_4\"></a>"
   ]
  },
  {
   "cell_type": "code",
   "execution_count": 24,
   "id": "207a8432",
   "metadata": {},
   "outputs": [
    {
     "data": {
      "image/png": "[encoded data removed]",
      "text/plain": [
       "<Figure size 864x432 with 1 Axes>"
      ]
     },
     "metadata": {
      "needs_background": "light"
     },
     "output_type": "display_data"
    }
   ],
   "source": [
    "# Merging data\n",
    "mergedCumulativeRevenue = cumulativeRevenueA.merge(cumulativeRevenueB, left_on='date', right_on='date', how='left', suffixes=['A', 'B'])\n",
    "\n",
    "# Creating the relation\n",
    "plt.figure(figsize=(12,6))\n",
    "plt.plot(mergedCumulativeRevenue['date'], (mergedCumulativeRevenue['revenueB']/mergedCumulativeRevenue['ordersB'])/(mergedCumulativeRevenue['revenueA']/mergedCumulativeRevenue['ordersA'])-1)\n",
    "plt.title('Relative change in cumulative average check')\n",
    "plt.xlabel('Date')\n",
    "plt.ylabel('Relation of check of Group B to Group A')\n",
    "\n",
    "# Adding x axis\n",
    "plt.axhline(y=0, color='black', linestyle='--') \n",
    "plt.show()"
   ]
  },
  {
   "cell_type": "markdown",
   "id": "26ae2a0e",
   "metadata": {},
   "source": [
    "#### Brief conclusions on cumulative average check relation\n",
    "\n",
    "Judging by the dynamics of the relative change in checks between the groups, one can conclude that there were multiple significant fluctuations towards one of the groups during the testing period, which may indicate the presence of abnormal orders."
   ]
  },
  {
   "cell_type": "markdown",
   "id": "a5e8e5a9",
   "metadata": {},
   "source": [
    "### 4.5 Cumulative average number of orders per users by groups. <a class=\"anchor\" id=\"section4_5\"></a>"
   ]
  },
  {
   "cell_type": "code",
   "execution_count": 25,
   "id": "703572d4",
   "metadata": {},
   "outputs": [
    {
     "data": {
      "image/png": "[encoded data removed]",
      "text/plain": [
       "<Figure size 864x432 with 1 Axes>"
      ]
     },
     "metadata": {
      "needs_background": "light"
     },
     "output_type": "display_data"
    }
   ],
   "source": [
    "# Plotting cumulative average number of orders per user\n",
    "plt.figure(figsize=(12,6))\n",
    "plt.plot(cumulativeRevenueA['date'], cumulativeRevenueA['orders']/cumulativeRevenueA['visitors'], label='A')\n",
    "plt.plot(cumulativeRevenueB['date'], cumulativeRevenueB['orders']/cumulativeRevenueB['visitors'], label='B')\n",
    "plt.title('Cumulative average number of orders per user')\n",
    "plt.xlabel('Date')\n",
    "plt.ylabel('Avg. number of orders per users')\n",
    "plt.legend() \n",
    "plt.show()"
   ]
  },
  {
   "cell_type": "markdown",
   "id": "86cd2804",
   "metadata": {},
   "source": [
    "#### Brief conclusions on cumulative average number of orders per user\n",
    "\n",
    "The dynamics of the number of orders do not correspond to the dynamics of the previous graphs - we observe significant fluctuations between the groups at the very beginning of the testing, with subsequent dominance of group B."
   ]
  },
  {
   "cell_type": "markdown",
   "id": "f1d41e34",
   "metadata": {},
   "source": [
    "### 4.6 Relative change of cumulative average number of orders per user of Group B to Group A. <a class=\"anchor\" id=\"section4_6\"></a>"
   ]
  },
  {
   "cell_type": "code",
   "execution_count": 26,
   "id": "27008a1b",
   "metadata": {},
   "outputs": [
    {
     "data": {
      "image/png": "[encoded data removed]",
      "text/plain": [
       "<Figure size 864x432 with 1 Axes>"
      ]
     },
     "metadata": {
      "needs_background": "light"
     },
     "output_type": "display_data"
    }
   ],
   "source": [
    "# Plotting cumulative average number of orders per user\n",
    "plt.figure(figsize=(12,6))\n",
    "plt.plot(mergedCumulativeRevenue['date'], (mergedCumulativeRevenue['ordersB']/mergedCumulativeRevenue['visitorsB'])/(mergedCumulativeRevenue['ordersA']/mergedCumulativeRevenue['visitorsA'])-1)\n",
    "plt.title('Relative change of cumulative average number of orders per user')\n",
    "plt.xlabel('Data')\n",
    "plt.ylabel('Avg. number of orders per user of Group B to Group A')\n",
    "# Adding x axis\n",
    "plt.axhline(y=0, color='black', linestyle='--') \n",
    "plt.show()"
   ]
  },
  {
   "cell_type": "markdown",
   "id": "a9bc4a48",
   "metadata": {},
   "source": [
    "#### Brief conclusions on relative change of cumulative average number of orders per user\n",
    "\n",
    "* The average number of orders for Group B one week after the start of the test shows a significant difference from the orders of Group A, reaching a maximum value of 20% and staying within 10%-15% for a significant part of the test."
   ]
  },
  {
   "cell_type": "markdown",
   "id": "97736ca9",
   "metadata": {},
   "source": [
    "### 4.7 Scatter plot of the number of orders per user <a class=\"anchor\" id=\"section4_7\"></a>"
   ]
  },
  {
   "cell_type": "code",
   "execution_count": 27,
   "id": "f66d5976",
   "metadata": {},
   "outputs": [
    {
     "data": {
      "image/png": "[encoded data removed]",
      "text/plain": [
       "<Figure size 432x288 with 1 Axes>"
      ]
     },
     "metadata": {
      "needs_background": "light"
     },
     "output_type": "display_data"
    }
   ],
   "source": [
    "ordersByUsers = (\n",
    "    orders.groupby('visitorId', as_index=False)\n",
    "    .agg({'transactionId': 'nunique'})\n",
    ")\n",
    "ordersByUsers.columns = ['visitorId', 'orders']\n",
    "\n",
    "x_values = pd.Series(range(0, len(ordersByUsers)))\n",
    "\n",
    "plt.title('Scatter plot of the number of orders per user')\n",
    "plt.xlabel('Number of users')\n",
    "plt.ylabel('Number of orders')\n",
    "\n",
    "plt.scatter(x_values, ordersByUsers['orders'])\n",
    "plt.show()"
   ]
  },
  {
   "cell_type": "markdown",
   "id": "d62437db",
   "metadata": {},
   "source": [
    "#### Brief conclusions on scatter plot of the number of orders per user\n",
    "\n",
    "*The majority of users made one order, while there are some users with two orders and a small group with a larger number of orders."
   ]
  },
  {
   "cell_type": "markdown",
   "id": "369d0cf3",
   "metadata": {},
   "source": [
    "### 4.8 Calculating the 95th and 99th percentiles of the number of orders per user. <a class=\"anchor\" id=\"section4_8\"></a>"
   ]
  },
  {
   "cell_type": "code",
   "execution_count": 28,
   "id": "6a1c7d8e",
   "metadata": {},
   "outputs": [
    {
     "data": {
      "text/plain": [
       "array([1., 2.])"
      ]
     },
     "execution_count": 28,
     "metadata": {},
     "output_type": "execute_result"
    }
   ],
   "source": [
    "np.percentile(ordersByUsers['orders'], [95, 99])"
   ]
  },
  {
   "cell_type": "code",
   "execution_count": 29,
   "id": "d5225db9",
   "metadata": {},
   "outputs": [],
   "source": [
    "orders_breakpoint = 2"
   ]
  },
  {
   "cell_type": "markdown",
   "id": "56e281bb",
   "metadata": {},
   "source": [
    "#### In order to define abnormal users, we choose 2 orders as a threshold based on the calculation of the 99th percentile."
   ]
  },
  {
   "cell_type": "markdown",
   "id": "ab556cc3",
   "metadata": {},
   "source": [
    "### 4.9 Scatter plot of revenue from orders. <a class=\"anchor\" id=\"section4_9\"></a>"
   ]
  },
  {
   "cell_type": "code",
   "execution_count": 30,
   "id": "cbbf9cba",
   "metadata": {},
   "outputs": [
    {
     "data": {
      "image/png": "[encoded data removed]",
      "text/plain": [
       "<Figure size 432x288 with 1 Axes>"
      ]
     },
     "metadata": {
      "needs_background": "light"
     },
     "output_type": "display_data"
    }
   ],
   "source": [
    "x_values = pd.Series(range(0, len(orders['revenue'])))\n",
    "\n",
    "plt.scatter(x_values, orders['revenue']) \n",
    "\n",
    "plt.title('Scatter plot of revenue from orders')\n",
    "plt.xlabel('Number of users')\n",
    "plt.ylabel('Revenue')\n",
    "\n",
    "plt.show()"
   ]
  },
  {
   "cell_type": "code",
   "execution_count": 31,
   "id": "eb2f4555",
   "metadata": {},
   "outputs": [
    {
     "data": {
      "image/png": "[encoded data removed]",
      "text/plain": [
       "<Figure size 432x288 with 1 Axes>"
      ]
     },
     "metadata": {
      "needs_background": "light"
     },
     "output_type": "display_data"
    }
   ],
   "source": [
    "# Sorting two outliners and plotting without them\n",
    "orders_top2 = orders.sort_values(by='revenue',ascending=False).head(2)['transactionId']\n",
    "\n",
    "orders_wo_top2 = orders[np.logical_not(orders['transactionId'].isin(orders_top2))]\n",
    "\n",
    "x_upd_values = pd.Series(range(0, len(orders_wo_top2['revenue'])))\n",
    "\n",
    "plt.scatter(x_upd_values, orders_wo_top2['revenue']) \n",
    "\n",
    "plt.title('Scatter plot of revenue from orders')\n",
    "plt.xlabel('Number of users')\n",
    "plt.ylabel('Revenue')\n",
    "\n",
    "plt.show()"
   ]
  },
  {
   "cell_type": "markdown",
   "id": "da468170",
   "metadata": {},
   "source": [
    "#### Brief conclusions on scatter plot of revenue from orders\n",
    "\n",
    "* There are two clear outliers among the orders exceeding 200,000;\n",
    "* In the remaining group, the majority of orders fall within the range of up to 30,000."
   ]
  },
  {
   "cell_type": "markdown",
   "id": "2a4132a3",
   "metadata": {},
   "source": [
    "### 4.10 95-th and 99-th percentile of order value  <a class=\"anchor\" id=\"section4_10\"></a>"
   ]
  },
  {
   "cell_type": "code",
   "execution_count": 32,
   "id": "8274d2ed",
   "metadata": {},
   "outputs": [
    {
     "data": {
      "text/plain": [
       "array([26785., 53904.])"
      ]
     },
     "execution_count": 32,
     "metadata": {},
     "output_type": "execute_result"
    }
   ],
   "source": [
    "np.percentile(orders['revenue'], [95, 99])"
   ]
  },
  {
   "cell_type": "code",
   "execution_count": 33,
   "id": "c9bc3106",
   "metadata": {},
   "outputs": [],
   "source": [
    "revenue_breakpoint = 28000"
   ]
  },
  {
   "cell_type": "markdown",
   "id": "ff99141c",
   "metadata": {},
   "source": [
    "#### Let's limit the order cost to slightly above the 95th percentile, which is 28000."
   ]
  },
  {
   "cell_type": "markdown",
   "id": "5cb33a85",
   "metadata": {},
   "source": [
    "### 4.11 Calculation of statistical significance of differences in the average number of orders per visitor between groups based on \"raw\" data. <a class=\"anchor\" id=\"section4_11\"></a>"
   ]
  },
  {
   "cell_type": "markdown",
   "id": "1f4c24aa",
   "metadata": {},
   "source": [
    "#### Formulating hypothesis:\n",
    "* We will assume the absence of a difference in the average number of orders between the groups as the null hypothesis;\n",
    "* The alternative hypothesis is the presence of a significant difference.\n",
    "\n",
    "For best comparison  of the data samples, we will use the **Mann-Whitney** criterion, which is a non-parametric test. The examined data is subject to outliers, and accordingly, parametric tests will show a distorted result. Using a rank-based approach, the Mann-Whitney criterion will avoid this problem and compare the samples not by their values, but by shifts within an ordered sample."
   ]
  },
  {
   "cell_type": "code",
   "execution_count": 34,
   "id": "4da3d3dd",
   "metadata": {},
   "outputs": [],
   "source": [
    "# Combining into sampleA and sampleB order data by groups\n",
    "\n",
    "visitorsADaily = visitors[visitors['group'] == 'A'][['date', 'visitors']]\n",
    "visitorsADaily.columns = ['date', 'visitorsPerDateA']\n",
    "\n",
    "visitorsACummulative = visitorsADaily.apply(\n",
    "    lambda x: visitorsADaily[visitorsADaily['date'] <= x['date']].agg(\n",
    "        {'date': 'max', 'visitorsPerDateA': 'sum'}\n",
    "    ),\n",
    "    axis=1,\n",
    ")\n",
    "visitorsACummulative.columns = ['date', 'visitorsCummulativeA']\n",
    "\n",
    "visitorsBDaily = visitors[visitors['group'] == 'B'][['date', 'visitors']]\n",
    "visitorsBDaily.columns = ['date', 'visitorsPerDateB']\n",
    "\n",
    "visitorsBCummulative = visitorsBDaily.apply(\n",
    "    lambda x: visitorsBDaily[visitorsBDaily['date'] <= x['date']].agg(\n",
    "        {'date': 'max', 'visitorsPerDateB': 'sum'}\n",
    "    ),\n",
    "    axis=1,\n",
    ")\n",
    "visitorsBCummulative.columns = ['date', 'visitorsCummulativeB']\n",
    "\n",
    "ordersADaily = (\n",
    "    orders[orders['group'] == 'A'][['date', 'transactionId', 'visitorId', 'revenue']]\n",
    "    .groupby('date', as_index=False)\n",
    "    .agg({'transactionId': pd.Series.nunique, 'revenue': 'sum'})\n",
    ")\n",
    "ordersADaily.columns = ['date', 'ordersPerDateA', 'revenuePerDateA']\n",
    "\n",
    "ordersACummulative = ordersADaily.apply(\n",
    "    lambda x: ordersADaily[ordersADaily['date'] <= x['date']].agg(\n",
    "        {'date': 'max', 'ordersPerDateA': 'sum', 'revenuePerDateA': 'sum'}\n",
    "    ),\n",
    "    axis=1,\n",
    ").sort_values(by=['date'])\n",
    "ordersACummulative.columns = [\n",
    "    'date',\n",
    "    'ordersCummulativeA',\n",
    "    'revenueCummulativeA',\n",
    "]\n",
    "\n",
    "ordersBDaily = (\n",
    "    orders[orders['group'] == 'B'][['date', 'transactionId', 'visitorId', 'revenue']]\n",
    "    .groupby('date', as_index=False)\n",
    "    .agg({'transactionId': pd.Series.nunique, 'revenue': 'sum'})\n",
    ")\n",
    "ordersBDaily.columns = ['date', 'ordersPerDateB', 'revenuePerDateB']\n",
    "\n",
    "ordersBCummulative = ordersBDaily.apply(\n",
    "    lambda x: ordersBDaily[ordersBDaily['date'] <= x['date']].agg(\n",
    "        {'date': 'max', 'ordersPerDateB': 'sum', 'revenuePerDateB': 'sum'}\n",
    "    ),\n",
    "    axis=1,\n",
    ").sort_values(by=['date'])\n",
    "ordersBCummulative.columns = [\n",
    "    'date',\n",
    "    'ordersCummulativeB',\n",
    "    'revenueCummulativeB',\n",
    "]"
   ]
  },
  {
   "cell_type": "code",
   "execution_count": 35,
   "id": "cda17875",
   "metadata": {},
   "outputs": [],
   "source": [
    "visitors['visitorsPerDateA'] = visitors[visitors['group'] == 'A']['visitors']\n",
    "visitors['visitorsPerDateB'] = visitors[visitors['group'] == 'B']['visitors']\n",
    "\n",
    "ordersByUsersA = (\n",
    "    orders[orders['group'] == 'A']\n",
    "    .groupby('visitorId', as_index=False)\n",
    "    .agg({'transactionId': pd.Series.nunique})\n",
    ")\n",
    "ordersByUsersA.columns = ['visitorId', 'orders']\n",
    "\n",
    "ordersByUsersB = (\n",
    "    orders[orders['group'] == 'B']\n",
    "    .groupby('visitorId', as_index=False)\n",
    "    .agg({'transactionId': pd.Series.nunique})\n",
    ")\n",
    "ordersByUsersB.columns = ['visitorId', 'orders']\n",
    "\n",
    "pd.Series(0, index=np.arange(visitors['visitorsPerDateA'].sum() - len(ordersByUsersA['orders'])), name='orders')\n",
    " \n",
    "[ordersByUsersA['orders'],pd.Series(0, index=np.arange(visitors['visitorsPerDateA'].sum() - len(ordersByUsersA['orders'])), name='orders')]  \n",
    "\n",
    "sampleA = pd.concat([ordersByUsersA['orders'],pd.Series(0, index=np.arange(visitors['visitorsPerDateA'].sum() - len(ordersByUsersA['orders'])), name='orders')],axis=0)\n",
    "\n",
    "sampleB = pd.concat([ordersByUsersB['orders'],pd.Series(0, index=np.arange(visitors['visitorsPerDateB'].sum() - len(ordersByUsersB['orders'])), name='orders')],axis=0)\n",
    "\n",
    "ordersByUsersA = (\n",
    "    orders[orders['group'] == 'A']\n",
    "    .groupby('visitorId', as_index=False)\n",
    "    .agg({'transactionId': pd.Series.nunique})\n",
    ")\n",
    "ordersByUsersA.columns = ['visitorId', 'orders']\n",
    "\n",
    "ordersByUsersB = (\n",
    "    orders[orders['group'] == 'B']\n",
    "    .groupby('visitorId', as_index=False)\n",
    "    .agg({'transactionId': pd.Series.nunique})\n",
    ")\n",
    "ordersByUsersB.columns = ['visitorId', 'orders']\n",
    "\n",
    "sampleA = pd.concat(\n",
    "    [\n",
    "        ordersByUsersA['orders'],\n",
    "        pd.Series(\n",
    "            0,\n",
    "            index=np.arange(\n",
    "                visitors['visitorsPerDateA'].sum() - len(ordersByUsersA['orders'])\n",
    "            ),\n",
    "            name='orders',\n",
    "        ),\n",
    "    ],\n",
    "    axis=0,\n",
    ")\n",
    "\n",
    "sampleB = pd.concat(\n",
    "    [\n",
    "        ordersByUsersB['orders'],\n",
    "        pd.Series(\n",
    "            0,\n",
    "            index=np.arange(\n",
    "                visitors['visitorsPerDateB'].sum() - len(ordersByUsersB['orders'])\n",
    "            ),\n",
    "            name='orders',\n",
    "        ),\n",
    "    ],\n",
    "    axis=0,\n",
    ")"
   ]
  },
  {
   "cell_type": "code",
   "execution_count": 36,
   "id": "3565d350",
   "metadata": {},
   "outputs": [
    {
     "name": "stdout",
     "output_type": "stream",
     "text": [
      "p-value is: 0.006\n",
      "Relative difference is: 0.160\n"
     ]
    }
   ],
   "source": [
    "print(\"p-value is:\", \"{0:.3f}\".format(stats.mannwhitneyu(sampleA, sampleB)[1]))\n",
    "print(\"Relative difference is:\", \"{0:.3f}\".format(sampleB.mean() / sampleA.mean() - 1))"
   ]
  },
  {
   "cell_type": "markdown",
   "id": "74a0ae94",
   "metadata": {},
   "source": [
    "#### Brief conclusions\n",
    "\n",
    "* A p-value below the level of 0.05 indicates that there are reasons to reject the null hypothesis - there are statistically significant differences in the average number of orders between the two groups.\n",
    "* The difference in the mean number of orders between the groups is 16%."
   ]
  },
  {
   "cell_type": "markdown",
   "id": "e249055d",
   "metadata": {},
   "source": [
    "### 4.12 Calculation of statistical significance of the differences in the average order value between groups based on \"raw\" data. <a class=\"anchor\" id=\"section4_12\"></a>"
   ]
  },
  {
   "cell_type": "markdown",
   "id": "b088742c",
   "metadata": {},
   "source": [
    "#### Formulating hypothesis:\n",
    "* We will assume the absence of a difference in the average check between the groups as the null hypothesis;\n",
    "* The alternative hypothesis is the presence of a significant difference."
   ]
  },
  {
   "cell_type": "code",
   "execution_count": 37,
   "id": "39a9b024",
   "metadata": {},
   "outputs": [
    {
     "name": "stdout",
     "output_type": "stream",
     "text": [
      "p-value равен 0.415\n",
      "Относительная разница составляет 0.287\n"
     ]
    }
   ],
   "source": [
    "print(\"p-value равен\", '{0:.3f}'.format(stats.mannwhitneyu(orders[orders['group']=='A']['revenue'], orders[orders['group']=='B']['revenue'])[1]))\n",
    "print(\"Относительная разница составляет\", '{0:.3f}'.format(orders[orders['group']=='B']['revenue'].mean()/orders[orders['group']=='A']['revenue'].mean()-1)) "
   ]
  },
  {
   "cell_type": "markdown",
   "id": "e29bef5f",
   "metadata": {},
   "source": [
    "### 4.13 Calculation of the statistical significance of differences in the average number of orders per visitor between groups based on \"clean\" data. <a class=\"anchor\" id=\"section4_13\"></a>"
   ]
  },
  {
   "cell_type": "code",
   "execution_count": 38,
   "id": "74be4648",
   "metadata": {},
   "outputs": [],
   "source": [
    "# Taking data by previously set order and revenue limits\n",
    "usersWithManyOrders = pd.concat(\n",
    "    [\n",
    "        ordersByUsersA[ordersByUsersA['orders'] > orders_breakpoint]['visitorId'],\n",
    "        ordersByUsersB[ordersByUsersB['orders'] > orders_breakpoint]['visitorId'],\n",
    "    ],\n",
    "    axis=0,\n",
    ")\n",
    "usersWithExpensiveOrders = orders[orders['revenue'] > revenue_breakpoint]['visitorId']\n",
    "abnormalUsers = (\n",
    "    pd.concat([usersWithManyOrders, usersWithExpensiveOrders], axis=0)\n",
    "    .drop_duplicates()\n",
    "    .sort_values()\n",
    ")\n",
    "sampleAFiltered = pd.concat(\n",
    "    [\n",
    "        ordersByUsersA[\n",
    "            np.logical_not(ordersByUsersA['visitorId'].isin(abnormalUsers))\n",
    "        ]['orders'],\n",
    "        pd.Series(\n",
    "            0,\n",
    "            index=np.arange(\n",
    "                visitors['visitorsPerDateA'].sum() - len(ordersByUsersA['orders'])\n",
    "            ),\n",
    "            name='orders',\n",
    "        ),\n",
    "    ],\n",
    "    axis=0,\n",
    ")\n",
    "\n",
    "sampleBFiltered = pd.concat(\n",
    "    [\n",
    "        ordersByUsersB[\n",
    "            np.logical_not(ordersByUsersB['visitorId'].isin(abnormalUsers))\n",
    "        ]['orders'],\n",
    "        pd.Series(\n",
    "            0,\n",
    "            index=np.arange(\n",
    "                visitors['visitorsPerDateB'].sum() - len(ordersByUsersB['orders'])\n",
    "            ),\n",
    "            name='orders',\n",
    "        ),\n",
    "    ],\n",
    "    axis=0,\n",
    ")"
   ]
  },
  {
   "cell_type": "code",
   "execution_count": 39,
   "id": "837fd05a",
   "metadata": {},
   "outputs": [
    {
     "name": "stdout",
     "output_type": "stream",
     "text": [
      "Number of users for exclusion: 55\n",
      "Relative number of users for exclusion: 0.06\n"
     ]
    }
   ],
   "source": [
    "# Checking the loss of users\n",
    "print('Number of users for exclusion:', abnormalUsers.shape[0]) \n",
    "print('Relative number of users for exclusion:',round(abnormalUsers.shape[0]/len(orders['visitorId'].unique()),2))"
   ]
  },
  {
   "cell_type": "markdown",
   "id": "eea3000a",
   "metadata": {},
   "source": [
    "#### The result of comparing the average number of orders between groups on \"clean\" data:"
   ]
  },
  {
   "cell_type": "code",
   "execution_count": 40,
   "id": "93b8953f",
   "metadata": {},
   "outputs": [
    {
     "name": "stdout",
     "output_type": "stream",
     "text": [
      "p-value is equal to: 0.005\n",
      "Relative difference is equal to: 0.189\n"
     ]
    }
   ],
   "source": [
    "print(\"p-value is equal to:\", '{0:.3f}'.format(stats.mannwhitneyu(sampleAFiltered, sampleBFiltered)[1]))\n",
    "print(\"Relative difference is equal to:\", '{0:.3f}'.format(sampleBFiltered.mean()/sampleAFiltered.mean()-1)) "
   ]
  },
  {
   "cell_type": "markdown",
   "id": "b7b88e12",
   "metadata": {},
   "source": [
    "#### Brief conclusions:\n",
    "* \"p-value below the level of 0.05 indicates that there are reasons to reject the null hypothesis - there are statistically significant differences in the average number of orders between the two groups. The conclusion on \"raw\" data is repeated;\n",
    "* The difference in the average number of orders between the groups is 19%.\""
   ]
  },
  {
   "cell_type": "markdown",
   "id": "d48e2d9d",
   "metadata": {},
   "source": [
    "### 4.14 Calculation of the statistical significance of the differences in the average order value between the groups based on \"clean\" data. <a class=\"anchor\" id=\"section4_14\"></a>"
   ]
  },
  {
   "cell_type": "markdown",
   "id": "816dc802",
   "metadata": {},
   "source": [
    "#### Результат сравнения среднего чека между группами на \"очищенных\" данных:"
   ]
  },
  {
   "cell_type": "code",
   "execution_count": 41,
   "id": "7a8be808",
   "metadata": {},
   "outputs": [
    {
     "name": "stdout",
     "output_type": "stream",
     "text": [
      "p-value is: 0.381\n",
      "Relative difference is: -0.022\n"
     ]
    }
   ],
   "source": [
    "print(\"p-value is:\", \n",
    "    '{0:.3f}'.format(\n",
    "        stats.mannwhitneyu(\n",
    "            orders[\n",
    "                np.logical_and(\n",
    "                    orders['group'] == 'A',\n",
    "                    np.logical_not(orders['visitorId'].isin(abnormalUsers)),\n",
    "                )\n",
    "            ]['revenue'],\n",
    "            orders[\n",
    "                np.logical_and(\n",
    "                    orders['group'] == 'B',\n",
    "                    np.logical_not(orders['visitorId'].isin(abnormalUsers)),\n",
    "                )\n",
    "            ]['revenue'],\n",
    "        )[1]\n",
    "    )\n",
    ")\n",
    "\n",
    "print(\"Relative difference is:\", \n",
    "    \"{0:.3f}\".format(\n",
    "        orders[\n",
    "            np.logical_and(\n",
    "                orders['group'] == 'B',\n",
    "                np.logical_not(orders['visitorId'].isin(abnormalUsers)),\n",
    "            )\n",
    "        ]['revenue'].mean()\n",
    "        / orders[\n",
    "            np.logical_and(\n",
    "                orders['group'] == 'A',\n",
    "                np.logical_not(orders['visitorId'].isin(abnormalUsers)),\n",
    "            )\n",
    "        ]['revenue'].mean()\n",
    "        - 1\n",
    "    )\n",
    ") "
   ]
  },
  {
   "cell_type": "markdown",
   "id": "e3326dfb",
   "metadata": {},
   "source": [
    "#### Brief conclusion:\n",
    "* A p-value above **0.05** indicates the lack of reasons to reject the null hypothesis - there are no statistically significant differences in the average check between the two groups. The conclusion on \"raw\" data was repeated;\n",
    "* In the previous calculation on \"raw\" data, the average check of **group B** was higher than **group A** by **28.7%**, but excluding outliers changed the dynamics, and now the average check of **group A** is **2.2%** higher than that of **group B**."
   ]
  },
  {
   "cell_type": "markdown",
   "id": "0134943c",
   "metadata": {},
   "source": [
    "# 5. Results <a class=\"anchor\" id=\"chapter5\"></a>"
   ]
  },
  {
   "cell_type": "markdown",
   "id": "aab6df85",
   "metadata": {},
   "source": [
    "**During the test, the following was revealed:**\n",
    "* Significant differences between groups A and B in the average number of orders. **Group B has a 19% higher rate on \"clean\" data**;\n",
    "* No significant differences between groups A and B in the average check. Group A had **a 28.7% lower rate on \"raw\" data, but higher by 2.2% on \"clean\" data**.\n",
    "The above conclusions obtained using **the Mann-Whitney criterion** were obtained both on \"raw\" and \"clean\" data.<br>\n",
    "The need to clean the data was also confirmed by the significant difference in the average check between the groups: there were abnormally high checks in group B that distorted the mean values.<br>\n",
    "\n",
    "**Proposal based on the analysis above:** record the test results and designate group B as the winner. Despite the minor differences in the check, group B shows a significantly better number of orders."
   ]
  },
  {
   "cell_type": "code",
   "execution_count": null,
   "id": "5a113383",
   "metadata": {},
   "outputs": [],
   "source": []
  }
 ],
 "metadata": {
  "kernelspec": {
   "display_name": "Python 3",
   "language": "python",
   "name": "python3"
  },
  "language_info": {
   "codemirror_mode": {
    "name": "ipython",
    "version": 3
   },
   "file_extension": ".py",
   "mimetype": "text/x-python",
   "name": "python",
   "nbconvert_exporter": "python",
   "pygments_lexer": "ipython3",
   "version": "3.8.8"
  }
 },
 "nbformat": 4,
 "nbformat_minor": 5
}
